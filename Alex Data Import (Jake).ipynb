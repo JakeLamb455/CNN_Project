{
 "cells": [
  {
   "cell_type": "code",
   "execution_count": 40,
   "id": "a724c949",
   "metadata": {},
   "outputs": [],
   "source": [
    "from PIL import Image\n",
    "import os\n",
    "import numpy as np\n",
    "import pandas as pd\n",
    "from sklearn.model_selection import train_test_split"
   ]
  },
  {
   "cell_type": "code",
   "execution_count": 50,
   "id": "c235fdf7",
   "metadata": {},
   "outputs": [],
   "source": [
    "alex_images_path = \"Alex_Kelly_Pics/Alex\"\n",
    "kelly_images_path = \"Alex_Kelly_Pics/Kelly\"\n",
    "test_images_path = \"Alex_Kelly_Pics/TestSet\"\n",
    "\n",
    "def load_images_from_folder(folder):\n",
    "    images = []\n",
    "    for filename in os.listdir(folder):\n",
    "        img = Image.open(os.path.join(folder, filename))\n",
    "        if img is not None:\n",
    "            images.append(np.array(img))\n",
    "    return images\n",
    "\n",
    "alex_images = load_images_from_folder(alex_images_path)\n",
    "kelly_images = load_images_from_folder(kelly_images_path)\n",
    "test_images = load_images_from_folder(test_images_path)"
   ]
  },
  {
   "cell_type": "code",
   "execution_count": 51,
   "id": "b156bb5d",
   "metadata": {},
   "outputs": [
    {
     "name": "stdout",
     "output_type": "stream",
     "text": [
      "Templates have been written to Image_Descriptions.csv\n"
     ]
    }
   ],
   "source": [
    "import os\n",
    "import csv\n",
    "\n",
    "# Define the paths to the directories containing the images\n",
    "\n",
    "# List all images in the directories\n",
    "image_names = os.listdir(alex_images_path) + os.listdir(kelly_images_path)\n",
    "\n",
    "# Define the header for the CSV file\n",
    "header = [\"image_name\", \"Human\", \"Castle\", \"indoors\", \"landscape\", \"Animal\", \"Vehicle\", \"Night\", \"Weather\"]\n",
    "\n",
    "# Create the CSV file and write the header and template rows\n",
    "with open(\"Image_Descriptions.csv\", \"w\", newline='') as file:\n",
    "    writer = csv.writer(file)\n",
    "    writer.writerow(header)  # Write the header\n",
    "    \n",
    "    for image_name in image_names:\n",
    "        # Write a row for each image with empty template fields\n",
    "        writer.writerow([image_name, \"\", \"\", \"\", \"\", \"\", \"\", \"\", \"\"])\n",
    "\n",
    "print(\"Templates have been written to Image_Descriptions.csv\")\n"
   ]
  },
  {
   "cell_type": "code",
   "execution_count": null,
   "id": "215a90d8",
   "metadata": {},
   "outputs": [],
   "source": []
  }
 ],
 "metadata": {
  "kernelspec": {
   "display_name": "Python 3 (ipykernel)",
   "language": "python",
   "name": "python3"
  },
  "language_info": {
   "codemirror_mode": {
    "name": "ipython",
    "version": 3
   },
   "file_extension": ".py",
   "mimetype": "text/x-python",
   "name": "python",
   "nbconvert_exporter": "python",
   "pygments_lexer": "ipython3",
   "version": "3.11.4"
  }
 },
 "nbformat": 4,
 "nbformat_minor": 5
}
