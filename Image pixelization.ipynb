{
 "cells": [
  {
   "cell_type": "raw",
   "id": "b759e5d0-c0d3-47ec-bf96-f0502b405afa",
   "metadata": {
    "tags": []
   },
   "source": [
    "---\n",
    "title: \"Lab 6: CNNs for Photographer Classification\"\n",
    "authors: \"Ben Kessler, Jake Lamb\"\n",
    "date: \"6/3/24\"\n",
    "output: html\n",
    "self-contained: true\n",
    "toc: true\n",
    "theme: cosmo\n",
    "echo: true\n",
    "---"
   ]
  },
  {
   "cell_type": "code",
   "execution_count": 98,
   "id": "8d64344a",
   "metadata": {
    "tags": []
   },
   "outputs": [],
   "source": [
    "#| echo: False\n",
    "from PIL import Image\n",
    "import os\n",
    "import numpy as np\n",
    "import pandas as pd\n",
    "import csv\n",
    "from sklearn.preprocessing import LabelEncoder\n",
    "from sklearn.model_selection import train_test_split\n",
    "from keras.models import Sequential\n",
    "from keras.layers import Dense, Dropout, Flatten, Conv2D, MaxPool2D, AvgPool2D, BatchNormalization, Reshape\n",
    "from tensorflow.keras.preprocessing.image import ImageDataGenerator\n",
    "from keras.callbacks import LearningRateScheduler\n",
    "import matplotlib.pyplot as plt\n",
    "import keras"
   ]
  },
  {
   "cell_type": "markdown",
   "id": "d7fd6a93-5bf2-4d0c-90b3-62dfe5ef9c8b",
   "metadata": {
    "tags": []
   },
   "source": [
    "## Data\n",
    "We will begin by loading in the images and resizing them by padding with black pixels. First we get the largest image size and then pad all of the images so that there is a ring of pixels around the images. This allows the neural network to have the same input sizes but still be able to classify differently sized images."
   ]
  },
  {
   "cell_type": "code",
   "execution_count": 2,
   "id": "90487c27",
   "metadata": {
    "tags": []
   },
   "outputs": [],
   "source": [
    "alex_images_path = \"Alex_Kelly_Pics/Alex\"\n",
    "kelly_images_path = \"Alex_Kelly_Pics/Kelly\"\n",
    "test_images_path = \"Alex_Kelly_Pics/TestSet\"\n",
    "image_labels_path = \"Kelly_and_Alex_Image_Labels - Sheet1.csv\""
   ]
  },
  {
   "cell_type": "code",
   "execution_count": 3,
   "id": "47ef1185",
   "metadata": {
    "tags": []
   },
   "outputs": [],
   "source": [
    "def sorted_image_names(path):\n",
    "    return sorted(os.listdir(path), key=lambda x: int(''.join(filter(str.isdigit, x))))"
   ]
  },
  {
   "cell_type": "code",
   "execution_count": 4,
   "id": "79187f09",
   "metadata": {
    "tags": []
   },
   "outputs": [],
   "source": [
    "alex_image_names = sorted_image_names(alex_images_path)\n",
    "kelly_image_names = sorted_image_names(kelly_images_path)\n",
    "test_image_names = sorted_image_names(test_images_path)\n",
    "\n",
    "image_names = alex_image_names + kelly_image_names"
   ]
  },
  {
   "cell_type": "code",
   "execution_count": 5,
   "id": "88c2ddd5-0e0c-405b-805d-c21cf82a1c47",
   "metadata": {
    "scrolled": true,
    "tags": []
   },
   "outputs": [
    {
     "data": {
      "text/html": [
       "<div>\n",
       "<style scoped>\n",
       "    .dataframe tbody tr th:only-of-type {\n",
       "        vertical-align: middle;\n",
       "    }\n",
       "\n",
       "    .dataframe tbody tr th {\n",
       "        vertical-align: top;\n",
       "    }\n",
       "\n",
       "    .dataframe thead th {\n",
       "        text-align: right;\n",
       "    }\n",
       "</style>\n",
       "<table border=\"1\" class=\"dataframe\">\n",
       "  <thead>\n",
       "    <tr style=\"text-align: right;\">\n",
       "      <th></th>\n",
       "      <th>image_name</th>\n",
       "      <th>Human</th>\n",
       "      <th>Castle</th>\n",
       "      <th>Indoors</th>\n",
       "      <th>Landscape</th>\n",
       "      <th>Woman</th>\n",
       "      <th>Daytime</th>\n",
       "      <th>Children</th>\n",
       "      <th>Sunset</th>\n",
       "      <th>Flower</th>\n",
       "      <th>Animal</th>\n",
       "      <th>Building</th>\n",
       "      <th>Mask</th>\n",
       "      <th>Gray-Hair</th>\n",
       "      <th>Fire</th>\n",
       "      <th>Food_drink</th>\n",
       "    </tr>\n",
       "  </thead>\n",
       "  <tbody>\n",
       "    <tr>\n",
       "      <th>0</th>\n",
       "      <td>Alex-Image01.png</td>\n",
       "      <td>1</td>\n",
       "      <td>0</td>\n",
       "      <td>0</td>\n",
       "      <td>2</td>\n",
       "      <td>0</td>\n",
       "      <td>1</td>\n",
       "      <td>1</td>\n",
       "      <td>0</td>\n",
       "      <td>0</td>\n",
       "      <td>1</td>\n",
       "      <td>0</td>\n",
       "      <td>0</td>\n",
       "      <td>0</td>\n",
       "      <td>0</td>\n",
       "      <td>0</td>\n",
       "    </tr>\n",
       "    <tr>\n",
       "      <th>1</th>\n",
       "      <td>Alex-Image02.png</td>\n",
       "      <td>1</td>\n",
       "      <td>0</td>\n",
       "      <td>0</td>\n",
       "      <td>2</td>\n",
       "      <td>0</td>\n",
       "      <td>1</td>\n",
       "      <td>1</td>\n",
       "      <td>0</td>\n",
       "      <td>0</td>\n",
       "      <td>0</td>\n",
       "      <td>1</td>\n",
       "      <td>0</td>\n",
       "      <td>0</td>\n",
       "      <td>0</td>\n",
       "      <td>0</td>\n",
       "    </tr>\n",
       "    <tr>\n",
       "      <th>2</th>\n",
       "      <td>Alex-Image03.png</td>\n",
       "      <td>0</td>\n",
       "      <td>0</td>\n",
       "      <td>0</td>\n",
       "      <td>0</td>\n",
       "      <td>0</td>\n",
       "      <td>1</td>\n",
       "      <td>0</td>\n",
       "      <td>0</td>\n",
       "      <td>0</td>\n",
       "      <td>0</td>\n",
       "      <td>1</td>\n",
       "      <td>0</td>\n",
       "      <td>0</td>\n",
       "      <td>0</td>\n",
       "      <td>0</td>\n",
       "    </tr>\n",
       "    <tr>\n",
       "      <th>3</th>\n",
       "      <td>Alex-Image04.png</td>\n",
       "      <td>0</td>\n",
       "      <td>0</td>\n",
       "      <td>0</td>\n",
       "      <td>1</td>\n",
       "      <td>0</td>\n",
       "      <td>1</td>\n",
       "      <td>0</td>\n",
       "      <td>0</td>\n",
       "      <td>0</td>\n",
       "      <td>0</td>\n",
       "      <td>0</td>\n",
       "      <td>0</td>\n",
       "      <td>0</td>\n",
       "      <td>0</td>\n",
       "      <td>0</td>\n",
       "    </tr>\n",
       "    <tr>\n",
       "      <th>4</th>\n",
       "      <td>Alex-Image05.png</td>\n",
       "      <td>0</td>\n",
       "      <td>0</td>\n",
       "      <td>0</td>\n",
       "      <td>1</td>\n",
       "      <td>0</td>\n",
       "      <td>1</td>\n",
       "      <td>0</td>\n",
       "      <td>0</td>\n",
       "      <td>0</td>\n",
       "      <td>0</td>\n",
       "      <td>0</td>\n",
       "      <td>0</td>\n",
       "      <td>0</td>\n",
       "      <td>0</td>\n",
       "      <td>0</td>\n",
       "    </tr>\n",
       "    <tr>\n",
       "      <th>...</th>\n",
       "      <td>...</td>\n",
       "      <td>...</td>\n",
       "      <td>...</td>\n",
       "      <td>...</td>\n",
       "      <td>...</td>\n",
       "      <td>...</td>\n",
       "      <td>...</td>\n",
       "      <td>...</td>\n",
       "      <td>...</td>\n",
       "      <td>...</td>\n",
       "      <td>...</td>\n",
       "      <td>...</td>\n",
       "      <td>...</td>\n",
       "      <td>...</td>\n",
       "      <td>...</td>\n",
       "      <td>...</td>\n",
       "    </tr>\n",
       "    <tr>\n",
       "      <th>480</th>\n",
       "      <td>Kelly-Image225.png</td>\n",
       "      <td>0</td>\n",
       "      <td>0</td>\n",
       "      <td>0</td>\n",
       "      <td>1</td>\n",
       "      <td>0</td>\n",
       "      <td>1</td>\n",
       "      <td>0</td>\n",
       "      <td>0</td>\n",
       "      <td>1</td>\n",
       "      <td>1</td>\n",
       "      <td>0</td>\n",
       "      <td>0</td>\n",
       "      <td>0</td>\n",
       "      <td>0</td>\n",
       "      <td>0</td>\n",
       "    </tr>\n",
       "    <tr>\n",
       "      <th>481</th>\n",
       "      <td>Kelly-Image226.png</td>\n",
       "      <td>0</td>\n",
       "      <td>0</td>\n",
       "      <td>0</td>\n",
       "      <td>1</td>\n",
       "      <td>0</td>\n",
       "      <td>0</td>\n",
       "      <td>0</td>\n",
       "      <td>1</td>\n",
       "      <td>1</td>\n",
       "      <td>0</td>\n",
       "      <td>0</td>\n",
       "      <td>0</td>\n",
       "      <td>0</td>\n",
       "      <td>0</td>\n",
       "      <td>0</td>\n",
       "    </tr>\n",
       "    <tr>\n",
       "      <th>482</th>\n",
       "      <td>Kelly-Image227.png</td>\n",
       "      <td>1</td>\n",
       "      <td>0</td>\n",
       "      <td>1</td>\n",
       "      <td>0</td>\n",
       "      <td>0</td>\n",
       "      <td>0</td>\n",
       "      <td>0</td>\n",
       "      <td>0</td>\n",
       "      <td>0</td>\n",
       "      <td>1</td>\n",
       "      <td>1</td>\n",
       "      <td>0</td>\n",
       "      <td>0</td>\n",
       "      <td>0</td>\n",
       "      <td>0</td>\n",
       "    </tr>\n",
       "    <tr>\n",
       "      <th>483</th>\n",
       "      <td>Kelly-Image228.png</td>\n",
       "      <td>1</td>\n",
       "      <td>0</td>\n",
       "      <td>0</td>\n",
       "      <td>0</td>\n",
       "      <td>0</td>\n",
       "      <td>1</td>\n",
       "      <td>0</td>\n",
       "      <td>0</td>\n",
       "      <td>0</td>\n",
       "      <td>0</td>\n",
       "      <td>1</td>\n",
       "      <td>0</td>\n",
       "      <td>0</td>\n",
       "      <td>0</td>\n",
       "      <td>0</td>\n",
       "    </tr>\n",
       "    <tr>\n",
       "      <th>484</th>\n",
       "      <td>Kelly-Image229.png</td>\n",
       "      <td>1</td>\n",
       "      <td>0</td>\n",
       "      <td>1</td>\n",
       "      <td>0</td>\n",
       "      <td>1</td>\n",
       "      <td>0</td>\n",
       "      <td>0</td>\n",
       "      <td>0</td>\n",
       "      <td>0</td>\n",
       "      <td>0</td>\n",
       "      <td>1</td>\n",
       "      <td>0</td>\n",
       "      <td>0</td>\n",
       "      <td>0</td>\n",
       "      <td>0</td>\n",
       "    </tr>\n",
       "  </tbody>\n",
       "</table>\n",
       "<p>485 rows × 16 columns</p>\n",
       "</div>"
      ],
      "text/plain": [
       "             image_name  Human  Castle  Indoors  Landscape  Woman  Daytime  \\\n",
       "0      Alex-Image01.png      1       0        0          2      0        1   \n",
       "1      Alex-Image02.png      1       0        0          2      0        1   \n",
       "2      Alex-Image03.png      0       0        0          0      0        1   \n",
       "3      Alex-Image04.png      0       0        0          1      0        1   \n",
       "4      Alex-Image05.png      0       0        0          1      0        1   \n",
       "..                  ...    ...     ...      ...        ...    ...      ...   \n",
       "480  Kelly-Image225.png      0       0        0          1      0        1   \n",
       "481  Kelly-Image226.png      0       0        0          1      0        0   \n",
       "482  Kelly-Image227.png      1       0        1          0      0        0   \n",
       "483  Kelly-Image228.png      1       0        0          0      0        1   \n",
       "484  Kelly-Image229.png      1       0        1          0      1        0   \n",
       "\n",
       "     Children  Sunset  Flower  Animal  Building  Mask  Gray-Hair  Fire  \\\n",
       "0           1       0       0       1         0     0          0     0   \n",
       "1           1       0       0       0         1     0          0     0   \n",
       "2           0       0       0       0         1     0          0     0   \n",
       "3           0       0       0       0         0     0          0     0   \n",
       "4           0       0       0       0         0     0          0     0   \n",
       "..        ...     ...     ...     ...       ...   ...        ...   ...   \n",
       "480         0       0       1       1         0     0          0     0   \n",
       "481         0       1       1       0         0     0          0     0   \n",
       "482         0       0       0       1         1     0          0     0   \n",
       "483         0       0       0       0         1     0          0     0   \n",
       "484         0       0       0       0         1     0          0     0   \n",
       "\n",
       "     Food_drink  \n",
       "0             0  \n",
       "1             0  \n",
       "2             0  \n",
       "3             0  \n",
       "4             0  \n",
       "..          ...  \n",
       "480           0  \n",
       "481           0  \n",
       "482           0  \n",
       "483           0  \n",
       "484           0  \n",
       "\n",
       "[485 rows x 16 columns]"
      ]
     },
     "execution_count": 5,
     "metadata": {},
     "output_type": "execute_result"
    }
   ],
   "source": [
    "labels = pd.read_csv(image_labels_path)\n",
    "le = LabelEncoder().fit(labels[\"Landscape\"])\n",
    "labels[\"Landscape\"] = le.transform(labels[\"Landscape\"])\n",
    "labels"
   ]
  },
  {
   "cell_type": "code",
   "execution_count": 6,
   "id": "925c9f67",
   "metadata": {
    "tags": []
   },
   "outputs": [],
   "source": [
    "labels['Photographer'] = labels['image_name'].str.split('-', n = 1).str[0]"
   ]
  },
  {
   "cell_type": "code",
   "execution_count": 7,
   "id": "0c061f5c",
   "metadata": {
    "tags": []
   },
   "outputs": [],
   "source": [
    "le = LabelEncoder().fit(labels[\"Photographer\"])\n",
    "labels[\"Photographer\"] = le.transform(labels[\"Photographer\"])"
   ]
  },
  {
   "cell_type": "code",
   "execution_count": 17,
   "id": "533776f9-43aa-481c-b901-b881f4ab2d5d",
   "metadata": {
    "tags": []
   },
   "outputs": [],
   "source": [
    "def get_largest_size(folder):\n",
    "    biggest_image = [0, 0]\n",
    "    for filename in os.listdir(folder):\n",
    "        img = Image.open(os.path.join(folder, filename))\n",
    "        if img.size[0] > biggest_image[0]: \n",
    "            biggest_image[0] = img.size[0]\n",
    "        if img.size[1] > biggest_image[1]:\n",
    "            biggest_image[1] = img.size[1]\n",
    "    return biggest_image"
   ]
  },
  {
   "cell_type": "code",
   "execution_count": 19,
   "id": "d51c0b16-8e5b-4e8f-82a3-dd3cddd6ad1d",
   "metadata": {
    "tags": []
   },
   "outputs": [
    {
     "name": "stdout",
     "output_type": "stream",
     "text": [
      "Max Image Sizes: [667, 400]\n"
     ]
    }
   ],
   "source": [
    "alex_im_size = get_largest_size(alex_images_path)\n",
    "kelly_im_size = get_largest_size(kelly_images_path)\n",
    "test_im_size = get_largest_size(test_images_path)\n",
    "\n",
    "print(\"Max Image Sizes:\", max(alex_im_size, kelly_im_size, test_im_size))"
   ]
  },
  {
   "cell_type": "code",
   "execution_count": 21,
   "id": "0e683d21-5286-4132-ab8b-27b8479ee178",
   "metadata": {
    "tags": []
   },
   "outputs": [],
   "source": [
    "def resize_and_pad(image_path, size=(700, 440)):\n",
    "    \"\"\"\n",
    "    Resize and pad an image to the specified size.\n",
    "    \n",
    "    :param image_path: Path to the input image.\n",
    "    :param output_path: Path to save the output image.\n",
    "    :param size: Desired output size (width, height).\n",
    "    \"\"\"\n",
    "    image = Image.open(image_path).convert(\"RGB\")\n",
    "    original_size = image.size\n",
    "    \n",
    "    # Calculate new size while maintaining aspect ratio\n",
    "    ratio = min(size[0]/original_size[0], size[1]/original_size[1])\n",
    "    new_size = (int(original_size[0] * ratio), int(original_size[1] * ratio))\n",
    "    resized_image = image.resize(new_size)\n",
    "    \n",
    "    # Create a new image with the desired size and pad the resized image\n",
    "    new_image = Image.new(\"RGB\", size, (0, 0, 0))  # Change color (0, 0, 0) to your desired padding color\n",
    "    new_image.paste(resized_image, ((size[0] - new_size[0]) // 2, (size[1] - new_size[1]) // 2))\n",
    "    \n",
    "    # new_image.save(output_path)\n",
    "    return new_image"
   ]
  },
  {
   "cell_type": "code",
   "execution_count": 23,
   "id": "b5274278",
   "metadata": {
    "tags": []
   },
   "outputs": [],
   "source": [
    "def load_images_from_folder(folder, resize_shape=(700, 440)):\n",
    "    images = []\n",
    "    new_images = []\n",
    "    image_names = []\n",
    "    count = 0\n",
    "    for filename in os.listdir(folder):\n",
    "        count += 1\n",
    "        # img = Image.open(os.path.join(folder, filename)).convert('RGB')\n",
    "        img = resize_and_pad(os.path.join(folder, filename), resize_shape)\n",
    "        if img is not None:\n",
    "            img_array = np.array(img)\n",
    "            img_array = img_array.flatten()\n",
    "            attr = labels[labels[\"image_name\"] == filename].drop(\"image_name\", axis = 1).to_numpy()\n",
    "            img_array = np.append(img_array, attr)\n",
    "            images.append(img_array)\n",
    "            \n",
    "        if count % int(len(os.listdir(folder)) / 10) == 0:\n",
    "            print(f\"{count / len(os.listdir(folder))*100}% Complete\")\n",
    "    return images"
   ]
  },
  {
   "cell_type": "code",
   "execution_count": 31,
   "id": "d832ff32-f0b1-42a8-90f2-581ea8d620ad",
   "metadata": {
    "tags": []
   },
   "outputs": [
    {
     "name": "stdout",
     "output_type": "stream",
     "text": [
      "9.765625% Complete\n",
      "19.53125% Complete\n",
      "29.296875% Complete\n",
      "39.0625% Complete\n",
      "48.828125% Complete\n",
      "58.59375% Complete\n",
      "68.359375% Complete\n",
      "78.125% Complete\n",
      "87.890625% Complete\n",
      "97.65625% Complete\n",
      "9.606986899563319% Complete\n",
      "19.213973799126638% Complete\n",
      "28.82096069868996% Complete\n",
      "38.427947598253276% Complete\n",
      "48.03493449781659% Complete\n",
      "57.64192139737992% Complete\n",
      "67.24890829694323% Complete\n",
      "76.85589519650655% Complete\n",
      "86.46288209606988% Complete\n",
      "96.06986899563319% Complete\n",
      "10.0% Complete\n",
      "20.0% Complete\n",
      "30.0% Complete\n",
      "40.0% Complete\n",
      "50.0% Complete\n",
      "60.0% Complete\n",
      "70.0% Complete\n",
      "80.0% Complete\n",
      "90.0% Complete\n",
      "100.0% Complete\n"
     ]
    }
   ],
   "source": [
    "alex_images = load_images_from_folder(alex_images_path)\n",
    "kelly_images = load_images_from_folder(kelly_images_path)\n",
    "test_images = load_images_from_folder(test_images_path)"
   ]
  },
  {
   "cell_type": "code",
   "execution_count": 32,
   "id": "9ef33b14-2122-4f55-afa7-21b8e6f023c6",
   "metadata": {
    "tags": []
   },
   "outputs": [],
   "source": [
    "test_images = np.array(test_images)\n",
    "test_images = test_images / 255.0\n",
    "test_images = test_images.reshape(test_images.shape[0], 700, 440, 3)"
   ]
  },
  {
   "cell_type": "code",
   "execution_count": 33,
   "id": "bc48c90a-8a7a-437a-a249-03df749a67d4",
   "metadata": {
    "tags": []
   },
   "outputs": [
    {
     "data": {
      "text/plain": [
       "array([[0, 0, 0, ..., 0, 0, 0],\n",
       "       [0, 0, 0, ..., 0, 0, 0],\n",
       "       [0, 0, 0, ..., 0, 0, 0],\n",
       "       ...,\n",
       "       [0, 0, 0, ..., 0, 0, 1],\n",
       "       [0, 0, 0, ..., 0, 0, 1],\n",
       "       [0, 0, 0, ..., 0, 0, 1]], dtype=int64)"
      ]
     },
     "execution_count": 33,
     "metadata": {},
     "output_type": "execute_result"
    }
   ],
   "source": [
    "merged_dataset = np.concatenate([alex_images, kelly_images])\n",
    "del(alex_images, kelly_images) # Free up memory\n",
    "merged_dataset"
   ]
  },
  {
   "cell_type": "code",
   "execution_count": 37,
   "id": "41f50a2e-40db-4abe-9105-69ea501220dc",
   "metadata": {
    "tags": []
   },
   "outputs": [
    {
     "data": {
      "text/plain": [
       "{'Human': 924000,\n",
       " 'Castle': 924001,\n",
       " 'Indoors': 924002,\n",
       " 'Landscape': 924003,\n",
       " 'Woman': 924004,\n",
       " 'Daytime': 924005,\n",
       " 'Children': 924006,\n",
       " 'Sunset': 924007,\n",
       " 'Flower': 924008,\n",
       " 'Animal': 924009,\n",
       " 'Building': 924010,\n",
       " 'Mask': 924011,\n",
       " 'Gray-Hair': 924012,\n",
       " 'Fire': 924013,\n",
       " 'Food_drink': 924014,\n",
       " 'Photographer': 924015}"
      ]
     },
     "execution_count": 37,
     "metadata": {},
     "output_type": "execute_result"
    }
   ],
   "source": [
    "num_attributes = labels.shape[1] - 1\n",
    "\n",
    "attribute_index = list(range(924000, 924000+num_attributes))\n",
    "\n",
    "attributes = [col for col in labels.columns if col != \"image_name\"]\n",
    "\n",
    "attr_dict = dict(zip(attributes, attribute_index))\n",
    "attr_dict"
   ]
  },
  {
   "cell_type": "code",
   "execution_count": 160,
   "id": "83f13964-a82b-45b8-8faf-4220361bb108",
   "metadata": {
    "tags": []
   },
   "outputs": [],
   "source": [
    "# np.savetxt(X = merged_dataset, fname = \"Complete_training_data.csv\", delimiter=\",\")"
   ]
  },
  {
   "cell_type": "markdown",
   "id": "e502a5d3-ca6a-49e0-99f6-5a1e40c57e16",
   "metadata": {
    "jp-MarkdownHeadingCollapsed": true,
    "tags": []
   },
   "source": [
    "# Approach 1\n",
    "We will begin by building Convelutional Neural Networks to attempt to classify 14 different features in the image set. We will then use these images to predict these features for a set of test images. Then we will train one final model using the features as inputs and the photographer of the picture as the target variable. We will then test the model by feeding it the test image predicted features."
   ]
  },
  {
   "cell_type": "markdown",
   "id": "e767fd27-0673-4a54-8c4b-fcddb63de96a",
   "metadata": {
    "tags": []
   },
   "source": [
    "## CNN - Human"
   ]
  },
  {
   "cell_type": "code",
   "execution_count": 164,
   "id": "9fe46dc8-5c5d-4501-9cf2-3646ba76673a",
   "metadata": {
    "tags": []
   },
   "outputs": [],
   "source": [
    "X = merged_dataset[:, 0:924000]\n",
    "X = X / 255.0\n",
    "y = merged_dataset[:, attr_dict[\"Human\"]]\n",
    "\n",
    "X_train, X_test, y_train, y_test = train_test_split(X, y)\n",
    "X_train = X_train.reshape(X_train.shape[0],700,440,3)\n",
    "X_test = X_test.reshape(X_test.shape[0],700,440,3)\n",
    "\n",
    "annealer = LearningRateScheduler(lambda x: 1e-3 * 0.95 ** x, verbose=0)\n",
    "styles=[':','-.','--','-',':','-.','--','-',':','-.','--','-']"
   ]
  },
  {
   "cell_type": "code",
   "execution_count": 165,
   "id": "d50cf50e-03eb-46e2-992a-0abf589f96d7",
   "metadata": {
    "tags": []
   },
   "outputs": [
    {
     "name": "stderr",
     "output_type": "stream",
     "text": [
      "C:\\Users\\Bnkes\\anaconda3\\Lib\\site-packages\\keras\\src\\layers\\convolutional\\base_conv.py:107: UserWarning: Do not pass an `input_shape`/`input_dim` argument to a layer. When using Sequential models, prefer using an `Input(shape)` object as the first layer in the model instead.\n",
      "  super().__init__(activity_regularizer=activity_regularizer, **kwargs)\n"
     ]
    }
   ],
   "source": [
    "model = Sequential()\n",
    "model.add(Conv2D(24,kernel_size=5,padding='same',activation='relu',\n",
    "        input_shape=(700,440,3)))\n",
    "model.add(MaxPool2D())\n",
    "model.add(Conv2D(48,kernel_size=5,padding='same',activation='relu'))\n",
    "model.add(MaxPool2D())\n",
    "model.add(Conv2D(64,kernel_size=5,padding='same',activation='relu'))\n",
    "model.add(MaxPool2D(padding='same'))\n",
    "model.add(Flatten())\n",
    "model.add(Dense(256, activation='relu'))\n",
    "model.add(Dense(1, activation='sigmoid'))\n",
    "model.compile(optimizer=\"adam\", loss=\"binary_crossentropy\", metrics=[\"accuracy\"])"
   ]
  },
  {
   "cell_type": "code",
   "execution_count": 168,
   "id": "8757aa8b-0310-44fd-8f5c-da2f20d86c11",
   "metadata": {
    "tags": []
   },
   "outputs": [
    {
     "name": "stdout",
     "output_type": "stream",
     "text": [
      "Epoch 1/20\n",
      "12/12 - 20s - 2s/step - accuracy: 0.6915 - loss: 4.0867 - val_accuracy: 0.7377 - val_loss: 0.6231 - learning_rate: 0.0010\n",
      "Epoch 2/20\n",
      "12/12 - 18s - 2s/step - accuracy: 0.7107 - loss: 0.5795 - val_accuracy: 0.7213 - val_loss: 0.5572 - learning_rate: 9.5000e-04\n",
      "Epoch 3/20\n",
      "12/12 - 18s - 2s/step - accuracy: 0.7493 - loss: 0.5021 - val_accuracy: 0.7295 - val_loss: 0.5362 - learning_rate: 9.0250e-04\n",
      "Epoch 4/20\n",
      "12/12 - 18s - 2s/step - accuracy: 0.7438 - loss: 0.5087 - val_accuracy: 0.7049 - val_loss: 0.5724 - learning_rate: 8.5737e-04\n",
      "Epoch 5/20\n",
      "12/12 - 18s - 2s/step - accuracy: 0.7521 - loss: 0.5189 - val_accuracy: 0.7049 - val_loss: 0.5775 - learning_rate: 8.1451e-04\n",
      "Epoch 6/20\n",
      "12/12 - 18s - 2s/step - accuracy: 0.7576 - loss: 0.4807 - val_accuracy: 0.7131 - val_loss: 0.5804 - learning_rate: 7.7378e-04\n",
      "Epoch 7/20\n",
      "12/12 - 19s - 2s/step - accuracy: 0.7603 - loss: 0.4825 - val_accuracy: 0.6967 - val_loss: 0.5939 - learning_rate: 7.3509e-04\n",
      "Epoch 8/20\n",
      "12/12 - 18s - 2s/step - accuracy: 0.7576 - loss: 0.4828 - val_accuracy: 0.7295 - val_loss: 0.6244 - learning_rate: 6.9834e-04\n",
      "Epoch 9/20\n",
      "12/12 - 18s - 2s/step - accuracy: 0.7686 - loss: 0.5137 - val_accuracy: 0.7213 - val_loss: 0.5878 - learning_rate: 6.6342e-04\n",
      "Epoch 10/20\n",
      "12/12 - 18s - 2s/step - accuracy: 0.7658 - loss: 0.5229 - val_accuracy: 0.6803 - val_loss: 0.6091 - learning_rate: 6.3025e-04\n",
      "Epoch 11/20\n",
      "12/12 - 18s - 2s/step - accuracy: 0.7493 - loss: 0.4700 - val_accuracy: 0.7295 - val_loss: 0.6154 - learning_rate: 5.9874e-04\n",
      "Epoch 12/20\n",
      "12/12 - 18s - 2s/step - accuracy: 0.7713 - loss: 0.4554 - val_accuracy: 0.6967 - val_loss: 0.6283 - learning_rate: 5.6880e-04\n",
      "Epoch 13/20\n",
      "12/12 - 18s - 2s/step - accuracy: 0.7851 - loss: 0.4502 - val_accuracy: 0.7049 - val_loss: 0.6263 - learning_rate: 5.4036e-04\n",
      "Epoch 14/20\n",
      "12/12 - 18s - 2s/step - accuracy: 0.7851 - loss: 0.4419 - val_accuracy: 0.7459 - val_loss: 0.6150 - learning_rate: 5.1334e-04\n",
      "Epoch 15/20\n",
      "12/12 - 18s - 2s/step - accuracy: 0.7961 - loss: 0.4348 - val_accuracy: 0.7705 - val_loss: 0.6214 - learning_rate: 4.8767e-04\n",
      "Epoch 16/20\n",
      "12/12 - 18s - 2s/step - accuracy: 0.7961 - loss: 0.4277 - val_accuracy: 0.7131 - val_loss: 0.5992 - learning_rate: 4.6329e-04\n",
      "Epoch 17/20\n",
      "12/12 - 18s - 2s/step - accuracy: 0.8292 - loss: 0.4017 - val_accuracy: 0.7705 - val_loss: 0.5720 - learning_rate: 4.4013e-04\n",
      "Epoch 18/20\n",
      "12/12 - 18s - 2s/step - accuracy: 0.8127 - loss: 0.3955 - val_accuracy: 0.7131 - val_loss: 0.6203 - learning_rate: 4.1812e-04\n",
      "Epoch 19/20\n",
      "12/12 - 18s - 2s/step - accuracy: 0.8182 - loss: 0.3944 - val_accuracy: 0.7377 - val_loss: 0.6492 - learning_rate: 3.9721e-04\n",
      "Epoch 20/20\n",
      "12/12 - 18s - 2s/step - accuracy: 0.8512 - loss: 0.3615 - val_accuracy: 0.7459 - val_loss: 0.6048 - learning_rate: 3.7735e-04\n"
     ]
    }
   ],
   "source": [
    "epochs = 20\n",
    "history = model.fit(X_train, y_train, batch_size=32, epochs = epochs, \n",
    "validation_data = (X_test, y_test), callbacks=[annealer], verbose=2)"
   ]
  },
  {
   "cell_type": "code",
   "execution_count": 169,
   "id": "bbd03868-34f7-447b-990b-bad1febfaeef",
   "metadata": {
    "tags": []
   },
   "outputs": [
    {
     "name": "stdout",
     "output_type": "stream",
     "text": [
      "\u001b[1m1/1\u001b[0m \u001b[32m━━━━━━━━━━━━━━━━━━━━\u001b[0m\u001b[37m\u001b[0m \u001b[1m0s\u001b[0m 305ms/step\n"
     ]
    }
   ],
   "source": [
    "Human_predictions = model.predict(test_images)\n",
    "\n",
    "Human_predictions = (Human_predictions >= .5).astype(int)"
   ]
  },
  {
   "cell_type": "code",
   "execution_count": 170,
   "id": "8aad76ac-f4cc-4cce-bc9f-774d759a94e2",
   "metadata": {
    "tags": []
   },
   "outputs": [
    {
     "data": {
      "image/png": "[encoded data removed]",
      "text/plain": [
       "<Figure size 1500x500 with 1 Axes>"
      ]
     },
     "metadata": {},
     "output_type": "display_data"
    }
   ],
   "source": [
    "plt.figure(figsize=(15,5))\n",
    "plt.plot(history.history['val_accuracy'])\n",
    "plt.title('model accuracy')\n",
    "plt.ylabel('accuracy')\n",
    "plt.xlabel('epoch')\n",
    "axes = plt.gca()\n",
    "axes.set_ylim([0.60,1])\n",
    "plt.show()"
   ]
  },
  {
   "cell_type": "markdown",
   "id": "2ba49ce6-f00e-450f-b71b-46069d3083fb",
   "metadata": {},
   "source": [
    "## CNN - Castle"
   ]
  },
  {
   "cell_type": "code",
   "execution_count": 171,
   "id": "dab4d2c2-0630-4b6b-bb87-02b0e0a5f678",
   "metadata": {
    "tags": []
   },
   "outputs": [],
   "source": [
    "X = merged_dataset[:, 0:924000]\n",
    "X = X / 255.0\n",
    "y = merged_dataset[:, attr_dict[\"Castle\"]]\n",
    "\n",
    "X_train, X_test, y_train, y_test = train_test_split(X, y)\n",
    "X_train = X_train.reshape(X_train.shape[0],700,440,3)\n",
    "X_test = X_test.reshape(X_test.shape[0],700,440,3)\n",
    "\n",
    "annealer = LearningRateScheduler(lambda x: 1e-3 * 0.95 ** x, verbose=0)\n",
    "styles=[':','-.','--','-',':','-.','--','-',':','-.','--','-']"
   ]
  },
  {
   "cell_type": "code",
   "execution_count": 172,
   "id": "316efc60-8977-44e0-b0ff-a9ad4607879e",
   "metadata": {
    "tags": []
   },
   "outputs": [
    {
     "name": "stderr",
     "output_type": "stream",
     "text": [
      "C:\\Users\\Bnkes\\anaconda3\\Lib\\site-packages\\keras\\src\\layers\\convolutional\\base_conv.py:107: UserWarning: Do not pass an `input_shape`/`input_dim` argument to a layer. When using Sequential models, prefer using an `Input(shape)` object as the first layer in the model instead.\n",
      "  super().__init__(activity_regularizer=activity_regularizer, **kwargs)\n"
     ]
    }
   ],
   "source": [
    "model = Sequential()\n",
    "model.add(Conv2D(24,kernel_size=5,padding='same',activation='relu',\n",
    "        input_shape=(700,440,3)))\n",
    "model.add(MaxPool2D())\n",
    "model.add(Conv2D(48,kernel_size=5,padding='same',activation='relu'))\n",
    "model.add(MaxPool2D())\n",
    "model.add(Conv2D(64,kernel_size=5,padding='same',activation='relu'))\n",
    "model.add(MaxPool2D(padding='same'))\n",
    "model.add(Flatten())\n",
    "model.add(Dense(256, activation='relu'))\n",
    "model.add(Dense(1, activation='sigmoid'))\n",
    "model.compile(optimizer=\"adam\", loss=\"binary_crossentropy\", metrics=[\"accuracy\"])"
   ]
  },
  {
   "cell_type": "code",
   "execution_count": 173,
   "id": "c76219bd-4a4a-416d-b5da-dbe8b9820d00",
   "metadata": {
    "tags": []
   },
   "outputs": [
    {
     "name": "stdout",
     "output_type": "stream",
     "text": [
      "Epoch 1/20\n",
      "12/12 - 20s - 2s/step - accuracy: 0.8540 - loss: 2.4484 - val_accuracy: 0.9426 - val_loss: 0.2644 - learning_rate: 0.0010\n",
      "Epoch 2/20\n",
      "12/12 - 18s - 2s/step - accuracy: 0.9201 - loss: 0.2913 - val_accuracy: 0.9426 - val_loss: 0.2317 - learning_rate: 9.5000e-04\n",
      "Epoch 3/20\n",
      "12/12 - 18s - 2s/step - accuracy: 0.9229 - loss: 0.2535 - val_accuracy: 0.8934 - val_loss: 0.3097 - learning_rate: 9.0250e-04\n",
      "Epoch 4/20\n",
      "12/12 - 18s - 2s/step - accuracy: 0.9201 - loss: 0.2292 - val_accuracy: 0.9098 - val_loss: 0.2650 - learning_rate: 8.5737e-04\n",
      "Epoch 5/20\n",
      "12/12 - 18s - 2s/step - accuracy: 0.9339 - loss: 0.2113 - val_accuracy: 0.9262 - val_loss: 0.2706 - learning_rate: 8.1451e-04\n",
      "Epoch 6/20\n",
      "12/12 - 18s - 2s/step - accuracy: 0.9339 - loss: 0.2187 - val_accuracy: 0.9344 - val_loss: 0.2429 - learning_rate: 7.7378e-04\n",
      "Epoch 7/20\n",
      "12/12 - 18s - 2s/step - accuracy: 0.9339 - loss: 0.2022 - val_accuracy: 0.9262 - val_loss: 0.2953 - learning_rate: 7.3509e-04\n",
      "Epoch 8/20\n",
      "12/12 - 18s - 2s/step - accuracy: 0.9421 - loss: 0.1771 - val_accuracy: 0.8770 - val_loss: 0.2872 - learning_rate: 6.9834e-04\n",
      "Epoch 9/20\n",
      "12/12 - 18s - 2s/step - accuracy: 0.9421 - loss: 0.1745 - val_accuracy: 0.9344 - val_loss: 0.2451 - learning_rate: 6.6342e-04\n",
      "Epoch 10/20\n",
      "12/12 - 18s - 2s/step - accuracy: 0.9477 - loss: 0.1427 - val_accuracy: 0.9262 - val_loss: 0.2502 - learning_rate: 6.3025e-04\n",
      "Epoch 11/20\n",
      "12/12 - 18s - 2s/step - accuracy: 0.9532 - loss: 0.1252 - val_accuracy: 0.8525 - val_loss: 0.3411 - learning_rate: 5.9874e-04\n",
      "Epoch 12/20\n",
      "12/12 - 18s - 2s/step - accuracy: 0.9477 - loss: 0.1296 - val_accuracy: 0.8689 - val_loss: 0.3257 - learning_rate: 5.6880e-04\n",
      "Epoch 13/20\n",
      "12/12 - 18s - 2s/step - accuracy: 0.9642 - loss: 0.1125 - val_accuracy: 0.9344 - val_loss: 0.2956 - learning_rate: 5.4036e-04\n",
      "Epoch 14/20\n",
      "12/12 - 18s - 2s/step - accuracy: 0.9669 - loss: 0.0966 - val_accuracy: 0.9098 - val_loss: 0.2940 - learning_rate: 5.1334e-04\n",
      "Epoch 15/20\n",
      "12/12 - 18s - 2s/step - accuracy: 0.9642 - loss: 0.0953 - val_accuracy: 0.8607 - val_loss: 0.3719 - learning_rate: 4.8767e-04\n",
      "Epoch 16/20\n",
      "12/12 - 18s - 2s/step - accuracy: 0.9697 - loss: 0.0869 - val_accuracy: 0.9180 - val_loss: 0.3739 - learning_rate: 4.6329e-04\n",
      "Epoch 17/20\n",
      "12/12 - 18s - 2s/step - accuracy: 0.9752 - loss: 0.0753 - val_accuracy: 0.9344 - val_loss: 0.3167 - learning_rate: 4.4013e-04\n",
      "Epoch 18/20\n",
      "12/12 - 18s - 2s/step - accuracy: 0.9807 - loss: 0.0559 - val_accuracy: 0.8689 - val_loss: 0.4261 - learning_rate: 4.1812e-04\n",
      "Epoch 19/20\n",
      "12/12 - 18s - 2s/step - accuracy: 0.9752 - loss: 0.0594 - val_accuracy: 0.8770 - val_loss: 0.3210 - learning_rate: 3.9721e-04\n",
      "Epoch 20/20\n",
      "12/12 - 18s - 2s/step - accuracy: 0.9780 - loss: 0.0496 - val_accuracy: 0.9262 - val_loss: 0.3547 - learning_rate: 3.7735e-04\n"
     ]
    }
   ],
   "source": [
    "epochs = 20\n",
    "history = model.fit(X_train, y_train, batch_size=32, epochs = epochs, \n",
    "validation_data = (X_test, y_test), callbacks=[annealer], verbose=2)"
   ]
  },
  {
   "cell_type": "code",
   "execution_count": 174,
   "id": "00205878-6226-4a18-9922-085eec659e6f",
   "metadata": {
    "tags": []
   },
   "outputs": [
    {
     "name": "stdout",
     "output_type": "stream",
     "text": [
      "\u001b[1m1/1\u001b[0m \u001b[32m━━━━━━━━━━━━━━━━━━━━\u001b[0m\u001b[37m\u001b[0m \u001b[1m0s\u001b[0m 280ms/step\n"
     ]
    }
   ],
   "source": [
    "Castle_predictions = model.predict(test_images)\n",
    "\n",
    "Castle_predictions = (Castle_predictions >= .5).astype(int)"
   ]
  },
  {
   "cell_type": "code",
   "execution_count": 175,
   "id": "075c5013-db3e-4a83-a85f-ab3e064bef91",
   "metadata": {
    "tags": []
   },
   "outputs": [
    {
     "data": {
      "image/png": "[encoded data removed]",
      "text/plain": [
       "<Figure size 1500x500 with 1 Axes>"
      ]
     },
     "metadata": {},
     "output_type": "display_data"
    }
   ],
   "source": [
    "plt.figure(figsize=(15,5))\n",
    "plt.plot(history.history['val_accuracy'])\n",
    "plt.title('model accuracy')\n",
    "plt.ylabel('accuracy')\n",
    "plt.xlabel('epoch')\n",
    "axes = plt.gca()\n",
    "axes.set_ylim([0.85,1])\n",
    "plt.show()"
   ]
  },
  {
   "cell_type": "markdown",
   "id": "14731ddb-50a8-437e-9c3c-ae593e2f35be",
   "metadata": {
    "tags": []
   },
   "source": [
    "## CNN - Indoors"
   ]
  },
  {
   "cell_type": "code",
   "execution_count": 176,
   "id": "27c9ac8e-7b4a-4559-9668-446e7b19943d",
   "metadata": {
    "tags": []
   },
   "outputs": [],
   "source": [
    "X = merged_dataset[:, 0:924000]\n",
    "X = X / 255.0\n",
    "y = merged_dataset[:, attr_dict[\"Indoors\"]]\n",
    "\n",
    "X_train, X_test, y_train, y_test = train_test_split(X, y)\n",
    "X_train = X_train.reshape(X_train.shape[0],700,440,3)\n",
    "X_test = X_test.reshape(X_test.shape[0],700,440,3)\n",
    "\n",
    "annealer = LearningRateScheduler(lambda x: 1e-3 * 0.95 ** x, verbose=0)\n",
    "styles=[':','-.','--','-',':','-.','--','-',':','-.','--','-']"
   ]
  },
  {
   "cell_type": "code",
   "execution_count": 177,
   "id": "37023656-3e31-4088-8a51-8c031fe080c3",
   "metadata": {
    "tags": []
   },
   "outputs": [],
   "source": [
    "model = Sequential()\n",
    "model.add(Conv2D(24,kernel_size=5,padding='same',activation='relu',\n",
    "        input_shape=(700,440,3)))\n",
    "model.add(MaxPool2D())\n",
    "model.add(Conv2D(48,kernel_size=5,padding='same',activation='relu'))\n",
    "model.add(MaxPool2D())\n",
    "model.add(Conv2D(64,kernel_size=5,padding='same',activation='relu'))\n",
    "model.add(MaxPool2D(padding='same'))\n",
    "model.add(Flatten())\n",
    "model.add(Dense(256, activation='relu'))\n",
    "model.add(Dense(1, activation='sigmoid'))\n",
    "model.compile(optimizer=\"adam\", loss=\"binary_crossentropy\", metrics=[\"accuracy\"])"
   ]
  },
  {
   "cell_type": "code",
   "execution_count": 178,
   "id": "787c2149-2d73-4a88-a58a-69a9028545c9",
   "metadata": {
    "tags": []
   },
   "outputs": [
    {
     "name": "stdout",
     "output_type": "stream",
     "text": [
      "Epoch 1/20\n",
      "12/12 - 20s - 2s/step - accuracy: 0.6116 - loss: 5.7953 - val_accuracy: 0.7951 - val_loss: 0.4674 - learning_rate: 0.0010\n",
      "Epoch 2/20\n",
      "12/12 - 18s - 2s/step - accuracy: 0.7851 - loss: 0.4745 - val_accuracy: 0.7869 - val_loss: 0.4539 - learning_rate: 9.5000e-04\n",
      "Epoch 3/20\n",
      "12/12 - 18s - 2s/step - accuracy: 0.7769 - loss: 0.4155 - val_accuracy: 0.7869 - val_loss: 0.3947 - learning_rate: 9.0250e-04\n",
      "Epoch 4/20\n",
      "12/12 - 18s - 2s/step - accuracy: 0.7796 - loss: 0.3653 - val_accuracy: 0.8033 - val_loss: 0.3499 - learning_rate: 8.5737e-04\n",
      "Epoch 5/20\n",
      "12/12 - 18s - 2s/step - accuracy: 0.7879 - loss: 0.3663 - val_accuracy: 0.8115 - val_loss: 0.3914 - learning_rate: 8.1451e-04\n",
      "Epoch 6/20\n",
      "12/12 - 18s - 2s/step - accuracy: 0.8292 - loss: 0.3843 - val_accuracy: 0.8197 - val_loss: 0.3557 - learning_rate: 7.7378e-04\n",
      "Epoch 7/20\n",
      "12/12 - 18s - 2s/step - accuracy: 0.8347 - loss: 0.3560 - val_accuracy: 0.7951 - val_loss: 0.3405 - learning_rate: 7.3509e-04\n",
      "Epoch 8/20\n",
      "12/12 - 18s - 2s/step - accuracy: 0.8485 - loss: 0.3442 - val_accuracy: 0.8443 - val_loss: 0.3726 - learning_rate: 6.9834e-04\n",
      "Epoch 9/20\n",
      "12/12 - 18s - 2s/step - accuracy: 0.8650 - loss: 0.3172 - val_accuracy: 0.8443 - val_loss: 0.3271 - learning_rate: 6.6342e-04\n",
      "Epoch 10/20\n",
      "12/12 - 18s - 2s/step - accuracy: 0.8623 - loss: 0.2809 - val_accuracy: 0.8443 - val_loss: 0.3443 - learning_rate: 6.3025e-04\n",
      "Epoch 11/20\n",
      "12/12 - 18s - 2s/step - accuracy: 0.8705 - loss: 0.2779 - val_accuracy: 0.8525 - val_loss: 0.3611 - learning_rate: 5.9874e-04\n",
      "Epoch 12/20\n",
      "12/12 - 18s - 2s/step - accuracy: 0.8871 - loss: 0.2659 - val_accuracy: 0.8197 - val_loss: 0.4278 - learning_rate: 5.6880e-04\n",
      "Epoch 13/20\n",
      "12/12 - 18s - 2s/step - accuracy: 0.8705 - loss: 0.3400 - val_accuracy: 0.8689 - val_loss: 0.3731 - learning_rate: 5.4036e-04\n",
      "Epoch 14/20\n",
      "12/12 - 18s - 2s/step - accuracy: 0.8898 - loss: 0.2860 - val_accuracy: 0.8689 - val_loss: 0.3921 - learning_rate: 5.1334e-04\n",
      "Epoch 15/20\n",
      "12/12 - 18s - 2s/step - accuracy: 0.8843 - loss: 0.2744 - val_accuracy: 0.7951 - val_loss: 0.4267 - learning_rate: 4.8767e-04\n",
      "Epoch 16/20\n",
      "12/12 - 18s - 2s/step - accuracy: 0.9201 - loss: 0.2091 - val_accuracy: 0.8607 - val_loss: 0.4727 - learning_rate: 4.6329e-04\n",
      "Epoch 17/20\n",
      "12/12 - 18s - 2s/step - accuracy: 0.9229 - loss: 0.2037 - val_accuracy: 0.8279 - val_loss: 0.4171 - learning_rate: 4.4013e-04\n",
      "Epoch 18/20\n",
      "12/12 - 18s - 2s/step - accuracy: 0.9532 - loss: 0.1610 - val_accuracy: 0.8689 - val_loss: 0.4554 - learning_rate: 4.1812e-04\n",
      "Epoch 19/20\n",
      "12/12 - 18s - 2s/step - accuracy: 0.9614 - loss: 0.1363 - val_accuracy: 0.7951 - val_loss: 0.5745 - learning_rate: 3.9721e-04\n",
      "Epoch 20/20\n",
      "12/12 - 18s - 2s/step - accuracy: 0.9339 - loss: 0.1562 - val_accuracy: 0.8361 - val_loss: 0.4664 - learning_rate: 3.7735e-04\n"
     ]
    }
   ],
   "source": [
    "epochs = 20\n",
    "history = model.fit(X_train, y_train, batch_size=32, epochs = epochs, \n",
    "validation_data = (X_test, y_test), callbacks=[annealer], verbose=2)"
   ]
  },
  {
   "cell_type": "code",
   "execution_count": 179,
   "id": "3c2f1148-d491-412e-9fb2-05ee499d63d7",
   "metadata": {
    "tags": []
   },
   "outputs": [
    {
     "name": "stdout",
     "output_type": "stream",
     "text": [
      "\u001b[1m1/1\u001b[0m \u001b[32m━━━━━━━━━━━━━━━━━━━━\u001b[0m\u001b[37m\u001b[0m \u001b[1m0s\u001b[0m 275ms/step\n"
     ]
    }
   ],
   "source": [
    "Indoor_predictions = model.predict(test_images)\n",
    "\n",
    "Indoor_predictions = (Indoor_predictions >= .5).astype(int)"
   ]
  },
  {
   "cell_type": "code",
   "execution_count": 180,
   "id": "5a170d69-0e01-4000-b6a0-a00ff4bf932b",
   "metadata": {
    "tags": []
   },
   "outputs": [
    {
     "data": {
      "image/png": "[encoded data removed]",
      "text/plain": [
       "<Figure size 1500x500 with 1 Axes>"
      ]
     },
     "metadata": {},
     "output_type": "display_data"
    }
   ],
   "source": [
    "plt.figure(figsize=(15,5))\n",
    "plt.plot(history.history['val_accuracy'])\n",
    "plt.title('model accuracy')\n",
    "plt.ylabel('accuracy')\n",
    "plt.xlabel('epoch')\n",
    "axes = plt.gca()\n",
    "axes.set_ylim([0.65,1])\n",
    "plt.show()"
   ]
  },
  {
   "cell_type": "markdown",
   "id": "b22e5449-4183-44de-a329-d341e41bd167",
   "metadata": {
    "tags": []
   },
   "source": [
    "## CNN - Landscape"
   ]
  },
  {
   "cell_type": "code",
   "execution_count": 181,
   "id": "bfced776-cdf3-45c8-abb5-669708654599",
   "metadata": {
    "tags": []
   },
   "outputs": [],
   "source": [
    "X = merged_dataset[:, 0:924000]\n",
    "X = X / 255.0\n",
    "y = merged_dataset[:, attr_dict[\"Landscape\"]]\n",
    "\n",
    "X_train, X_test, y_train, y_test = train_test_split(X, y)\n",
    "X_train = X_train.reshape(X_train.shape[0],700,440,3)\n",
    "X_test = X_test.reshape(X_test.shape[0],700,440,3)\n",
    "\n",
    "annealer = LearningRateScheduler(lambda x: 1e-3 * 0.95 ** x, verbose=0)\n",
    "styles=[':','-.','--','-',':','-.','--','-',':','-.','--','-']"
   ]
  },
  {
   "cell_type": "code",
   "execution_count": 182,
   "id": "14d0dcbd-7a17-4c3e-8a21-2d657bfbfa59",
   "metadata": {
    "tags": []
   },
   "outputs": [],
   "source": [
    "model = Sequential()\n",
    "model.add(Conv2D(24,kernel_size=5,padding='same',activation='relu',\n",
    "        input_shape=(700,440,3)))\n",
    "model.add(MaxPool2D())\n",
    "model.add(Conv2D(48,kernel_size=5,padding='same',activation='relu'))\n",
    "model.add(MaxPool2D())\n",
    "model.add(Conv2D(64,kernel_size=5,padding='same',activation='relu'))\n",
    "model.add(MaxPool2D(padding='same'))\n",
    "model.add(Flatten())\n",
    "model.add(Dense(256, activation='relu'))\n",
    "model.add(Dense(4, activation='softmax'))\n",
    "model.compile(optimizer=\"adam\", loss=\"sparse_categorical_crossentropy\", metrics=[\"accuracy\"])"
   ]
  },
  {
   "cell_type": "code",
   "execution_count": 183,
   "id": "a954b168-3bd4-4e08-b979-9f60be54d3b2",
   "metadata": {
    "tags": []
   },
   "outputs": [
    {
     "name": "stdout",
     "output_type": "stream",
     "text": [
      "Epoch 1/20\n",
      "12/12 - 20s - 2s/step - accuracy: 0.3471 - loss: 6.7050 - val_accuracy: 0.4590 - val_loss: 1.7199 - learning_rate: 0.0010\n",
      "Epoch 2/20\n",
      "12/12 - 19s - 2s/step - accuracy: 0.4242 - loss: 1.3216 - val_accuracy: 0.2049 - val_loss: 1.2806 - learning_rate: 9.5000e-04\n",
      "Epoch 3/20\n",
      "12/12 - 18s - 2s/step - accuracy: 0.4573 - loss: 1.1646 - val_accuracy: 0.4508 - val_loss: 1.1965 - learning_rate: 9.0250e-04\n",
      "Epoch 4/20\n",
      "12/12 - 18s - 2s/step - accuracy: 0.4959 - loss: 1.1092 - val_accuracy: 0.4672 - val_loss: 1.1825 - learning_rate: 8.5737e-04\n",
      "Epoch 5/20\n",
      "12/12 - 18s - 2s/step - accuracy: 0.5014 - loss: 1.0983 - val_accuracy: 0.4508 - val_loss: 1.1588 - learning_rate: 8.1451e-04\n",
      "Epoch 6/20\n",
      "12/12 - 18s - 2s/step - accuracy: 0.5096 - loss: 1.0578 - val_accuracy: 0.4508 - val_loss: 1.1673 - learning_rate: 7.7378e-04\n",
      "Epoch 7/20\n",
      "12/12 - 18s - 2s/step - accuracy: 0.5317 - loss: 1.0638 - val_accuracy: 0.4754 - val_loss: 1.1388 - learning_rate: 7.3509e-04\n",
      "Epoch 8/20\n",
      "12/12 - 18s - 2s/step - accuracy: 0.5647 - loss: 1.0280 - val_accuracy: 0.4262 - val_loss: 1.1171 - learning_rate: 6.9834e-04\n",
      "Epoch 9/20\n",
      "12/12 - 18s - 2s/step - accuracy: 0.5730 - loss: 0.9977 - val_accuracy: 0.4754 - val_loss: 1.1556 - learning_rate: 6.6342e-04\n",
      "Epoch 10/20\n",
      "12/12 - 18s - 2s/step - accuracy: 0.5813 - loss: 0.9604 - val_accuracy: 0.4590 - val_loss: 1.1487 - learning_rate: 6.3025e-04\n",
      "Epoch 11/20\n",
      "12/12 - 18s - 2s/step - accuracy: 0.5978 - loss: 0.9315 - val_accuracy: 0.4836 - val_loss: 1.1840 - learning_rate: 5.9874e-04\n",
      "Epoch 12/20\n",
      "12/12 - 18s - 2s/step - accuracy: 0.6143 - loss: 0.9067 - val_accuracy: 0.4836 - val_loss: 1.1366 - learning_rate: 5.6880e-04\n",
      "Epoch 13/20\n",
      "12/12 - 18s - 2s/step - accuracy: 0.6088 - loss: 0.9198 - val_accuracy: 0.5082 - val_loss: 1.1578 - learning_rate: 5.4036e-04\n",
      "Epoch 14/20\n",
      "12/12 - 18s - 2s/step - accuracy: 0.6529 - loss: 0.8332 - val_accuracy: 0.4918 - val_loss: 1.2022 - learning_rate: 5.1334e-04\n",
      "Epoch 15/20\n",
      "12/12 - 18s - 2s/step - accuracy: 0.6804 - loss: 0.7587 - val_accuracy: 0.4672 - val_loss: 1.3073 - learning_rate: 4.8767e-04\n",
      "Epoch 16/20\n",
      "12/12 - 18s - 2s/step - accuracy: 0.6915 - loss: 0.7043 - val_accuracy: 0.4918 - val_loss: 1.2840 - learning_rate: 4.6329e-04\n",
      "Epoch 17/20\n",
      "12/12 - 18s - 2s/step - accuracy: 0.7383 - loss: 0.6367 - val_accuracy: 0.4918 - val_loss: 1.4541 - learning_rate: 4.4013e-04\n",
      "Epoch 18/20\n",
      "12/12 - 18s - 2s/step - accuracy: 0.7548 - loss: 0.5884 - val_accuracy: 0.4590 - val_loss: 1.5443 - learning_rate: 4.1812e-04\n",
      "Epoch 19/20\n",
      "12/12 - 18s - 2s/step - accuracy: 0.7631 - loss: 0.5837 - val_accuracy: 0.4590 - val_loss: 1.5122 - learning_rate: 3.9721e-04\n",
      "Epoch 20/20\n",
      "12/12 - 18s - 2s/step - accuracy: 0.7851 - loss: 0.5256 - val_accuracy: 0.5000 - val_loss: 1.7907 - learning_rate: 3.7735e-04\n"
     ]
    }
   ],
   "source": [
    "epochs = 20\n",
    "history = model.fit(X_train, y_train, batch_size=32, epochs = epochs, \n",
    "validation_data = (X_test, y_test), callbacks=[annealer], verbose=2)"
   ]
  },
  {
   "cell_type": "code",
   "execution_count": 184,
   "id": "af4913e7-ef8c-4dfd-8361-3d8df49f0f7a",
   "metadata": {
    "tags": []
   },
   "outputs": [
    {
     "name": "stdout",
     "output_type": "stream",
     "text": [
      "\u001b[1m1/1\u001b[0m \u001b[32m━━━━━━━━━━━━━━━━━━━━\u001b[0m\u001b[37m\u001b[0m \u001b[1m0s\u001b[0m 299ms/step\n"
     ]
    }
   ],
   "source": [
    "Landscape_predictions = model.predict(test_images)\n",
    "\n",
    "Landscape_predictions = np.argmax(Landscape_predictions, axis = 1)"
   ]
  },
  {
   "cell_type": "code",
   "execution_count": 185,
   "id": "25d97d3d-aab0-487c-aef2-b24f91a8ff1c",
   "metadata": {
    "tags": []
   },
   "outputs": [
    {
     "data": {
      "image/png": "[encoded data removed]",
      "text/plain": [
       "<Figure size 1500x500 with 1 Axes>"
      ]
     },
     "metadata": {},
     "output_type": "display_data"
    }
   ],
   "source": [
    "plt.figure(figsize=(15,5))\n",
    "plt.plot(history.history['val_accuracy'])\n",
    "plt.title('model accuracy')\n",
    "plt.ylabel('accuracy')\n",
    "plt.xlabel('epoch')\n",
    "axes = plt.gca()\n",
    "axes.set_ylim([0.30, 1])\n",
    "plt.show()"
   ]
  },
  {
   "cell_type": "markdown",
   "id": "35aafce8-14e9-48a5-be34-b0bc228d6b26",
   "metadata": {},
   "source": [
    "## CNN - Woman"
   ]
  },
  {
   "cell_type": "code",
   "execution_count": 186,
   "id": "46a83aa7-1b23-468b-acc8-3910123f9373",
   "metadata": {
    "tags": []
   },
   "outputs": [],
   "source": [
    "X = merged_dataset[:, 0:924000]\n",
    "X = X / 255.0\n",
    "y = merged_dataset[:, attr_dict[\"Woman\"]]\n",
    "\n",
    "X_train, X_test, y_train, y_test = train_test_split(X, y)\n",
    "X_train = X_train.reshape(X_train.shape[0],700,440,3)\n",
    "X_test = X_test.reshape(X_test.shape[0],700,440,3)\n",
    "\n",
    "annealer = LearningRateScheduler(lambda x: 1e-3 * 0.95 ** x, verbose=0)\n",
    "styles=[':','-.','--','-',':','-.','--','-',':','-.','--','-']"
   ]
  },
  {
   "cell_type": "code",
   "execution_count": 187,
   "id": "2c0c938e-60de-4cf1-b87e-da79074241dc",
   "metadata": {
    "tags": []
   },
   "outputs": [],
   "source": [
    "model = Sequential()\n",
    "model.add(Conv2D(24,kernel_size=5,padding='same',activation='relu',\n",
    "        input_shape=(700,440,3)))\n",
    "model.add(MaxPool2D())\n",
    "model.add(Conv2D(48,kernel_size=5,padding='same',activation='relu'))\n",
    "model.add(MaxPool2D())\n",
    "model.add(Conv2D(64,kernel_size=5,padding='same',activation='relu'))\n",
    "model.add(MaxPool2D(padding='same'))\n",
    "model.add(Flatten())\n",
    "model.add(Dense(256, activation='relu'))\n",
    "model.add(Dense(1, activation='sigmoid'))\n",
    "model.compile(optimizer=\"adam\", loss=\"binary_crossentropy\", metrics=[\"accuracy\"])"
   ]
  },
  {
   "cell_type": "code",
   "execution_count": 188,
   "id": "57cf95b8-bce9-47aa-aa04-94ce854e90a8",
   "metadata": {
    "tags": []
   },
   "outputs": [
    {
     "name": "stdout",
     "output_type": "stream",
     "text": [
      "Epoch 1/20\n",
      "12/12 - 20s - 2s/step - accuracy: 0.6777 - loss: 2.7473 - val_accuracy: 0.8689 - val_loss: 0.4024 - learning_rate: 0.0010\n",
      "Epoch 2/20\n",
      "12/12 - 18s - 2s/step - accuracy: 0.8760 - loss: 0.3820 - val_accuracy: 0.8689 - val_loss: 0.3934 - learning_rate: 9.5000e-04\n",
      "Epoch 3/20\n",
      "12/12 - 18s - 2s/step - accuracy: 0.8760 - loss: 0.3736 - val_accuracy: 0.8689 - val_loss: 0.4051 - learning_rate: 9.0250e-04\n",
      "Epoch 4/20\n",
      "12/12 - 18s - 2s/step - accuracy: 0.8760 - loss: 0.3815 - val_accuracy: 0.8689 - val_loss: 0.4382 - learning_rate: 8.5737e-04\n",
      "Epoch 5/20\n",
      "12/12 - 18s - 2s/step - accuracy: 0.8760 - loss: 0.3724 - val_accuracy: 0.8689 - val_loss: 0.4255 - learning_rate: 8.1451e-04\n",
      "Epoch 6/20\n",
      "12/12 - 18s - 2s/step - accuracy: 0.8760 - loss: 0.3714 - val_accuracy: 0.8689 - val_loss: 0.4519 - learning_rate: 7.7378e-04\n",
      "Epoch 7/20\n",
      "12/12 - 18s - 2s/step - accuracy: 0.8760 - loss: 0.3895 - val_accuracy: 0.8689 - val_loss: 0.4053 - learning_rate: 7.3509e-04\n",
      "Epoch 8/20\n",
      "12/12 - 18s - 2s/step - accuracy: 0.8760 - loss: 0.3578 - val_accuracy: 0.8689 - val_loss: 0.4357 - learning_rate: 6.9834e-04\n",
      "Epoch 9/20\n",
      "12/12 - 18s - 2s/step - accuracy: 0.8760 - loss: 0.3535 - val_accuracy: 0.8689 - val_loss: 0.4010 - learning_rate: 6.6342e-04\n",
      "Epoch 10/20\n",
      "12/12 - 18s - 2s/step - accuracy: 0.8760 - loss: 0.3332 - val_accuracy: 0.8689 - val_loss: 0.3988 - learning_rate: 6.3025e-04\n",
      "Epoch 11/20\n",
      "12/12 - 18s - 2s/step - accuracy: 0.8760 - loss: 0.3490 - val_accuracy: 0.8689 - val_loss: 0.4020 - learning_rate: 5.9874e-04\n",
      "Epoch 12/20\n",
      "12/12 - 18s - 2s/step - accuracy: 0.8760 - loss: 0.3308 - val_accuracy: 0.8689 - val_loss: 0.3966 - learning_rate: 5.6880e-04\n",
      "Epoch 13/20\n",
      "12/12 - 18s - 2s/step - accuracy: 0.8788 - loss: 0.3261 - val_accuracy: 0.8689 - val_loss: 0.4135 - learning_rate: 5.4036e-04\n",
      "Epoch 14/20\n",
      "12/12 - 18s - 2s/step - accuracy: 0.8733 - loss: 0.3392 - val_accuracy: 0.8689 - val_loss: 0.3990 - learning_rate: 5.1334e-04\n",
      "Epoch 15/20\n",
      "12/12 - 18s - 2s/step - accuracy: 0.8760 - loss: 0.3430 - val_accuracy: 0.8689 - val_loss: 0.3702 - learning_rate: 4.8767e-04\n",
      "Epoch 16/20\n",
      "12/12 - 18s - 2s/step - accuracy: 0.8760 - loss: 0.3155 - val_accuracy: 0.8689 - val_loss: 0.3827 - learning_rate: 4.6329e-04\n",
      "Epoch 17/20\n",
      "12/12 - 18s - 2s/step - accuracy: 0.8788 - loss: 0.3089 - val_accuracy: 0.8689 - val_loss: 0.4044 - learning_rate: 4.4013e-04\n",
      "Epoch 18/20\n",
      "12/12 - 18s - 2s/step - accuracy: 0.8788 - loss: 0.2957 - val_accuracy: 0.8607 - val_loss: 0.4057 - learning_rate: 4.1812e-04\n",
      "Epoch 19/20\n",
      "12/12 - 18s - 2s/step - accuracy: 0.8815 - loss: 0.3038 - val_accuracy: 0.8689 - val_loss: 0.5670 - learning_rate: 3.9721e-04\n",
      "Epoch 20/20\n",
      "12/12 - 18s - 2s/step - accuracy: 0.8871 - loss: 0.3111 - val_accuracy: 0.8689 - val_loss: 0.4344 - learning_rate: 3.7735e-04\n"
     ]
    }
   ],
   "source": [
    "epochs = 20\n",
    "history = model.fit(X_train, y_train, batch_size=32, epochs = epochs, \n",
    "validation_data = (X_test, y_test), callbacks=[annealer], verbose=2)"
   ]
  },
  {
   "cell_type": "code",
   "execution_count": 189,
   "id": "509bba5c-6a69-4da9-8f8d-520a172b0de8",
   "metadata": {
    "tags": []
   },
   "outputs": [
    {
     "name": "stdout",
     "output_type": "stream",
     "text": [
      "\u001b[1m1/1\u001b[0m \u001b[32m━━━━━━━━━━━━━━━━━━━━\u001b[0m\u001b[37m\u001b[0m \u001b[1m0s\u001b[0m 276ms/step\n"
     ]
    }
   ],
   "source": [
    "Woman_predictions = model.predict(test_images)\n",
    "\n",
    "Woman_predictions = (Woman_predictions >= .5).astype(int)"
   ]
  },
  {
   "cell_type": "code",
   "execution_count": 190,
   "id": "29f12bab-397e-40ae-a6fe-bc2c5553801d",
   "metadata": {
    "tags": []
   },
   "outputs": [
    {
     "data": {
      "image/png": "[encoded data removed]",
      "text/plain": [
       "<Figure size 1500x500 with 1 Axes>"
      ]
     },
     "metadata": {},
     "output_type": "display_data"
    }
   ],
   "source": [
    "plt.figure(figsize=(15,5))\n",
    "plt.plot(history.history['val_accuracy'])\n",
    "plt.title('model accuracy')\n",
    "plt.ylabel('accuracy')\n",
    "plt.xlabel('epoch')\n",
    "axes = plt.gca()\n",
    "axes.set_ylim([0.70, 1])\n",
    "plt.show()"
   ]
  },
  {
   "cell_type": "markdown",
   "id": "26437e94-038e-4f60-91b0-d75fc5ad52de",
   "metadata": {
    "tags": []
   },
   "source": [
    "## CNN - Daytime"
   ]
  },
  {
   "cell_type": "code",
   "execution_count": 191,
   "id": "63f9ce2b-004c-4941-8c6b-f2d9d89e8493",
   "metadata": {
    "tags": []
   },
   "outputs": [],
   "source": [
    "X = merged_dataset[:, 0:924000]\n",
    "X = X / 255.0\n",
    "y = merged_dataset[:, attr_dict[\"Daytime\"]]\n",
    "\n",
    "X_train, X_test, y_train, y_test = train_test_split(X, y)\n",
    "X_train = X_train.reshape(X_train.shape[0],700,440,3)\n",
    "X_test = X_test.reshape(X_test.shape[0],700,440,3)\n",
    "\n",
    "annealer = LearningRateScheduler(lambda x: 1e-3 * 0.95 ** x, verbose=0)\n",
    "styles=[':','-.','--','-',':','-.','--','-',':','-.','--','-']"
   ]
  },
  {
   "cell_type": "code",
   "execution_count": 192,
   "id": "ca2dbfcc-aa25-4493-a4cb-2f34fee16fa8",
   "metadata": {
    "tags": []
   },
   "outputs": [],
   "source": [
    "model = Sequential()\n",
    "model.add(Conv2D(24,kernel_size=5,padding='same',activation='relu',\n",
    "        input_shape=(700,440,3)))\n",
    "model.add(MaxPool2D())\n",
    "model.add(Conv2D(48,kernel_size=5,padding='same',activation='relu'))\n",
    "model.add(MaxPool2D())\n",
    "model.add(Conv2D(64,kernel_size=5,padding='same',activation='relu'))\n",
    "model.add(MaxPool2D(padding='same'))\n",
    "model.add(Flatten())\n",
    "model.add(Dense(256, activation='relu'))\n",
    "model.add(Dense(1, activation='sigmoid'))\n",
    "model.compile(optimizer=\"adam\", loss=\"binary_crossentropy\", metrics=[\"accuracy\"])"
   ]
  },
  {
   "cell_type": "code",
   "execution_count": 193,
   "id": "440698b3-a8b4-4118-9a27-fd639f5eeead",
   "metadata": {
    "tags": []
   },
   "outputs": [
    {
     "name": "stdout",
     "output_type": "stream",
     "text": [
      "Epoch 1/20\n",
      "12/12 - 20s - 2s/step - accuracy: 0.6336 - loss: 2.3485 - val_accuracy: 0.7705 - val_loss: 0.5095 - learning_rate: 0.0010\n",
      "Epoch 2/20\n",
      "12/12 - 18s - 2s/step - accuracy: 0.8017 - loss: 0.4795 - val_accuracy: 0.7705 - val_loss: 0.5264 - learning_rate: 9.5000e-04\n",
      "Epoch 3/20\n",
      "12/12 - 18s - 2s/step - accuracy: 0.8017 - loss: 0.4488 - val_accuracy: 0.7705 - val_loss: 0.5878 - learning_rate: 9.0250e-04\n",
      "Epoch 4/20\n",
      "12/12 - 18s - 2s/step - accuracy: 0.7521 - loss: 0.5056 - val_accuracy: 0.7705 - val_loss: 0.5185 - learning_rate: 8.5737e-04\n",
      "Epoch 5/20\n",
      "12/12 - 18s - 2s/step - accuracy: 0.8182 - loss: 0.4308 - val_accuracy: 0.7787 - val_loss: 0.4964 - learning_rate: 8.1451e-04\n",
      "Epoch 6/20\n",
      "12/12 - 18s - 2s/step - accuracy: 0.8209 - loss: 0.4207 - val_accuracy: 0.7787 - val_loss: 0.5085 - learning_rate: 7.7378e-04\n",
      "Epoch 7/20\n",
      "12/12 - 18s - 2s/step - accuracy: 0.8154 - loss: 0.4640 - val_accuracy: 0.7787 - val_loss: 0.5451 - learning_rate: 7.3509e-04\n",
      "Epoch 8/20\n",
      "12/12 - 18s - 2s/step - accuracy: 0.8154 - loss: 0.3972 - val_accuracy: 0.7869 - val_loss: 0.4862 - learning_rate: 6.9834e-04\n",
      "Epoch 9/20\n",
      "12/12 - 18s - 2s/step - accuracy: 0.8292 - loss: 0.3875 - val_accuracy: 0.7705 - val_loss: 0.5625 - learning_rate: 6.6342e-04\n",
      "Epoch 10/20\n",
      "12/12 - 18s - 2s/step - accuracy: 0.8182 - loss: 0.3853 - val_accuracy: 0.7869 - val_loss: 0.5423 - learning_rate: 6.3025e-04\n",
      "Epoch 11/20\n",
      "12/12 - 18s - 2s/step - accuracy: 0.8264 - loss: 0.3668 - val_accuracy: 0.7623 - val_loss: 0.4927 - learning_rate: 5.9874e-04\n",
      "Epoch 12/20\n",
      "12/12 - 18s - 2s/step - accuracy: 0.8457 - loss: 0.3499 - val_accuracy: 0.7623 - val_loss: 0.5781 - learning_rate: 5.6880e-04\n",
      "Epoch 13/20\n",
      "12/12 - 18s - 2s/step - accuracy: 0.8347 - loss: 0.3838 - val_accuracy: 0.7705 - val_loss: 0.5237 - learning_rate: 5.4036e-04\n",
      "Epoch 14/20\n",
      "12/12 - 18s - 2s/step - accuracy: 0.8320 - loss: 0.3592 - val_accuracy: 0.7705 - val_loss: 0.4903 - learning_rate: 5.1334e-04\n",
      "Epoch 15/20\n",
      "12/12 - 18s - 2s/step - accuracy: 0.8347 - loss: 0.3450 - val_accuracy: 0.7705 - val_loss: 0.5026 - learning_rate: 4.8767e-04\n",
      "Epoch 16/20\n",
      "12/12 - 18s - 2s/step - accuracy: 0.8430 - loss: 0.3244 - val_accuracy: 0.8033 - val_loss: 0.5014 - learning_rate: 4.6329e-04\n",
      "Epoch 17/20\n",
      "12/12 - 18s - 2s/step - accuracy: 0.8512 - loss: 0.3061 - val_accuracy: 0.7705 - val_loss: 0.5277 - learning_rate: 4.4013e-04\n",
      "Epoch 18/20\n",
      "12/12 - 18s - 2s/step - accuracy: 0.8650 - loss: 0.2849 - val_accuracy: 0.8033 - val_loss: 0.6467 - learning_rate: 4.1812e-04\n",
      "Epoch 19/20\n",
      "12/12 - 18s - 2s/step - accuracy: 0.8788 - loss: 0.2688 - val_accuracy: 0.8033 - val_loss: 0.5056 - learning_rate: 3.9721e-04\n",
      "Epoch 20/20\n",
      "12/12 - 18s - 2s/step - accuracy: 0.8815 - loss: 0.2734 - val_accuracy: 0.7951 - val_loss: 0.4771 - learning_rate: 3.7735e-04\n"
     ]
    }
   ],
   "source": [
    "epochs = 20\n",
    "history = model.fit(X_train, y_train, batch_size=32, epochs = epochs, \n",
    "validation_data = (X_test, y_test), callbacks=[annealer], verbose=2)"
   ]
  },
  {
   "cell_type": "code",
   "execution_count": 194,
   "id": "df55b189-a719-4394-a01d-b08f67485763",
   "metadata": {
    "tags": []
   },
   "outputs": [
    {
     "name": "stdout",
     "output_type": "stream",
     "text": [
      "\u001b[1m1/1\u001b[0m \u001b[32m━━━━━━━━━━━━━━━━━━━━\u001b[0m\u001b[37m\u001b[0m \u001b[1m0s\u001b[0m 277ms/step\n"
     ]
    }
   ],
   "source": [
    "Daytime_predictions = model.predict(test_images)\n",
    "\n",
    "Daytime_predictions = (Daytime_predictions >= .5).astype(int)"
   ]
  },
  {
   "cell_type": "code",
   "execution_count": 195,
   "id": "d7161476-1a3f-46e2-b3a7-0b09ac0bda47",
   "metadata": {
    "tags": []
   },
   "outputs": [
    {
     "data": {
      "image/png": "[encoded data removed]",
      "text/plain": [
       "<Figure size 1500x500 with 1 Axes>"
      ]
     },
     "metadata": {},
     "output_type": "display_data"
    }
   ],
   "source": [
    "plt.figure(figsize=(15,5))\n",
    "plt.plot(history.history['val_accuracy'])\n",
    "plt.title('model accuracy')\n",
    "plt.ylabel('accuracy')\n",
    "plt.xlabel('epoch')\n",
    "axes = plt.gca()\n",
    "axes.set_ylim([0.60, 1])\n",
    "plt.show()"
   ]
  },
  {
   "cell_type": "markdown",
   "id": "41daad61-ccb4-42c2-8e13-f6bbd45a9afb",
   "metadata": {
    "tags": []
   },
   "source": [
    "## CNN - Children"
   ]
  },
  {
   "cell_type": "code",
   "execution_count": 196,
   "id": "8d11912d-8c41-4fc8-9b62-643255b9d775",
   "metadata": {
    "tags": []
   },
   "outputs": [],
   "source": [
    "X = merged_dataset[:, 0:924000]\n",
    "X = X / 255.0\n",
    "y = merged_dataset[:, attr_dict[\"Children\"]]\n",
    "\n",
    "X_train, X_test, y_train, y_test = train_test_split(X, y)\n",
    "X_train = X_train.reshape(X_train.shape[0],700,440,3)\n",
    "X_test = X_test.reshape(X_test.shape[0],700,440,3)\n",
    "\n",
    "annealer = LearningRateScheduler(lambda x: 1e-3 * 0.95 ** x, verbose=0)\n",
    "styles=[':','-.','--','-',':','-.','--','-',':','-.','--','-']"
   ]
  },
  {
   "cell_type": "code",
   "execution_count": 197,
   "id": "7df5daf4-5a37-4e1a-bfe7-3c8c2bd21621",
   "metadata": {
    "tags": []
   },
   "outputs": [],
   "source": [
    "model = Sequential()\n",
    "model.add(Conv2D(24,kernel_size=5,padding='same',activation='relu',\n",
    "        input_shape=(700,440,3)))\n",
    "model.add(MaxPool2D())\n",
    "model.add(Conv2D(48,kernel_size=5,padding='same',activation='relu'))\n",
    "model.add(MaxPool2D())\n",
    "model.add(Conv2D(64,kernel_size=5,padding='same',activation='relu'))\n",
    "model.add(MaxPool2D(padding='same'))\n",
    "model.add(Flatten())\n",
    "model.add(Dense(256, activation='relu'))\n",
    "model.add(Dense(1, activation='sigmoid'))\n",
    "model.compile(optimizer=\"adam\", loss=\"binary_crossentropy\", metrics=[\"accuracy\"])"
   ]
  },
  {
   "cell_type": "code",
   "execution_count": 198,
   "id": "38734fe9-9ec9-4acb-b030-81845cd54d56",
   "metadata": {
    "tags": []
   },
   "outputs": [
    {
     "name": "stdout",
     "output_type": "stream",
     "text": [
      "Epoch 1/20\n",
      "12/12 - 21s - 2s/step - accuracy: 0.7466 - loss: 1.9340 - val_accuracy: 0.8852 - val_loss: 0.3629 - learning_rate: 0.0010\n",
      "Epoch 2/20\n",
      "12/12 - 18s - 2s/step - accuracy: 0.9339 - loss: 0.3012 - val_accuracy: 0.8852 - val_loss: 0.3314 - learning_rate: 9.5000e-04\n",
      "Epoch 3/20\n",
      "12/12 - 18s - 2s/step - accuracy: 0.9311 - loss: 0.2435 - val_accuracy: 0.8852 - val_loss: 0.4806 - learning_rate: 9.0250e-04\n",
      "Epoch 4/20\n",
      "12/12 - 18s - 2s/step - accuracy: 0.9311 - loss: 0.2198 - val_accuracy: 0.8852 - val_loss: 0.5972 - learning_rate: 8.5737e-04\n",
      "Epoch 5/20\n",
      "12/12 - 18s - 2s/step - accuracy: 0.9311 - loss: 0.2769 - val_accuracy: 0.8852 - val_loss: 0.3686 - learning_rate: 8.1451e-04\n",
      "Epoch 6/20\n",
      "12/12 - 18s - 2s/step - accuracy: 0.9311 - loss: 0.2438 - val_accuracy: 0.8852 - val_loss: 0.3583 - learning_rate: 7.7378e-04\n",
      "Epoch 7/20\n",
      "12/12 - 18s - 2s/step - accuracy: 0.9311 - loss: 0.2078 - val_accuracy: 0.8852 - val_loss: 0.3674 - learning_rate: 7.3509e-04\n",
      "Epoch 8/20\n",
      "12/12 - 18s - 2s/step - accuracy: 0.9311 - loss: 0.2105 - val_accuracy: 0.8852 - val_loss: 0.3867 - learning_rate: 6.9834e-04\n",
      "Epoch 9/20\n",
      "12/12 - 18s - 2s/step - accuracy: 0.9311 - loss: 0.1923 - val_accuracy: 0.8852 - val_loss: 0.4309 - learning_rate: 6.6342e-04\n",
      "Epoch 10/20\n",
      "12/12 - 18s - 2s/step - accuracy: 0.9311 - loss: 0.1972 - val_accuracy: 0.8852 - val_loss: 0.4048 - learning_rate: 6.3025e-04\n",
      "Epoch 11/20\n",
      "12/12 - 18s - 2s/step - accuracy: 0.9311 - loss: 0.2021 - val_accuracy: 0.8852 - val_loss: 0.3997 - learning_rate: 5.9874e-04\n",
      "Epoch 12/20\n",
      "12/12 - 18s - 2s/step - accuracy: 0.9339 - loss: 0.1853 - val_accuracy: 0.8852 - val_loss: 0.4032 - learning_rate: 5.6880e-04\n",
      "Epoch 13/20\n",
      "12/12 - 18s - 2s/step - accuracy: 0.9284 - loss: 0.1861 - val_accuracy: 0.8852 - val_loss: 0.4195 - learning_rate: 5.4036e-04\n",
      "Epoch 14/20\n",
      "12/12 - 18s - 2s/step - accuracy: 0.9339 - loss: 0.1789 - val_accuracy: 0.8852 - val_loss: 0.4652 - learning_rate: 5.1334e-04\n",
      "Epoch 15/20\n",
      "12/12 - 18s - 2s/step - accuracy: 0.9449 - loss: 0.1620 - val_accuracy: 0.8852 - val_loss: 0.4357 - learning_rate: 4.8767e-04\n",
      "Epoch 16/20\n",
      "12/12 - 18s - 2s/step - accuracy: 0.9284 - loss: 0.1734 - val_accuracy: 0.8852 - val_loss: 0.4825 - learning_rate: 4.6329e-04\n",
      "Epoch 17/20\n",
      "12/12 - 18s - 2s/step - accuracy: 0.9339 - loss: 0.1505 - val_accuracy: 0.8852 - val_loss: 0.5531 - learning_rate: 4.4013e-04\n",
      "Epoch 18/20\n",
      "12/12 - 18s - 2s/step - accuracy: 0.9421 - loss: 0.1445 - val_accuracy: 0.8852 - val_loss: 0.5006 - learning_rate: 4.1812e-04\n",
      "Epoch 19/20\n",
      "12/12 - 18s - 2s/step - accuracy: 0.9421 - loss: 0.1393 - val_accuracy: 0.8607 - val_loss: 0.5274 - learning_rate: 3.9721e-04\n",
      "Epoch 20/20\n",
      "12/12 - 18s - 2s/step - accuracy: 0.9559 - loss: 0.1344 - val_accuracy: 0.8852 - val_loss: 0.6984 - learning_rate: 3.7735e-04\n"
     ]
    }
   ],
   "source": [
    "epochs = 20\n",
    "history = model.fit(X_train, y_train, batch_size=32, epochs = epochs, \n",
    "validation_data = (X_test, y_test), callbacks=[annealer], verbose=2)"
   ]
  },
  {
   "cell_type": "code",
   "execution_count": 199,
   "id": "0564b4b9-28c3-424e-a9c0-e8aacee34043",
   "metadata": {
    "tags": []
   },
   "outputs": [
    {
     "name": "stdout",
     "output_type": "stream",
     "text": [
      "\u001b[1m1/1\u001b[0m \u001b[32m━━━━━━━━━━━━━━━━━━━━\u001b[0m\u001b[37m\u001b[0m \u001b[1m0s\u001b[0m 288ms/step\n"
     ]
    }
   ],
   "source": [
    "Child_predictions = model.predict(test_images)\n",
    "\n",
    "Child_predictions = (Child_predictions >= .5).astype(int)"
   ]
  },
  {
   "cell_type": "code",
   "execution_count": 200,
   "id": "d75b6c00-05ff-47f5-a0b0-eccede2ae98e",
   "metadata": {
    "tags": []
   },
   "outputs": [
    {
     "data": {
      "image/png": "[encoded data removed]",
      "text/plain": [
       "<Figure size 1500x500 with 1 Axes>"
      ]
     },
     "metadata": {},
     "output_type": "display_data"
    }
   ],
   "source": [
    "plt.figure(figsize=(15,5))\n",
    "plt.plot(history.history['val_accuracy'])\n",
    "plt.title('model accuracy')\n",
    "plt.ylabel('accuracy')\n",
    "plt.xlabel('epoch')\n",
    "axes = plt.gca()\n",
    "axes.set_ylim([0.40, 1])\n",
    "plt.show()"
   ]
  },
  {
   "cell_type": "markdown",
   "id": "1f64b726-952b-4c9f-b827-9886fdb5674b",
   "metadata": {},
   "source": [
    "## CNN - Sunset"
   ]
  },
  {
   "cell_type": "code",
   "execution_count": 39,
   "id": "2a0ff776-d3c8-4a27-9de1-980756bcc94f",
   "metadata": {
    "tags": []
   },
   "outputs": [],
   "source": [
    "X = merged_dataset[:, 0:924000]\n",
    "X = X / 255.0\n",
    "y = merged_dataset[:, attr_dict[\"Sunset\"]]\n",
    "\n",
    "X_train, X_test, y_train, y_test = train_test_split(X, y)\n",
    "X_train = X_train.reshape(X_train.shape[0],700,440,3)\n",
    "X_test = X_test.reshape(X_test.shape[0],700,440,3)\n",
    "\n",
    "annealer = LearningRateScheduler(lambda x: 1e-3 * 0.95 ** x, verbose=0)\n",
    "styles=[':','-.','--','-',':','-.','--','-',':','-.','--','-']"
   ]
  },
  {
   "cell_type": "code",
   "execution_count": 41,
   "id": "7863cc2f-f0a0-493b-b777-5acf4730145a",
   "metadata": {
    "tags": []
   },
   "outputs": [
    {
     "name": "stderr",
     "output_type": "stream",
     "text": [
      "C:\\Users\\Bnkes\\anaconda3\\Lib\\site-packages\\keras\\src\\layers\\convolutional\\base_conv.py:107: UserWarning: Do not pass an `input_shape`/`input_dim` argument to a layer. When using Sequential models, prefer using an `Input(shape)` object as the first layer in the model instead.\n",
      "  super().__init__(activity_regularizer=activity_regularizer, **kwargs)\n"
     ]
    }
   ],
   "source": [
    "model = Sequential()\n",
    "model.add(Conv2D(24,kernel_size=5,padding='same',activation='relu',\n",
    "        input_shape=(700,440,3)))\n",
    "model.add(MaxPool2D())\n",
    "model.add(Conv2D(48,kernel_size=5,padding='same',activation='relu'))\n",
    "model.add(MaxPool2D())\n",
    "model.add(Conv2D(64,kernel_size=5,padding='same',activation='relu'))\n",
    "model.add(MaxPool2D(padding='same'))\n",
    "model.add(Flatten())\n",
    "model.add(Dense(256, activation='relu'))\n",
    "model.add(Dense(1, activation='sigmoid'))\n",
    "model.compile(optimizer=\"adam\", loss=\"binary_crossentropy\", metrics=[\"accuracy\"])"
   ]
  },
  {
   "cell_type": "code",
   "execution_count": 43,
   "id": "914830f0-a7af-4f10-a055-ada84a63e1e8",
   "metadata": {
    "tags": []
   },
   "outputs": [
    {
     "name": "stdout",
     "output_type": "stream",
     "text": [
      "Epoch 1/20\n",
      "12/12 - 20s - 2s/step - accuracy: 0.8705 - loss: 2.5068 - val_accuracy: 0.9344 - val_loss: 0.5543 - learning_rate: 0.0010\n",
      "Epoch 2/20\n",
      "12/12 - 18s - 2s/step - accuracy: 0.9201 - loss: 0.3020 - val_accuracy: 0.9344 - val_loss: 0.2224 - learning_rate: 9.5000e-04\n",
      "Epoch 3/20\n",
      "12/12 - 18s - 2s/step - accuracy: 0.9146 - loss: 0.2405 - val_accuracy: 0.9344 - val_loss: 0.1722 - learning_rate: 9.0250e-04\n",
      "Epoch 4/20\n",
      "12/12 - 18s - 2s/step - accuracy: 0.9201 - loss: 0.1978 - val_accuracy: 0.9344 - val_loss: 0.1749 - learning_rate: 8.5737e-04\n",
      "Epoch 5/20\n",
      "12/12 - 18s - 2s/step - accuracy: 0.9256 - loss: 0.1968 - val_accuracy: 0.9344 - val_loss: 0.1857 - learning_rate: 8.1451e-04\n",
      "Epoch 6/20\n",
      "12/12 - 18s - 2s/step - accuracy: 0.9284 - loss: 0.1735 - val_accuracy: 0.9262 - val_loss: 0.2072 - learning_rate: 7.7378e-04\n",
      "Epoch 7/20\n",
      "12/12 - 18s - 2s/step - accuracy: 0.9201 - loss: 0.2023 - val_accuracy: 0.9590 - val_loss: 0.1825 - learning_rate: 7.3509e-04\n",
      "Epoch 8/20\n",
      "12/12 - 19s - 2s/step - accuracy: 0.9421 - loss: 0.1688 - val_accuracy: 0.9508 - val_loss: 0.1627 - learning_rate: 6.9834e-04\n",
      "Epoch 9/20\n",
      "12/12 - 18s - 2s/step - accuracy: 0.9477 - loss: 0.1288 - val_accuracy: 0.9016 - val_loss: 0.3335 - learning_rate: 6.6342e-04\n",
      "Epoch 10/20\n",
      "12/12 - 18s - 2s/step - accuracy: 0.9394 - loss: 0.1368 - val_accuracy: 0.9426 - val_loss: 0.1764 - learning_rate: 6.3025e-04\n",
      "Epoch 11/20\n",
      "12/12 - 18s - 2s/step - accuracy: 0.9421 - loss: 0.1567 - val_accuracy: 0.9508 - val_loss: 0.1845 - learning_rate: 5.9874e-04\n",
      "Epoch 12/20\n",
      "12/12 - 18s - 2s/step - accuracy: 0.9504 - loss: 0.1136 - val_accuracy: 0.9426 - val_loss: 0.2231 - learning_rate: 5.6880e-04\n",
      "Epoch 13/20\n",
      "12/12 - 18s - 2s/step - accuracy: 0.9614 - loss: 0.0899 - val_accuracy: 0.9508 - val_loss: 0.2517 - learning_rate: 5.4036e-04\n",
      "Epoch 14/20\n",
      "12/12 - 18s - 2s/step - accuracy: 0.9532 - loss: 0.0961 - val_accuracy: 0.9344 - val_loss: 0.2665 - learning_rate: 5.1334e-04\n",
      "Epoch 15/20\n",
      "12/12 - 18s - 2s/step - accuracy: 0.9697 - loss: 0.0833 - val_accuracy: 0.9344 - val_loss: 0.2522 - learning_rate: 4.8767e-04\n",
      "Epoch 16/20\n",
      "12/12 - 18s - 2s/step - accuracy: 0.9725 - loss: 0.0672 - val_accuracy: 0.9344 - val_loss: 0.2399 - learning_rate: 4.6329e-04\n",
      "Epoch 17/20\n",
      "12/12 - 18s - 2s/step - accuracy: 0.9862 - loss: 0.0482 - val_accuracy: 0.9344 - val_loss: 0.3101 - learning_rate: 4.4013e-04\n",
      "Epoch 18/20\n",
      "12/12 - 18s - 2s/step - accuracy: 0.9890 - loss: 0.0368 - val_accuracy: 0.9344 - val_loss: 0.3704 - learning_rate: 4.1812e-04\n",
      "Epoch 19/20\n",
      "12/12 - 18s - 2s/step - accuracy: 0.9835 - loss: 0.0499 - val_accuracy: 0.9344 - val_loss: 0.3655 - learning_rate: 3.9721e-04\n",
      "Epoch 20/20\n",
      "12/12 - 18s - 2s/step - accuracy: 0.9862 - loss: 0.0340 - val_accuracy: 0.9344 - val_loss: 0.3358 - learning_rate: 3.7735e-04\n"
     ]
    }
   ],
   "source": [
    "epochs = 20\n",
    "history = model.fit(X_train, y_train, batch_size=32, epochs = epochs, \n",
    "validation_data = (X_test, y_test), callbacks=[annealer], verbose=2)"
   ]
  },
  {
   "cell_type": "code",
   "execution_count": 45,
   "id": "e9283269-adc9-4330-af97-44b9e1b66218",
   "metadata": {
    "tags": []
   },
   "outputs": [
    {
     "name": "stdout",
     "output_type": "stream",
     "text": [
      "\u001b[1m1/1\u001b[0m \u001b[32m━━━━━━━━━━━━━━━━━━━━\u001b[0m\u001b[37m\u001b[0m \u001b[1m0s\u001b[0m 285ms/step\n"
     ]
    }
   ],
   "source": [
    "Sunset_predictions = model.predict(test_images)\n",
    "\n",
    "Sunset_predictions = (Sunset_predictions >= .5).astype(int)"
   ]
  },
  {
   "cell_type": "code",
   "execution_count": 47,
   "id": "ede3979a-3d57-411e-b34f-bd00a8fc951e",
   "metadata": {
    "tags": []
   },
   "outputs": [
    {
     "data": {
      "image/png": "[encoded data removed]",
      "text/plain": [
       "<Figure size 1500x500 with 1 Axes>"
      ]
     },
     "metadata": {},
     "output_type": "display_data"
    }
   ],
   "source": [
    "plt.figure(figsize=(15,5))\n",
    "plt.plot(history.history['val_accuracy'])\n",
    "plt.title('model accuracy')\n",
    "plt.ylabel('accuracy')\n",
    "plt.xlabel('epoch')\n",
    "axes = plt.gca()\n",
    "axes.set_ylim([0.80, 1])\n",
    "plt.show()"
   ]
  },
  {
   "cell_type": "markdown",
   "id": "9b000c95-0e93-494f-adce-4aa7c140c7f4",
   "metadata": {
    "tags": []
   },
   "source": [
    "## CNN - Flower"
   ]
  },
  {
   "cell_type": "code",
   "execution_count": 53,
   "id": "645eaf73-c199-414a-aa64-e27109d8eb55",
   "metadata": {
    "tags": []
   },
   "outputs": [],
   "source": [
    "X = merged_dataset[:, 0:924000]\n",
    "X = X / 255.0\n",
    "y = merged_dataset[:, attr_dict[\"Flower\"]]\n",
    "\n",
    "X_train, X_test, y_train, y_test = train_test_split(X, y)\n",
    "X_train = X_train.reshape(X_train.shape[0],700,440,3)\n",
    "X_test = X_test.reshape(X_test.shape[0],700,440,3)\n",
    "\n",
    "annealer = LearningRateScheduler(lambda x: 1e-3 * 0.95 ** x, verbose=0)\n",
    "styles=[':','-.','--','-',':','-.','--','-',':','-.','--','-']"
   ]
  },
  {
   "cell_type": "code",
   "execution_count": 55,
   "id": "c45034b5-29f6-493c-80d3-bb9973aed459",
   "metadata": {
    "tags": []
   },
   "outputs": [
    {
     "name": "stderr",
     "output_type": "stream",
     "text": [
      "C:\\Users\\Bnkes\\anaconda3\\Lib\\site-packages\\keras\\src\\layers\\convolutional\\base_conv.py:107: UserWarning: Do not pass an `input_shape`/`input_dim` argument to a layer. When using Sequential models, prefer using an `Input(shape)` object as the first layer in the model instead.\n",
      "  super().__init__(activity_regularizer=activity_regularizer, **kwargs)\n"
     ]
    }
   ],
   "source": [
    "model = Sequential()\n",
    "model.add(Conv2D(24,kernel_size=5,padding='same',activation='relu',\n",
    "        input_shape=(700,440,3)))\n",
    "model.add(MaxPool2D())\n",
    "model.add(Conv2D(48,kernel_size=5,padding='same',activation='relu'))\n",
    "model.add(MaxPool2D())\n",
    "model.add(Conv2D(64,kernel_size=5,padding='same',activation='relu'))\n",
    "model.add(MaxPool2D(padding='same'))\n",
    "model.add(Flatten())\n",
    "model.add(Dense(256, activation='relu'))\n",
    "model.add(Dense(1, activation='sigmoid'))\n",
    "model.compile(optimizer=\"adam\", loss=\"binary_crossentropy\", metrics=[\"accuracy\"])"
   ]
  },
  {
   "cell_type": "code",
   "execution_count": 57,
   "id": "a71ccbf2-a085-469a-a6ae-52470e858de8",
   "metadata": {
    "tags": []
   },
   "outputs": [
    {
     "name": "stdout",
     "output_type": "stream",
     "text": [
      "Epoch 1/20\n",
      "12/12 - 20s - 2s/step - accuracy: 0.7989 - loss: 1.4766 - val_accuracy: 0.9590 - val_loss: 0.4061 - learning_rate: 0.0010\n",
      "Epoch 2/20\n",
      "12/12 - 18s - 2s/step - accuracy: 0.9532 - loss: 0.2104 - val_accuracy: 0.9590 - val_loss: 0.2232 - learning_rate: 9.5000e-04\n",
      "Epoch 3/20\n",
      "12/12 - 18s - 2s/step - accuracy: 0.9532 - loss: 0.1877 - val_accuracy: 0.9590 - val_loss: 0.2090 - learning_rate: 9.0250e-04\n",
      "Epoch 4/20\n",
      "12/12 - 18s - 2s/step - accuracy: 0.9532 - loss: 0.1857 - val_accuracy: 0.9590 - val_loss: 0.2270 - learning_rate: 8.5737e-04\n",
      "Epoch 5/20\n",
      "12/12 - 18s - 2s/step - accuracy: 0.9532 - loss: 0.1835 - val_accuracy: 0.9590 - val_loss: 0.2198 - learning_rate: 8.1451e-04\n",
      "Epoch 6/20\n",
      "12/12 - 18s - 2s/step - accuracy: 0.9532 - loss: 0.1833 - val_accuracy: 0.9590 - val_loss: 0.2765 - learning_rate: 7.7378e-04\n",
      "Epoch 7/20\n",
      "12/12 - 18s - 2s/step - accuracy: 0.9532 - loss: 0.1686 - val_accuracy: 0.9590 - val_loss: 0.2239 - learning_rate: 7.3509e-04\n",
      "Epoch 8/20\n",
      "12/12 - 18s - 2s/step - accuracy: 0.9532 - loss: 0.1679 - val_accuracy: 0.9590 - val_loss: 0.2434 - learning_rate: 6.9834e-04\n",
      "Epoch 9/20\n",
      "12/12 - 18s - 2s/step - accuracy: 0.9504 - loss: 0.1859 - val_accuracy: 0.9590 - val_loss: 0.2644 - learning_rate: 6.6342e-04\n",
      "Epoch 10/20\n",
      "12/12 - 18s - 2s/step - accuracy: 0.9532 - loss: 0.1419 - val_accuracy: 0.9590 - val_loss: 0.2436 - learning_rate: 6.3025e-04\n",
      "Epoch 11/20\n",
      "12/12 - 18s - 2s/step - accuracy: 0.9504 - loss: 0.1416 - val_accuracy: 0.9590 - val_loss: 0.2531 - learning_rate: 5.9874e-04\n",
      "Epoch 12/20\n",
      "12/12 - 18s - 2s/step - accuracy: 0.9587 - loss: 0.1386 - val_accuracy: 0.9590 - val_loss: 0.2969 - learning_rate: 5.6880e-04\n",
      "Epoch 13/20\n",
      "12/12 - 18s - 2s/step - accuracy: 0.9504 - loss: 0.1583 - val_accuracy: 0.9590 - val_loss: 0.3145 - learning_rate: 5.4036e-04\n",
      "Epoch 14/20\n",
      "12/12 - 18s - 2s/step - accuracy: 0.9532 - loss: 0.1441 - val_accuracy: 0.9590 - val_loss: 0.2661 - learning_rate: 5.1334e-04\n",
      "Epoch 15/20\n",
      "12/12 - 18s - 2s/step - accuracy: 0.9477 - loss: 0.1322 - val_accuracy: 0.9508 - val_loss: 0.2699 - learning_rate: 4.8767e-04\n",
      "Epoch 16/20\n",
      "12/12 - 18s - 2s/step - accuracy: 0.9532 - loss: 0.1210 - val_accuracy: 0.9590 - val_loss: 0.2643 - learning_rate: 4.6329e-04\n",
      "Epoch 17/20\n",
      "12/12 - 18s - 2s/step - accuracy: 0.9504 - loss: 0.1268 - val_accuracy: 0.9590 - val_loss: 0.2703 - learning_rate: 4.4013e-04\n",
      "Epoch 18/20\n",
      "12/12 - 18s - 2s/step - accuracy: 0.9614 - loss: 0.1062 - val_accuracy: 0.9590 - val_loss: 0.4305 - learning_rate: 4.1812e-04\n",
      "Epoch 19/20\n",
      "12/12 - 18s - 2s/step - accuracy: 0.9559 - loss: 0.1469 - val_accuracy: 0.9590 - val_loss: 0.3070 - learning_rate: 3.9721e-04\n",
      "Epoch 20/20\n",
      "12/12 - 18s - 2s/step - accuracy: 0.9587 - loss: 0.1057 - val_accuracy: 0.9508 - val_loss: 0.2530 - learning_rate: 3.7735e-04\n"
     ]
    }
   ],
   "source": [
    "epochs = 20\n",
    "history = model.fit(X_train, y_train, batch_size=32, epochs = epochs, \n",
    "validation_data = (X_test, y_test), callbacks=[annealer], verbose=2)"
   ]
  },
  {
   "cell_type": "code",
   "execution_count": 59,
   "id": "bc858d1e-a1a0-46ef-af22-3b34056033ea",
   "metadata": {
    "tags": []
   },
   "outputs": [
    {
     "name": "stdout",
     "output_type": "stream",
     "text": [
      "\u001b[1m1/1\u001b[0m \u001b[32m━━━━━━━━━━━━━━━━━━━━\u001b[0m\u001b[37m\u001b[0m \u001b[1m0s\u001b[0m 269ms/step\n"
     ]
    }
   ],
   "source": [
    "Flower_predictions = model.predict(test_images)\n",
    "\n",
    "Flower_predictions = (Flower_predictions >= .5).astype(int)"
   ]
  },
  {
   "cell_type": "code",
   "execution_count": 63,
   "id": "a3ae4677-5f24-44a7-9373-1568dec4a26e",
   "metadata": {
    "tags": []
   },
   "outputs": [
    {
     "data": {
      "image/png": "[encoded data removed]",
      "text/plain": [
       "<Figure size 1500x500 with 1 Axes>"
      ]
     },
     "metadata": {},
     "output_type": "display_data"
    }
   ],
   "source": [
    "plt.figure(figsize=(15,5))\n",
    "plt.plot(history.history['val_accuracy'])\n",
    "plt.title('model accuracy')\n",
    "plt.ylabel('accuracy')\n",
    "plt.xlabel('epoch')\n",
    "axes = plt.gca()\n",
    "axes.set_ylim([0.90, 1])\n",
    "plt.show()"
   ]
  },
  {
   "cell_type": "markdown",
   "id": "472f43e5-419c-4a03-8cf3-33eb1fe59015",
   "metadata": {
    "tags": []
   },
   "source": [
    "## CNN - Animal"
   ]
  },
  {
   "cell_type": "code",
   "execution_count": 70,
   "id": "41cf689f-5edd-419e-a626-e0995db21c3d",
   "metadata": {
    "tags": []
   },
   "outputs": [],
   "source": [
    "X = merged_dataset[:, 0:924000]\n",
    "X = X / 255.0\n",
    "y = merged_dataset[:, attr_dict[\"Animal\"]]\n",
    "\n",
    "X_train, X_test, y_train, y_test = train_test_split(X, y)\n",
    "X_train = X_train.reshape(X_train.shape[0],700,440,3)\n",
    "X_test = X_test.reshape(X_test.shape[0],700,440,3)\n",
    "\n",
    "annealer = LearningRateScheduler(lambda x: 1e-3 * 0.95 ** x, verbose=0)\n",
    "styles=[':','-.','--','-',':','-.','--','-',':','-.','--','-']"
   ]
  },
  {
   "cell_type": "code",
   "execution_count": 72,
   "id": "ae5c0fb8-dbba-4fa9-b0f0-f19c03698b00",
   "metadata": {
    "tags": []
   },
   "outputs": [
    {
     "name": "stderr",
     "output_type": "stream",
     "text": [
      "C:\\Users\\Bnkes\\anaconda3\\Lib\\site-packages\\keras\\src\\layers\\convolutional\\base_conv.py:107: UserWarning: Do not pass an `input_shape`/`input_dim` argument to a layer. When using Sequential models, prefer using an `Input(shape)` object as the first layer in the model instead.\n",
      "  super().__init__(activity_regularizer=activity_regularizer, **kwargs)\n"
     ]
    }
   ],
   "source": [
    "model = Sequential()\n",
    "model.add(Conv2D(24,kernel_size=5,padding='same',activation='relu',\n",
    "        input_shape=(700,440,3)))\n",
    "model.add(MaxPool2D())\n",
    "model.add(Conv2D(48,kernel_size=5,padding='same',activation='relu'))\n",
    "model.add(MaxPool2D())\n",
    "model.add(Conv2D(64,kernel_size=5,padding='same',activation='relu'))\n",
    "model.add(MaxPool2D(padding='same'))\n",
    "model.add(Flatten())\n",
    "model.add(Dense(256, activation='relu'))\n",
    "model.add(Dense(1, activation='sigmoid'))\n",
    "model.compile(optimizer=\"adam\", loss=\"binary_crossentropy\", metrics=[\"accuracy\"])"
   ]
  },
  {
   "cell_type": "code",
   "execution_count": 74,
   "id": "1de6553f-cef3-405f-b68a-2f70b6e35255",
   "metadata": {
    "tags": []
   },
   "outputs": [
    {
     "name": "stdout",
     "output_type": "stream",
     "text": [
      "Epoch 1/20\n",
      "12/12 - 20s - 2s/step - accuracy: 0.8264 - loss: 2.5392 - val_accuracy: 0.9508 - val_loss: 0.1989 - learning_rate: 0.0010\n",
      "Epoch 2/20\n",
      "12/12 - 18s - 2s/step - accuracy: 0.9229 - loss: 0.2919 - val_accuracy: 0.9508 - val_loss: 0.1877 - learning_rate: 9.5000e-04\n",
      "Epoch 3/20\n",
      "12/12 - 18s - 2s/step - accuracy: 0.9256 - loss: 0.2558 - val_accuracy: 0.9426 - val_loss: 0.2035 - learning_rate: 9.0250e-04\n",
      "Epoch 4/20\n",
      "12/12 - 18s - 2s/step - accuracy: 0.9229 - loss: 0.2960 - val_accuracy: 0.9426 - val_loss: 0.2001 - learning_rate: 8.5737e-04\n",
      "Epoch 5/20\n",
      "12/12 - 18s - 2s/step - accuracy: 0.9256 - loss: 0.2589 - val_accuracy: 0.9426 - val_loss: 0.2362 - learning_rate: 8.1451e-04\n",
      "Epoch 6/20\n",
      "12/12 - 18s - 2s/step - accuracy: 0.9201 - loss: 0.2695 - val_accuracy: 0.9508 - val_loss: 0.2305 - learning_rate: 7.7378e-04\n",
      "Epoch 7/20\n",
      "12/12 - 18s - 2s/step - accuracy: 0.9229 - loss: 0.2539 - val_accuracy: 0.9508 - val_loss: 0.1878 - learning_rate: 7.3509e-04\n",
      "Epoch 8/20\n",
      "12/12 - 18s - 2s/step - accuracy: 0.9229 - loss: 0.2748 - val_accuracy: 0.9508 - val_loss: 0.1825 - learning_rate: 6.9834e-04\n",
      "Epoch 9/20\n",
      "12/12 - 18s - 2s/step - accuracy: 0.9174 - loss: 0.2376 - val_accuracy: 0.9508 - val_loss: 0.3336 - learning_rate: 6.6342e-04\n",
      "Epoch 10/20\n",
      "12/12 - 18s - 2s/step - accuracy: 0.9229 - loss: 0.2448 - val_accuracy: 0.9508 - val_loss: 0.1757 - learning_rate: 6.3025e-04\n",
      "Epoch 11/20\n",
      "12/12 - 18s - 2s/step - accuracy: 0.9256 - loss: 0.2421 - val_accuracy: 0.9508 - val_loss: 0.1747 - learning_rate: 5.9874e-04\n",
      "Epoch 12/20\n",
      "12/12 - 18s - 2s/step - accuracy: 0.9256 - loss: 0.2241 - val_accuracy: 0.9508 - val_loss: 0.1966 - learning_rate: 5.6880e-04\n",
      "Epoch 13/20\n",
      "12/12 - 18s - 2s/step - accuracy: 0.9394 - loss: 0.2221 - val_accuracy: 0.9426 - val_loss: 0.1987 - learning_rate: 5.4036e-04\n",
      "Epoch 14/20\n",
      "12/12 - 18s - 2s/step - accuracy: 0.9256 - loss: 0.2183 - val_accuracy: 0.9508 - val_loss: 0.2060 - learning_rate: 5.1334e-04\n",
      "Epoch 15/20\n",
      "12/12 - 18s - 2s/step - accuracy: 0.9339 - loss: 0.2260 - val_accuracy: 0.9426 - val_loss: 0.2020 - learning_rate: 4.8767e-04\n",
      "Epoch 16/20\n",
      "12/12 - 18s - 2s/step - accuracy: 0.9366 - loss: 0.1974 - val_accuracy: 0.9508 - val_loss: 0.1938 - learning_rate: 4.6329e-04\n",
      "Epoch 17/20\n",
      "12/12 - 18s - 2s/step - accuracy: 0.9339 - loss: 0.2007 - val_accuracy: 0.9426 - val_loss: 0.2137 - learning_rate: 4.4013e-04\n",
      "Epoch 18/20\n",
      "12/12 - 18s - 2s/step - accuracy: 0.9284 - loss: 0.1913 - val_accuracy: 0.9508 - val_loss: 0.2019 - learning_rate: 4.1812e-04\n",
      "Epoch 19/20\n",
      "12/12 - 18s - 2s/step - accuracy: 0.9339 - loss: 0.1849 - val_accuracy: 0.9508 - val_loss: 0.1928 - learning_rate: 3.9721e-04\n",
      "Epoch 20/20\n",
      "12/12 - 18s - 2s/step - accuracy: 0.9311 - loss: 0.1875 - val_accuracy: 0.9426 - val_loss: 0.2236 - learning_rate: 3.7735e-04\n"
     ]
    }
   ],
   "source": [
    "epochs = 20\n",
    "history = model.fit(X_train, y_train, batch_size=32, epochs = epochs, \n",
    "validation_data = (X_test, y_test), callbacks=[annealer], verbose=2)"
   ]
  },
  {
   "cell_type": "code",
   "execution_count": 76,
   "id": "85b16417-ffe0-4938-95fd-19cf611a6939",
   "metadata": {
    "tags": []
   },
   "outputs": [
    {
     "name": "stdout",
     "output_type": "stream",
     "text": [
      "\u001b[1m1/1\u001b[0m \u001b[32m━━━━━━━━━━━━━━━━━━━━\u001b[0m\u001b[37m\u001b[0m \u001b[1m0s\u001b[0m 271ms/step\n"
     ]
    }
   ],
   "source": [
    "Animal_predictions = model.predict(test_images)\n",
    "\n",
    "Animal_predictions = (Animal_predictions >= .5).astype(int)"
   ]
  },
  {
   "cell_type": "code",
   "execution_count": 78,
   "id": "1ee63dd7-4fee-4c17-a447-5dd657603315",
   "metadata": {
    "tags": []
   },
   "outputs": [
    {
     "data": {
      "image/png": "[encoded data removed]",
      "text/plain": [
       "<Figure size 1500x500 with 1 Axes>"
      ]
     },
     "metadata": {},
     "output_type": "display_data"
    }
   ],
   "source": [
    "plt.figure(figsize=(15,5))\n",
    "plt.plot(history.history['val_accuracy'])\n",
    "plt.title('model accuracy')\n",
    "plt.ylabel('accuracy')\n",
    "plt.xlabel('epoch')\n",
    "axes = plt.gca()\n",
    "axes.set_ylim([0.90, 1])\n",
    "plt.show()"
   ]
  },
  {
   "cell_type": "markdown",
   "id": "03e4095c-aefb-4f55-a03d-2bc296e631eb",
   "metadata": {
    "tags": []
   },
   "source": [
    "## CNN - Building"
   ]
  },
  {
   "cell_type": "code",
   "execution_count": 84,
   "id": "e3bbf9b8-a4de-4982-bd57-b4b13577619b",
   "metadata": {
    "tags": []
   },
   "outputs": [],
   "source": [
    "X = merged_dataset[:, 0:924000]\n",
    "X = X / 255.0\n",
    "y = merged_dataset[:, attr_dict[\"Building\"]]\n",
    "\n",
    "X_train, X_test, y_train, y_test = train_test_split(X, y)\n",
    "X_train = X_train.reshape(X_train.shape[0],700,440,3)\n",
    "X_test = X_test.reshape(X_test.shape[0],700,440,3)\n",
    "\n",
    "annealer = LearningRateScheduler(lambda x: 1e-3 * 0.95 ** x, verbose=0)\n",
    "styles=[':','-.','--','-',':','-.','--','-',':','-.','--','-']"
   ]
  },
  {
   "cell_type": "code",
   "execution_count": 86,
   "id": "4f3813a8-629f-496e-b710-369d93fa3f44",
   "metadata": {
    "tags": []
   },
   "outputs": [
    {
     "name": "stderr",
     "output_type": "stream",
     "text": [
      "C:\\Users\\Bnkes\\anaconda3\\Lib\\site-packages\\keras\\src\\layers\\convolutional\\base_conv.py:107: UserWarning: Do not pass an `input_shape`/`input_dim` argument to a layer. When using Sequential models, prefer using an `Input(shape)` object as the first layer in the model instead.\n",
      "  super().__init__(activity_regularizer=activity_regularizer, **kwargs)\n"
     ]
    }
   ],
   "source": [
    "model = Sequential()\n",
    "model.add(Conv2D(24,kernel_size=5,padding='same',activation='relu',\n",
    "        input_shape=(700,440,3)))\n",
    "model.add(MaxPool2D())\n",
    "model.add(Conv2D(48,kernel_size=5,padding='same',activation='relu'))\n",
    "model.add(MaxPool2D())\n",
    "model.add(Conv2D(64,kernel_size=5,padding='same',activation='relu'))\n",
    "model.add(MaxPool2D(padding='same'))\n",
    "model.add(Flatten())\n",
    "model.add(Dense(256, activation='relu'))\n",
    "model.add(Dense(1, activation='sigmoid'))\n",
    "model.compile(optimizer=\"adam\", loss=\"binary_crossentropy\", metrics=[\"accuracy\"])"
   ]
  },
  {
   "cell_type": "code",
   "execution_count": 88,
   "id": "48c12739-556f-47c4-b47c-42f9e69302c0",
   "metadata": {
    "tags": []
   },
   "outputs": [
    {
     "name": "stdout",
     "output_type": "stream",
     "text": [
      "Epoch 1/20\n",
      "12/12 - 20s - 2s/step - accuracy: 0.5289 - loss: 5.1040 - val_accuracy: 0.5000 - val_loss: 0.6969 - learning_rate: 0.0010\n",
      "Epoch 2/20\n",
      "12/12 - 18s - 2s/step - accuracy: 0.5289 - loss: 0.6959 - val_accuracy: 0.5000 - val_loss: 0.6938 - learning_rate: 9.5000e-04\n",
      "Epoch 3/20\n",
      "12/12 - 18s - 2s/step - accuracy: 0.5317 - loss: 0.6927 - val_accuracy: 0.5000 - val_loss: 0.6933 - learning_rate: 9.0250e-04\n",
      "Epoch 4/20\n",
      "12/12 - 18s - 2s/step - accuracy: 0.5317 - loss: 0.6925 - val_accuracy: 0.5000 - val_loss: 0.6933 - learning_rate: 8.5737e-04\n",
      "Epoch 5/20\n",
      "12/12 - 18s - 2s/step - accuracy: 0.5317 - loss: 0.6923 - val_accuracy: 0.5000 - val_loss: 0.6930 - learning_rate: 8.1451e-04\n",
      "Epoch 6/20\n",
      "12/12 - 18s - 2s/step - accuracy: 0.5317 - loss: 0.6921 - val_accuracy: 0.5000 - val_loss: 0.6929 - learning_rate: 7.7378e-04\n",
      "Epoch 7/20\n",
      "12/12 - 18s - 2s/step - accuracy: 0.5317 - loss: 0.6920 - val_accuracy: 0.5000 - val_loss: 0.6930 - learning_rate: 7.3509e-04\n",
      "Epoch 8/20\n",
      "12/12 - 18s - 2s/step - accuracy: 0.5317 - loss: 0.6916 - val_accuracy: 0.5000 - val_loss: 0.6932 - learning_rate: 6.9834e-04\n",
      "Epoch 9/20\n",
      "12/12 - 18s - 2s/step - accuracy: 0.5317 - loss: 0.6918 - val_accuracy: 0.5000 - val_loss: 0.6934 - learning_rate: 6.6342e-04\n",
      "Epoch 10/20\n",
      "12/12 - 18s - 2s/step - accuracy: 0.5317 - loss: 0.6914 - val_accuracy: 0.5000 - val_loss: 0.6931 - learning_rate: 6.3025e-04\n",
      "Epoch 11/20\n",
      "12/12 - 18s - 2s/step - accuracy: 0.5317 - loss: 0.6913 - val_accuracy: 0.5000 - val_loss: 0.6931 - learning_rate: 5.9874e-04\n",
      "Epoch 12/20\n",
      "12/12 - 18s - 2s/step - accuracy: 0.5317 - loss: 0.6914 - val_accuracy: 0.5000 - val_loss: 0.6927 - learning_rate: 5.6880e-04\n",
      "Epoch 13/20\n",
      "12/12 - 18s - 2s/step - accuracy: 0.5317 - loss: 0.6911 - val_accuracy: 0.5000 - val_loss: 0.7042 - learning_rate: 5.4036e-04\n",
      "Epoch 14/20\n",
      "12/12 - 18s - 2s/step - accuracy: 0.5317 - loss: 0.6934 - val_accuracy: 0.5000 - val_loss: 0.6925 - learning_rate: 5.1334e-04\n",
      "Epoch 15/20\n",
      "12/12 - 18s - 2s/step - accuracy: 0.5317 - loss: 0.6908 - val_accuracy: 0.5000 - val_loss: 0.6926 - learning_rate: 4.8767e-04\n",
      "Epoch 16/20\n",
      "12/12 - 18s - 2s/step - accuracy: 0.5317 - loss: 0.6907 - val_accuracy: 0.5000 - val_loss: 0.6924 - learning_rate: 4.6329e-04\n",
      "Epoch 17/20\n",
      "12/12 - 18s - 2s/step - accuracy: 0.5317 - loss: 0.6905 - val_accuracy: 0.5000 - val_loss: 0.6923 - learning_rate: 4.4013e-04\n",
      "Epoch 18/20\n",
      "12/12 - 18s - 2s/step - accuracy: 0.5317 - loss: 0.6905 - val_accuracy: 0.5000 - val_loss: 0.6919 - learning_rate: 4.1812e-04\n",
      "Epoch 19/20\n",
      "12/12 - 18s - 2s/step - accuracy: 0.5317 - loss: 0.6904 - val_accuracy: 0.5000 - val_loss: 0.6917 - learning_rate: 3.9721e-04\n",
      "Epoch 20/20\n",
      "12/12 - 18s - 2s/step - accuracy: 0.5317 - loss: 0.6901 - val_accuracy: 0.5000 - val_loss: 0.6918 - learning_rate: 3.7735e-04\n"
     ]
    }
   ],
   "source": [
    "epochs = 20\n",
    "history = model.fit(X_train, y_train, batch_size=32, epochs = epochs, \n",
    "validation_data = (X_test, y_test), callbacks=[annealer], verbose=2)"
   ]
  },
  {
   "cell_type": "code",
   "execution_count": 90,
   "id": "80b9b157-c6e0-4b22-8937-19476b3a41cb",
   "metadata": {
    "tags": []
   },
   "outputs": [
    {
     "name": "stdout",
     "output_type": "stream",
     "text": [
      "\u001b[1m1/1\u001b[0m \u001b[32m━━━━━━━━━━━━━━━━━━━━\u001b[0m\u001b[37m\u001b[0m \u001b[1m0s\u001b[0m 278ms/step\n"
     ]
    }
   ],
   "source": [
    "Building_predictions = model.predict(test_images)\n",
    "\n",
    "Building_predictions = (Building_predictions >= .5).astype(int)"
   ]
  },
  {
   "cell_type": "code",
   "execution_count": 94,
   "id": "65518109-3ea5-4623-9d3c-94bc9cfa7cf6",
   "metadata": {
    "tags": []
   },
   "outputs": [
    {
     "data": {
      "image/png": "[encoded data removed]",
      "text/plain": [
       "<Figure size 1500x500 with 1 Axes>"
      ]
     },
     "metadata": {},
     "output_type": "display_data"
    }
   ],
   "source": [
    "plt.figure(figsize=(15,5))\n",
    "plt.plot(history.history['val_accuracy'])\n",
    "plt.title('model accuracy')\n",
    "plt.ylabel('accuracy')\n",
    "plt.xlabel('epoch')\n",
    "axes = plt.gca()\n",
    "axes.set_ylim([0.40, 1])\n",
    "plt.show()"
   ]
  },
  {
   "cell_type": "markdown",
   "id": "24a51d0f-9a2c-4961-8037-4b94a4eb7b53",
   "metadata": {},
   "source": [
    "## CNN - Mask"
   ]
  },
  {
   "cell_type": "code",
   "execution_count": 98,
   "id": "f540087b-307f-4ec2-912d-94a877b61442",
   "metadata": {
    "tags": []
   },
   "outputs": [],
   "source": [
    "X = merged_dataset[:, 0:924000]\n",
    "X = X / 255.0\n",
    "y = merged_dataset[:, attr_dict[\"Mask\"]]\n",
    "\n",
    "X_train, X_test, y_train, y_test = train_test_split(X, y)\n",
    "X_train = X_train.reshape(X_train.shape[0],700,440,3)\n",
    "X_test = X_test.reshape(X_test.shape[0],700,440,3)\n",
    "\n",
    "annealer = LearningRateScheduler(lambda x: 1e-3 * 0.95 ** x, verbose=0)\n",
    "styles=[':','-.','--','-',':','-.','--','-',':','-.','--','-']"
   ]
  },
  {
   "cell_type": "code",
   "execution_count": 100,
   "id": "1f317eaf-f293-4aa6-8399-84921760bd53",
   "metadata": {
    "tags": []
   },
   "outputs": [
    {
     "name": "stderr",
     "output_type": "stream",
     "text": [
      "C:\\Users\\Bnkes\\anaconda3\\Lib\\site-packages\\keras\\src\\layers\\convolutional\\base_conv.py:107: UserWarning: Do not pass an `input_shape`/`input_dim` argument to a layer. When using Sequential models, prefer using an `Input(shape)` object as the first layer in the model instead.\n",
      "  super().__init__(activity_regularizer=activity_regularizer, **kwargs)\n"
     ]
    }
   ],
   "source": [
    "model = Sequential()\n",
    "model.add(Conv2D(24,kernel_size=5,padding='same',activation='relu',\n",
    "        input_shape=(700,440,3)))\n",
    "model.add(MaxPool2D())\n",
    "model.add(Conv2D(48,kernel_size=5,padding='same',activation='relu'))\n",
    "model.add(MaxPool2D())\n",
    "model.add(Conv2D(64,kernel_size=5,padding='same',activation='relu'))\n",
    "model.add(MaxPool2D(padding='same'))\n",
    "model.add(Flatten())\n",
    "model.add(Dense(256, activation='relu'))\n",
    "model.add(Dense(1, activation='sigmoid'))\n",
    "model.compile(optimizer=\"adam\", loss=\"binary_crossentropy\", metrics=[\"accuracy\"])"
   ]
  },
  {
   "cell_type": "code",
   "execution_count": 102,
   "id": "34ce1359-cdd1-4186-8b76-f3079914f0dc",
   "metadata": {
    "tags": []
   },
   "outputs": [
    {
     "name": "stdout",
     "output_type": "stream",
     "text": [
      "Epoch 1/20\n",
      "12/12 - 20s - 2s/step - accuracy: 0.9063 - loss: 0.7706 - val_accuracy: 0.9754 - val_loss: 0.1334 - learning_rate: 0.0010\n",
      "Epoch 2/20\n",
      "12/12 - 18s - 2s/step - accuracy: 0.9862 - loss: 0.0868 - val_accuracy: 0.9754 - val_loss: 0.1385 - learning_rate: 9.5000e-04\n",
      "Epoch 3/20\n",
      "12/12 - 18s - 2s/step - accuracy: 0.9862 - loss: 0.0786 - val_accuracy: 0.9754 - val_loss: 0.1695 - learning_rate: 9.0250e-04\n",
      "Epoch 4/20\n",
      "12/12 - 18s - 2s/step - accuracy: 0.9862 - loss: 0.0768 - val_accuracy: 0.9754 - val_loss: 0.1330 - learning_rate: 8.5737e-04\n",
      "Epoch 5/20\n",
      "12/12 - 18s - 2s/step - accuracy: 0.9862 - loss: 0.0963 - val_accuracy: 0.9754 - val_loss: 0.1761 - learning_rate: 8.1451e-04\n",
      "Epoch 6/20\n",
      "12/12 - 18s - 2s/step - accuracy: 0.9862 - loss: 0.0655 - val_accuracy: 0.9754 - val_loss: 0.1354 - learning_rate: 7.7378e-04\n",
      "Epoch 7/20\n",
      "12/12 - 18s - 2s/step - accuracy: 0.9862 - loss: 0.0816 - val_accuracy: 0.9754 - val_loss: 0.1511 - learning_rate: 7.3509e-04\n",
      "Epoch 8/20\n",
      "12/12 - 18s - 2s/step - accuracy: 0.9862 - loss: 0.0662 - val_accuracy: 0.9754 - val_loss: 0.1431 - learning_rate: 6.9834e-04\n",
      "Epoch 9/20\n",
      "12/12 - 18s - 2s/step - accuracy: 0.9862 - loss: 0.0904 - val_accuracy: 0.9754 - val_loss: 0.1657 - learning_rate: 6.6342e-04\n",
      "Epoch 10/20\n",
      "12/12 - 18s - 2s/step - accuracy: 0.9862 - loss: 0.0746 - val_accuracy: 0.9754 - val_loss: 0.2225 - learning_rate: 6.3025e-04\n",
      "Epoch 11/20\n",
      "12/12 - 18s - 2s/step - accuracy: 0.9862 - loss: 0.1215 - val_accuracy: 0.9754 - val_loss: 0.1318 - learning_rate: 5.9874e-04\n",
      "Epoch 12/20\n",
      "12/12 - 18s - 2s/step - accuracy: 0.9862 - loss: 0.0666 - val_accuracy: 0.9754 - val_loss: 0.1560 - learning_rate: 5.6880e-04\n",
      "Epoch 13/20\n",
      "12/12 - 18s - 2s/step - accuracy: 0.9862 - loss: 0.0642 - val_accuracy: 0.9754 - val_loss: 0.1503 - learning_rate: 5.4036e-04\n",
      "Epoch 14/20\n",
      "12/12 - 18s - 2s/step - accuracy: 0.9862 - loss: 0.0678 - val_accuracy: 0.9754 - val_loss: 0.1442 - learning_rate: 5.1334e-04\n",
      "Epoch 15/20\n",
      "12/12 - 18s - 2s/step - accuracy: 0.9862 - loss: 0.0676 - val_accuracy: 0.9754 - val_loss: 0.1743 - learning_rate: 4.8767e-04\n",
      "Epoch 16/20\n",
      "12/12 - 18s - 2s/step - accuracy: 0.9862 - loss: 0.0667 - val_accuracy: 0.9754 - val_loss: 0.1443 - learning_rate: 4.6329e-04\n",
      "Epoch 17/20\n",
      "12/12 - 18s - 2s/step - accuracy: 0.9862 - loss: 0.0557 - val_accuracy: 0.9754 - val_loss: 0.1750 - learning_rate: 4.4013e-04\n",
      "Epoch 18/20\n",
      "12/12 - 18s - 2s/step - accuracy: 0.9862 - loss: 0.0655 - val_accuracy: 0.9754 - val_loss: 0.1705 - learning_rate: 4.1812e-04\n",
      "Epoch 19/20\n",
      "12/12 - 18s - 2s/step - accuracy: 0.9862 - loss: 0.0556 - val_accuracy: 0.9754 - val_loss: 0.1668 - learning_rate: 3.9721e-04\n",
      "Epoch 20/20\n",
      "12/12 - 18s - 2s/step - accuracy: 0.9862 - loss: 0.0509 - val_accuracy: 0.9754 - val_loss: 0.1838 - learning_rate: 3.7735e-04\n"
     ]
    }
   ],
   "source": [
    "epochs = 20\n",
    "history = model.fit(X_train, y_train, batch_size=32, epochs = epochs, \n",
    "validation_data = (X_test, y_test), callbacks=[annealer], verbose=2)"
   ]
  },
  {
   "cell_type": "code",
   "execution_count": 104,
   "id": "da49048c-3bab-48fa-8461-93c745eb0997",
   "metadata": {
    "tags": []
   },
   "outputs": [
    {
     "name": "stdout",
     "output_type": "stream",
     "text": [
      "WARNING:tensorflow:5 out of the last 5 calls to <function TensorFlowTrainer.make_predict_function.<locals>.one_step_on_data_distributed at 0x00000110FE4216C0> triggered tf.function retracing. Tracing is expensive and the excessive number of tracings could be due to (1) creating @tf.function repeatedly in a loop, (2) passing tensors with different shapes, (3) passing Python objects instead of tensors. For (1), please define your @tf.function outside of the loop. For (2), @tf.function has reduce_retracing=True option that can avoid unnecessary retracing. For (3), please refer to https://www.tensorflow.org/guide/function#controlling_retracing and https://www.tensorflow.org/api_docs/python/tf/function for  more details.\n",
      "\u001b[1m1/1\u001b[0m \u001b[32m━━━━━━━━━━━━━━━━━━━━\u001b[0m\u001b[37m\u001b[0m \u001b[1m0s\u001b[0m 273ms/step\n"
     ]
    }
   ],
   "source": [
    "Mask_predictions = model.predict(test_images)\n",
    "\n",
    "Mask_predictions = (Mask_predictions >= .5).astype(int)"
   ]
  },
  {
   "cell_type": "code",
   "execution_count": 106,
   "id": "ebf2d5a6-e987-42cd-9812-b4002b3a2d9d",
   "metadata": {
    "tags": []
   },
   "outputs": [
    {
     "data": {
      "image/png": "[encoded data removed]",
      "text/plain": [
       "<Figure size 1500x500 with 1 Axes>"
      ]
     },
     "metadata": {},
     "output_type": "display_data"
    }
   ],
   "source": [
    "plt.figure(figsize=(15,5))\n",
    "plt.plot(history.history['val_accuracy'])\n",
    "plt.title('model accuracy')\n",
    "plt.ylabel('accuracy')\n",
    "plt.xlabel('epoch')\n",
    "axes = plt.gca()\n",
    "axes.set_ylim([0.90, 1])\n",
    "plt.show()"
   ]
  },
  {
   "cell_type": "markdown",
   "id": "8bc6cf15-2ebc-4bec-9cb2-94b434b997d4",
   "metadata": {
    "tags": []
   },
   "source": [
    "## CNN - Gray Hair"
   ]
  },
  {
   "cell_type": "code",
   "execution_count": 112,
   "id": "eba6ee9e-8e0a-4fb9-87ac-4d5dc8182ce6",
   "metadata": {
    "tags": []
   },
   "outputs": [],
   "source": [
    "X = merged_dataset[:, 0:924000]\n",
    "X = X / 255.0\n",
    "y = merged_dataset[:, attr_dict[\"Gray-Hair\"]]\n",
    "\n",
    "X_train, X_test, y_train, y_test = train_test_split(X, y)\n",
    "X_train = X_train.reshape(X_train.shape[0],700,440,3)\n",
    "X_test = X_test.reshape(X_test.shape[0],700,440,3)\n",
    "\n",
    "annealer = LearningRateScheduler(lambda x: 1e-3 * 0.95 ** x, verbose=0)\n",
    "styles=[':','-.','--','-',':','-.','--','-',':','-.','--','-']"
   ]
  },
  {
   "cell_type": "code",
   "execution_count": 114,
   "id": "1ed48ceb-abf3-44cc-8f3b-6614ba8fceb4",
   "metadata": {
    "tags": []
   },
   "outputs": [
    {
     "name": "stderr",
     "output_type": "stream",
     "text": [
      "C:\\Users\\Bnkes\\anaconda3\\Lib\\site-packages\\keras\\src\\layers\\convolutional\\base_conv.py:107: UserWarning: Do not pass an `input_shape`/`input_dim` argument to a layer. When using Sequential models, prefer using an `Input(shape)` object as the first layer in the model instead.\n",
      "  super().__init__(activity_regularizer=activity_regularizer, **kwargs)\n"
     ]
    }
   ],
   "source": [
    "model = Sequential()\n",
    "model.add(Conv2D(24,kernel_size=5,padding='same',activation='relu',\n",
    "        input_shape=(700,440,3)))\n",
    "model.add(MaxPool2D())\n",
    "model.add(Conv2D(48,kernel_size=5,padding='same',activation='relu'))\n",
    "model.add(MaxPool2D())\n",
    "model.add(Conv2D(64,kernel_size=5,padding='same',activation='relu'))\n",
    "model.add(MaxPool2D(padding='same'))\n",
    "model.add(Flatten())\n",
    "model.add(Dense(256, activation='relu'))\n",
    "model.add(Dense(1, activation='sigmoid'))\n",
    "model.compile(optimizer=\"adam\", loss=\"binary_crossentropy\", metrics=[\"accuracy\"])"
   ]
  },
  {
   "cell_type": "code",
   "execution_count": 116,
   "id": "81728002-0d39-4900-9496-b188a0c0ae11",
   "metadata": {
    "tags": []
   },
   "outputs": [
    {
     "name": "stdout",
     "output_type": "stream",
     "text": [
      "Epoch 1/20\n",
      "12/12 - 20s - 2s/step - accuracy: 0.8457 - loss: 1.8191 - val_accuracy: 0.9344 - val_loss: 0.2632 - learning_rate: 0.0010\n",
      "Epoch 2/20\n",
      "12/12 - 18s - 2s/step - accuracy: 0.9559 - loss: 0.2130 - val_accuracy: 0.9344 - val_loss: 0.2446 - learning_rate: 9.5000e-04\n",
      "Epoch 3/20\n",
      "12/12 - 18s - 2s/step - accuracy: 0.9559 - loss: 0.2049 - val_accuracy: 0.9344 - val_loss: 0.6002 - learning_rate: 9.0250e-04\n",
      "Epoch 4/20\n",
      "12/12 - 18s - 2s/step - accuracy: 0.9559 - loss: 0.2717 - val_accuracy: 0.9344 - val_loss: 0.7115 - learning_rate: 8.5737e-04\n",
      "Epoch 5/20\n",
      "12/12 - 18s - 2s/step - accuracy: 0.9559 - loss: 0.2344 - val_accuracy: 0.9344 - val_loss: 0.2431 - learning_rate: 8.1451e-04\n",
      "Epoch 6/20\n",
      "12/12 - 18s - 2s/step - accuracy: 0.9559 - loss: 0.1680 - val_accuracy: 0.9344 - val_loss: 0.2436 - learning_rate: 7.7378e-04\n",
      "Epoch 7/20\n",
      "12/12 - 18s - 2s/step - accuracy: 0.9559 - loss: 0.1651 - val_accuracy: 0.9344 - val_loss: 0.2422 - learning_rate: 7.3509e-04\n",
      "Epoch 8/20\n",
      "12/12 - 18s - 2s/step - accuracy: 0.9559 - loss: 0.1749 - val_accuracy: 0.9344 - val_loss: 0.3151 - learning_rate: 6.9834e-04\n",
      "Epoch 9/20\n",
      "12/12 - 18s - 2s/step - accuracy: 0.9559 - loss: 0.1709 - val_accuracy: 0.9344 - val_loss: 0.2478 - learning_rate: 6.6342e-04\n",
      "Epoch 10/20\n",
      "12/12 - 18s - 2s/step - accuracy: 0.9559 - loss: 0.1673 - val_accuracy: 0.9344 - val_loss: 0.2402 - learning_rate: 6.3025e-04\n",
      "Epoch 11/20\n",
      "12/12 - 18s - 2s/step - accuracy: 0.9559 - loss: 0.1540 - val_accuracy: 0.9344 - val_loss: 0.2570 - learning_rate: 5.9874e-04\n",
      "Epoch 12/20\n",
      "12/12 - 18s - 2s/step - accuracy: 0.9559 - loss: 0.1577 - val_accuracy: 0.9344 - val_loss: 0.2679 - learning_rate: 5.6880e-04\n",
      "Epoch 13/20\n",
      "12/12 - 18s - 2s/step - accuracy: 0.9559 - loss: 0.1580 - val_accuracy: 0.9344 - val_loss: 0.2488 - learning_rate: 5.4036e-04\n",
      "Epoch 14/20\n",
      "12/12 - 18s - 2s/step - accuracy: 0.9559 - loss: 0.1710 - val_accuracy: 0.9344 - val_loss: 0.2533 - learning_rate: 5.1334e-04\n",
      "Epoch 15/20\n",
      "12/12 - 18s - 2s/step - accuracy: 0.9559 - loss: 0.1682 - val_accuracy: 0.9344 - val_loss: 0.2331 - learning_rate: 4.8767e-04\n",
      "Epoch 16/20\n",
      "12/12 - 18s - 2s/step - accuracy: 0.9559 - loss: 0.1497 - val_accuracy: 0.9344 - val_loss: 0.2392 - learning_rate: 4.6329e-04\n",
      "Epoch 17/20\n",
      "12/12 - 18s - 2s/step - accuracy: 0.9559 - loss: 0.1441 - val_accuracy: 0.9344 - val_loss: 0.2461 - learning_rate: 4.4013e-04\n",
      "Epoch 18/20\n",
      "12/12 - 18s - 2s/step - accuracy: 0.9559 - loss: 0.1441 - val_accuracy: 0.9344 - val_loss: 0.2439 - learning_rate: 4.1812e-04\n",
      "Epoch 19/20\n",
      "12/12 - 18s - 2s/step - accuracy: 0.9559 - loss: 0.1480 - val_accuracy: 0.9344 - val_loss: 0.2413 - learning_rate: 3.9721e-04\n",
      "Epoch 20/20\n",
      "12/12 - 18s - 2s/step - accuracy: 0.9559 - loss: 0.1440 - val_accuracy: 0.9344 - val_loss: 0.2386 - learning_rate: 3.7735e-04\n"
     ]
    }
   ],
   "source": [
    "epochs = 20\n",
    "history = model.fit(X_train, y_train, batch_size=32, epochs = epochs, \n",
    "validation_data = (X_test, y_test), callbacks=[annealer], verbose=2)"
   ]
  },
  {
   "cell_type": "code",
   "execution_count": 118,
   "id": "db0d47ee-a585-4e3b-80e4-990cad15bbb8",
   "metadata": {
    "tags": []
   },
   "outputs": [
    {
     "name": "stdout",
     "output_type": "stream",
     "text": [
      "WARNING:tensorflow:6 out of the last 6 calls to <function TensorFlowTrainer.make_predict_function.<locals>.one_step_on_data_distributed at 0x00000110E5FBE660> triggered tf.function retracing. Tracing is expensive and the excessive number of tracings could be due to (1) creating @tf.function repeatedly in a loop, (2) passing tensors with different shapes, (3) passing Python objects instead of tensors. For (1), please define your @tf.function outside of the loop. For (2), @tf.function has reduce_retracing=True option that can avoid unnecessary retracing. For (3), please refer to https://www.tensorflow.org/guide/function#controlling_retracing and https://www.tensorflow.org/api_docs/python/tf/function for  more details.\n",
      "\u001b[1m1/1\u001b[0m \u001b[32m━━━━━━━━━━━━━━━━━━━━\u001b[0m\u001b[37m\u001b[0m \u001b[1m0s\u001b[0m 269ms/step\n"
     ]
    }
   ],
   "source": [
    "GrayHair_predictions = model.predict(test_images)\n",
    "\n",
    "GrayHair_predictions = (GrayHair_predictions >= .5).astype(int)"
   ]
  },
  {
   "cell_type": "code",
   "execution_count": 120,
   "id": "6183bbbd-fa11-44da-8db9-52ff20cd4491",
   "metadata": {
    "tags": []
   },
   "outputs": [
    {
     "data": {
      "image/png": "[encoded data removed]",
      "text/plain": [
       "<Figure size 1500x500 with 1 Axes>"
      ]
     },
     "metadata": {},
     "output_type": "display_data"
    }
   ],
   "source": [
    "plt.figure(figsize=(15,5))\n",
    "plt.plot(history.history['val_accuracy'])\n",
    "plt.title('model accuracy')\n",
    "plt.ylabel('accuracy')\n",
    "plt.xlabel('epoch')\n",
    "axes = plt.gca()\n",
    "axes.set_ylim([0.90, 1])\n",
    "plt.show()"
   ]
  },
  {
   "cell_type": "markdown",
   "id": "c5f743f1-8bff-468a-bbf6-eff863e828c3",
   "metadata": {
    "tags": []
   },
   "source": [
    "## CNN - Fire"
   ]
  },
  {
   "cell_type": "code",
   "execution_count": 126,
   "id": "a3b84583-545f-4238-ae17-aace2db22cee",
   "metadata": {
    "tags": []
   },
   "outputs": [],
   "source": [
    "X = merged_dataset[:, 0:924000]\n",
    "X = X / 255.0\n",
    "y = merged_dataset[:, attr_dict[\"Fire\"]]\n",
    "\n",
    "X_train, X_test, y_train, y_test = train_test_split(X, y)\n",
    "X_train = X_train.reshape(X_train.shape[0],700,440,3)\n",
    "X_test = X_test.reshape(X_test.shape[0],700,440,3)\n",
    "\n",
    "annealer = LearningRateScheduler(lambda x: 1e-3 * 0.95 ** x, verbose=0)\n",
    "styles=[':','-.','--','-',':','-.','--','-',':','-.','--','-']"
   ]
  },
  {
   "cell_type": "code",
   "execution_count": 128,
   "id": "cd360ab9-44ed-4845-83e0-8a2df5818df0",
   "metadata": {
    "tags": []
   },
   "outputs": [
    {
     "name": "stderr",
     "output_type": "stream",
     "text": [
      "C:\\Users\\Bnkes\\anaconda3\\Lib\\site-packages\\keras\\src\\layers\\convolutional\\base_conv.py:107: UserWarning: Do not pass an `input_shape`/`input_dim` argument to a layer. When using Sequential models, prefer using an `Input(shape)` object as the first layer in the model instead.\n",
      "  super().__init__(activity_regularizer=activity_regularizer, **kwargs)\n"
     ]
    }
   ],
   "source": [
    "model = Sequential()\n",
    "model.add(Conv2D(24,kernel_size=5,padding='same',activation='relu',\n",
    "        input_shape=(700,440,3)))\n",
    "model.add(MaxPool2D())\n",
    "model.add(Conv2D(48,kernel_size=5,padding='same',activation='relu'))\n",
    "model.add(MaxPool2D())\n",
    "model.add(Conv2D(64,kernel_size=5,padding='same',activation='relu'))\n",
    "model.add(MaxPool2D(padding='same'))\n",
    "model.add(Flatten())\n",
    "model.add(Dense(256, activation='relu'))\n",
    "model.add(Dense(1, activation='sigmoid'))\n",
    "model.compile(optimizer=\"adam\", loss=\"binary_crossentropy\", metrics=[\"accuracy\"])"
   ]
  },
  {
   "cell_type": "code",
   "execution_count": 130,
   "id": "1a18f902-0047-4cd9-9b85-33543585055d",
   "metadata": {
    "tags": []
   },
   "outputs": [
    {
     "name": "stdout",
     "output_type": "stream",
     "text": [
      "Epoch 1/20\n",
      "12/12 - 20s - 2s/step - accuracy: 0.9118 - loss: 3.2884 - val_accuracy: 0.9508 - val_loss: 0.1395 - learning_rate: 0.0010\n",
      "Epoch 2/20\n",
      "12/12 - 18s - 2s/step - accuracy: 0.9945 - loss: 0.0729 - val_accuracy: 0.9754 - val_loss: 0.1146 - learning_rate: 9.5000e-04\n",
      "Epoch 3/20\n",
      "12/12 - 18s - 2s/step - accuracy: 0.9945 - loss: 0.0419 - val_accuracy: 0.9754 - val_loss: 0.0978 - learning_rate: 9.0250e-04\n",
      "Epoch 4/20\n",
      "12/12 - 18s - 2s/step - accuracy: 0.9945 - loss: 0.0235 - val_accuracy: 0.9754 - val_loss: 0.2062 - learning_rate: 8.5737e-04\n",
      "Epoch 5/20\n",
      "12/12 - 18s - 2s/step - accuracy: 0.9945 - loss: 0.0895 - val_accuracy: 0.9754 - val_loss: 0.0746 - learning_rate: 8.1451e-04\n",
      "Epoch 6/20\n",
      "12/12 - 18s - 2s/step - accuracy: 0.9945 - loss: 0.0363 - val_accuracy: 0.9754 - val_loss: 0.1195 - learning_rate: 7.7378e-04\n",
      "Epoch 7/20\n",
      "12/12 - 18s - 2s/step - accuracy: 0.9945 - loss: 0.0316 - val_accuracy: 0.9754 - val_loss: 0.1313 - learning_rate: 7.3509e-04\n",
      "Epoch 8/20\n",
      "12/12 - 18s - 2s/step - accuracy: 0.9945 - loss: 0.0275 - val_accuracy: 0.9754 - val_loss: 0.1535 - learning_rate: 6.9834e-04\n",
      "Epoch 9/20\n",
      "12/12 - 18s - 2s/step - accuracy: 0.9945 - loss: 0.0287 - val_accuracy: 0.9754 - val_loss: 0.1145 - learning_rate: 6.6342e-04\n",
      "Epoch 10/20\n",
      "12/12 - 18s - 1s/step - accuracy: 0.9945 - loss: 0.0406 - val_accuracy: 0.9754 - val_loss: 0.1201 - learning_rate: 6.3025e-04\n",
      "Epoch 11/20\n",
      "12/12 - 18s - 2s/step - accuracy: 0.9945 - loss: 0.0230 - val_accuracy: 0.9754 - val_loss: 0.1145 - learning_rate: 5.9874e-04\n",
      "Epoch 12/20\n",
      "12/12 - 18s - 2s/step - accuracy: 0.9945 - loss: 0.0201 - val_accuracy: 0.9754 - val_loss: 0.1570 - learning_rate: 5.6880e-04\n",
      "Epoch 13/20\n",
      "12/12 - 18s - 2s/step - accuracy: 0.9945 - loss: 0.0196 - val_accuracy: 0.9754 - val_loss: 0.1915 - learning_rate: 5.4036e-04\n",
      "Epoch 14/20\n",
      "12/12 - 18s - 2s/step - accuracy: 0.9945 - loss: 0.0181 - val_accuracy: 0.9754 - val_loss: 0.1894 - learning_rate: 5.1334e-04\n",
      "Epoch 15/20\n",
      "12/12 - 18s - 2s/step - accuracy: 0.9945 - loss: 0.0171 - val_accuracy: 0.9754 - val_loss: 0.2734 - learning_rate: 4.8767e-04\n",
      "Epoch 16/20\n",
      "12/12 - 18s - 2s/step - accuracy: 0.9945 - loss: 0.0578 - val_accuracy: 0.9754 - val_loss: 0.1915 - learning_rate: 4.6329e-04\n",
      "Epoch 17/20\n",
      "12/12 - 18s - 2s/step - accuracy: 0.9945 - loss: 0.0163 - val_accuracy: 0.9754 - val_loss: 0.1465 - learning_rate: 4.4013e-04\n",
      "Epoch 18/20\n",
      "12/12 - 18s - 2s/step - accuracy: 0.9945 - loss: 0.0168 - val_accuracy: 0.9754 - val_loss: 0.1400 - learning_rate: 4.1812e-04\n",
      "Epoch 19/20\n",
      "12/12 - 18s - 2s/step - accuracy: 0.9945 - loss: 0.0167 - val_accuracy: 0.9754 - val_loss: 0.1617 - learning_rate: 3.9721e-04\n",
      "Epoch 20/20\n",
      "12/12 - 18s - 2s/step - accuracy: 1.0000 - loss: 0.0148 - val_accuracy: 0.9754 - val_loss: 0.1767 - learning_rate: 3.7735e-04\n"
     ]
    }
   ],
   "source": [
    "epochs = 20\n",
    "history = model.fit(X_train, y_train, batch_size=32, epochs = epochs, \n",
    "validation_data = (X_test, y_test), callbacks=[annealer], verbose=2)"
   ]
  },
  {
   "cell_type": "code",
   "execution_count": 131,
   "id": "d53f1656-7d84-4dd0-9477-c9fbb6241ebc",
   "metadata": {
    "tags": []
   },
   "outputs": [
    {
     "name": "stdout",
     "output_type": "stream",
     "text": [
      "\u001b[1m1/1\u001b[0m \u001b[32m━━━━━━━━━━━━━━━━━━━━\u001b[0m\u001b[37m\u001b[0m \u001b[1m0s\u001b[0m 305ms/step\n"
     ]
    }
   ],
   "source": [
    "Fire_predictions = model.predict(test_images)\n",
    "\n",
    "Fire_predictions = (Fire_predictions >= .5).astype(int)"
   ]
  },
  {
   "cell_type": "code",
   "execution_count": 132,
   "id": "94d1b0bc-9f5f-4d6c-a1f7-b2e763a9c618",
   "metadata": {
    "tags": []
   },
   "outputs": [
    {
     "data": {
      "image/png": "[encoded data removed]",
      "text/plain": [
       "<Figure size 1500x500 with 1 Axes>"
      ]
     },
     "metadata": {},
     "output_type": "display_data"
    }
   ],
   "source": [
    "plt.figure(figsize=(15,5))\n",
    "plt.plot(history.history['val_accuracy'])\n",
    "plt.title('model accuracy')\n",
    "plt.ylabel('accuracy')\n",
    "plt.xlabel('epoch')\n",
    "axes = plt.gca()\n",
    "axes.set_ylim([0.90, 1])\n",
    "plt.show()"
   ]
  },
  {
   "cell_type": "markdown",
   "id": "b42e71e9-1413-482f-9b19-8f499f5bf6d7",
   "metadata": {
    "tags": []
   },
   "source": [
    "## CNN - Food/Drink"
   ]
  },
  {
   "cell_type": "code",
   "execution_count": 140,
   "id": "b480483a-8b21-4614-94ca-493e0200201e",
   "metadata": {
    "tags": []
   },
   "outputs": [],
   "source": [
    "X = merged_dataset[:, 0:924000]\n",
    "X = X / 255.0\n",
    "y = merged_dataset[:, attr_dict[\"Food_drink\"]]\n",
    "\n",
    "X_train, X_test, y_train, y_test = train_test_split(X, y)\n",
    "X_train = X_train.reshape(X_train.shape[0],700,440,3)\n",
    "X_test = X_test.reshape(X_test.shape[0],700,440,3)\n",
    "\n",
    "annealer = LearningRateScheduler(lambda x: 1e-3 * 0.95 ** x, verbose=0)\n",
    "styles=[':','-.','--','-',':','-.','--','-',':','-.','--','-']"
   ]
  },
  {
   "cell_type": "code",
   "execution_count": 142,
   "id": "3df31e1a-f04e-4b05-932c-2f17b0531dc2",
   "metadata": {
    "tags": []
   },
   "outputs": [
    {
     "name": "stderr",
     "output_type": "stream",
     "text": [
      "C:\\Users\\Bnkes\\anaconda3\\Lib\\site-packages\\keras\\src\\layers\\convolutional\\base_conv.py:107: UserWarning: Do not pass an `input_shape`/`input_dim` argument to a layer. When using Sequential models, prefer using an `Input(shape)` object as the first layer in the model instead.\n",
      "  super().__init__(activity_regularizer=activity_regularizer, **kwargs)\n"
     ]
    }
   ],
   "source": [
    "model = Sequential()\n",
    "model.add(Conv2D(24,kernel_size=5,padding='same',activation='relu',\n",
    "        input_shape=(700,440,3)))\n",
    "model.add(MaxPool2D())\n",
    "model.add(Conv2D(48,kernel_size=5,padding='same',activation='relu'))\n",
    "model.add(MaxPool2D())\n",
    "model.add(Conv2D(64,kernel_size=5,padding='same',activation='relu'))\n",
    "model.add(MaxPool2D(padding='same'))\n",
    "model.add(Flatten())\n",
    "model.add(Dense(256, activation='relu'))\n",
    "model.add(Dense(1, activation='sigmoid'))\n",
    "model.compile(optimizer=\"adam\", loss=\"binary_crossentropy\", metrics=[\"accuracy\"])"
   ]
  },
  {
   "cell_type": "code",
   "execution_count": 144,
   "id": "92a166c2-cebc-41b4-ab2c-eec0d517630d",
   "metadata": {
    "tags": []
   },
   "outputs": [
    {
     "name": "stdout",
     "output_type": "stream",
     "text": [
      "Epoch 1/20\n",
      "12/12 - 20s - 2s/step - accuracy: 0.8733 - loss: 2.2901 - val_accuracy: 0.9426 - val_loss: 0.2901 - learning_rate: 0.0010\n",
      "Epoch 2/20\n",
      "12/12 - 18s - 2s/step - accuracy: 0.9339 - loss: 0.2785 - val_accuracy: 0.9426 - val_loss: 0.2180 - learning_rate: 9.5000e-04\n",
      "Epoch 3/20\n",
      "12/12 - 18s - 2s/step - accuracy: 0.9311 - loss: 0.3021 - val_accuracy: 0.9426 - val_loss: 0.1970 - learning_rate: 9.0250e-04\n",
      "Epoch 4/20\n",
      "12/12 - 18s - 2s/step - accuracy: 0.9339 - loss: 0.2545 - val_accuracy: 0.9426 - val_loss: 0.1868 - learning_rate: 8.5737e-04\n",
      "Epoch 5/20\n",
      "12/12 - 18s - 2s/step - accuracy: 0.9339 - loss: 0.2281 - val_accuracy: 0.9426 - val_loss: 0.2034 - learning_rate: 8.1451e-04\n",
      "Epoch 6/20\n",
      "12/12 - 18s - 2s/step - accuracy: 0.9339 - loss: 0.2259 - val_accuracy: 0.9426 - val_loss: 0.1901 - learning_rate: 7.7378e-04\n",
      "Epoch 7/20\n",
      "12/12 - 18s - 2s/step - accuracy: 0.9339 - loss: 0.2158 - val_accuracy: 0.9426 - val_loss: 0.1938 - learning_rate: 7.3509e-04\n",
      "Epoch 8/20\n",
      "12/12 - 18s - 2s/step - accuracy: 0.9339 - loss: 0.2098 - val_accuracy: 0.9426 - val_loss: 0.1979 - learning_rate: 6.9834e-04\n",
      "Epoch 9/20\n",
      "12/12 - 18s - 2s/step - accuracy: 0.9339 - loss: 0.2283 - val_accuracy: 0.9426 - val_loss: 0.1944 - learning_rate: 6.6342e-04\n",
      "Epoch 10/20\n",
      "12/12 - 18s - 2s/step - accuracy: 0.9339 - loss: 0.2224 - val_accuracy: 0.9426 - val_loss: 0.2009 - learning_rate: 6.3025e-04\n",
      "Epoch 11/20\n",
      "12/12 - 18s - 2s/step - accuracy: 0.9339 - loss: 0.2153 - val_accuracy: 0.9426 - val_loss: 0.1932 - learning_rate: 5.9874e-04\n",
      "Epoch 12/20\n",
      "12/12 - 18s - 2s/step - accuracy: 0.9339 - loss: 0.2031 - val_accuracy: 0.9426 - val_loss: 0.1696 - learning_rate: 5.6880e-04\n",
      "Epoch 13/20\n",
      "12/12 - 18s - 2s/step - accuracy: 0.9311 - loss: 0.1997 - val_accuracy: 0.9426 - val_loss: 0.1932 - learning_rate: 5.4036e-04\n",
      "Epoch 14/20\n",
      "12/12 - 18s - 2s/step - accuracy: 0.9311 - loss: 0.1997 - val_accuracy: 0.9426 - val_loss: 0.1824 - learning_rate: 5.1334e-04\n",
      "Epoch 15/20\n",
      "12/12 - 18s - 2s/step - accuracy: 0.9339 - loss: 0.1872 - val_accuracy: 0.9426 - val_loss: 0.1663 - learning_rate: 4.8767e-04\n",
      "Epoch 16/20\n",
      "12/12 - 18s - 2s/step - accuracy: 0.9339 - loss: 0.1877 - val_accuracy: 0.9426 - val_loss: 0.2072 - learning_rate: 4.6329e-04\n",
      "Epoch 17/20\n",
      "12/12 - 18s - 2s/step - accuracy: 0.9311 - loss: 0.1898 - val_accuracy: 0.9426 - val_loss: 0.1733 - learning_rate: 4.4013e-04\n",
      "Epoch 18/20\n",
      "12/12 - 18s - 2s/step - accuracy: 0.9339 - loss: 0.1817 - val_accuracy: 0.9426 - val_loss: 0.1821 - learning_rate: 4.1812e-04\n",
      "Epoch 19/20\n",
      "12/12 - 18s - 2s/step - accuracy: 0.9449 - loss: 0.1777 - val_accuracy: 0.9426 - val_loss: 0.1655 - learning_rate: 3.9721e-04\n",
      "Epoch 20/20\n",
      "12/12 - 18s - 2s/step - accuracy: 0.9339 - loss: 0.1830 - val_accuracy: 0.9426 - val_loss: 0.1898 - learning_rate: 3.7735e-04\n"
     ]
    }
   ],
   "source": [
    "epochs = 20\n",
    "history = model.fit(X_train, y_train, batch_size=32, epochs = epochs, \n",
    "validation_data = (X_test, y_test), callbacks=[annealer], verbose=2)"
   ]
  },
  {
   "cell_type": "code",
   "execution_count": 146,
   "id": "d42a7c64-e30e-4cc7-b2f2-ca38f88ebcb1",
   "metadata": {
    "tags": []
   },
   "outputs": [
    {
     "name": "stdout",
     "output_type": "stream",
     "text": [
      "\u001b[1m1/1\u001b[0m \u001b[32m━━━━━━━━━━━━━━━━━━━━\u001b[0m\u001b[37m\u001b[0m \u001b[1m0s\u001b[0m 270ms/step\n"
     ]
    }
   ],
   "source": [
    "FoodDrink_predictions = model.predict(test_images)\n",
    "\n",
    "FoodDrink_predictions = (FoodDrink_predictions >= .5).astype(int)"
   ]
  },
  {
   "cell_type": "code",
   "execution_count": 148,
   "id": "b0265256-b65b-4e71-8699-ab971af905c1",
   "metadata": {
    "tags": []
   },
   "outputs": [
    {
     "data": {
      "image/png": "[encoded data removed]",
      "text/plain": [
       "<Figure size 1500x500 with 1 Axes>"
      ]
     },
     "metadata": {},
     "output_type": "display_data"
    }
   ],
   "source": [
    "plt.figure(figsize=(15,5))\n",
    "plt.plot(history.history['val_accuracy'])\n",
    "plt.title('model accuracy')\n",
    "plt.ylabel('accuracy')\n",
    "plt.xlabel('epoch')\n",
    "axes = plt.gca()\n",
    "axes.set_ylim([0.90, 1])\n",
    "plt.show()"
   ]
  },
  {
   "cell_type": "code",
   "execution_count": 264,
   "id": "3602944f-0fa9-45e6-a789-b62e4fe0cc62",
   "metadata": {
    "tags": []
   },
   "outputs": [],
   "source": [
    "preds = np.concatenate(\n",
    "    [Human_predictions, Castle_predictions, Indoor_predictions, Landscape_predictions.reshape(20, 1), Woman_predictions, Daytime_predictions, Child_predictions, Sunset_predictions, Flower_predictions, Animal_predictions, Building_predictions, Mask_predictions, GrayHair_predictions, Fire_predictions, FoodDrink_predictions],\n",
    "    axis = 1\n",
    ")\n",
    "\n",
    "pred_df = pd.DataFrame(\n",
    "    preds,\n",
    "    columns=[\"Human\", \"Castle\", \"Indoors\", \"Landscape\", \"Woman\", \"Daytime\", \"Children\", \"Sunset\", \"Flower\", \"Animal\", \"Building\", \"Mask\", \"Gray-Hair\", \"Fire\", \"Food/Drink\"]\n",
    ")"
   ]
  },
  {
   "cell_type": "markdown",
   "id": "4f6fa086-8b39-4c93-babc-13f11f032121",
   "metadata": {
    "tags": []
   },
   "source": [
    "## Image Classification"
   ]
  },
  {
   "cell_type": "code",
   "execution_count": 25,
   "id": "b8519c8d-0759-4d20-857d-89e215ab7031",
   "metadata": {
    "tags": []
   },
   "outputs": [
    {
     "data": {
      "text/html": [
       "<div>\n",
       "<style scoped>\n",
       "    .dataframe tbody tr th:only-of-type {\n",
       "        vertical-align: middle;\n",
       "    }\n",
       "\n",
       "    .dataframe tbody tr th {\n",
       "        vertical-align: top;\n",
       "    }\n",
       "\n",
       "    .dataframe thead th {\n",
       "        text-align: right;\n",
       "    }\n",
       "</style>\n",
       "<table border=\"1\" class=\"dataframe\">\n",
       "  <thead>\n",
       "    <tr style=\"text-align: right;\">\n",
       "      <th></th>\n",
       "      <th>image_name</th>\n",
       "      <th>Human</th>\n",
       "      <th>Castle</th>\n",
       "      <th>Indoors</th>\n",
       "      <th>Landscape</th>\n",
       "      <th>Woman</th>\n",
       "      <th>Daytime</th>\n",
       "      <th>Children</th>\n",
       "      <th>Sunset</th>\n",
       "      <th>Flower</th>\n",
       "      <th>Animal</th>\n",
       "      <th>Building</th>\n",
       "      <th>Mask</th>\n",
       "      <th>Gray-Hair</th>\n",
       "      <th>Fire</th>\n",
       "      <th>Food_drink</th>\n",
       "      <th>Photographer</th>\n",
       "    </tr>\n",
       "  </thead>\n",
       "  <tbody>\n",
       "    <tr>\n",
       "      <th>0</th>\n",
       "      <td>Alex-Image01.png</td>\n",
       "      <td>1</td>\n",
       "      <td>0</td>\n",
       "      <td>0</td>\n",
       "      <td>2</td>\n",
       "      <td>0</td>\n",
       "      <td>1</td>\n",
       "      <td>1</td>\n",
       "      <td>0</td>\n",
       "      <td>0</td>\n",
       "      <td>1</td>\n",
       "      <td>0</td>\n",
       "      <td>0</td>\n",
       "      <td>0</td>\n",
       "      <td>0</td>\n",
       "      <td>0</td>\n",
       "      <td>0</td>\n",
       "    </tr>\n",
       "    <tr>\n",
       "      <th>1</th>\n",
       "      <td>Alex-Image02.png</td>\n",
       "      <td>1</td>\n",
       "      <td>0</td>\n",
       "      <td>0</td>\n",
       "      <td>2</td>\n",
       "      <td>0</td>\n",
       "      <td>1</td>\n",
       "      <td>1</td>\n",
       "      <td>0</td>\n",
       "      <td>0</td>\n",
       "      <td>0</td>\n",
       "      <td>1</td>\n",
       "      <td>0</td>\n",
       "      <td>0</td>\n",
       "      <td>0</td>\n",
       "      <td>0</td>\n",
       "      <td>0</td>\n",
       "    </tr>\n",
       "    <tr>\n",
       "      <th>2</th>\n",
       "      <td>Alex-Image03.png</td>\n",
       "      <td>0</td>\n",
       "      <td>0</td>\n",
       "      <td>0</td>\n",
       "      <td>0</td>\n",
       "      <td>0</td>\n",
       "      <td>1</td>\n",
       "      <td>0</td>\n",
       "      <td>0</td>\n",
       "      <td>0</td>\n",
       "      <td>0</td>\n",
       "      <td>1</td>\n",
       "      <td>0</td>\n",
       "      <td>0</td>\n",
       "      <td>0</td>\n",
       "      <td>0</td>\n",
       "      <td>0</td>\n",
       "    </tr>\n",
       "    <tr>\n",
       "      <th>3</th>\n",
       "      <td>Alex-Image04.png</td>\n",
       "      <td>0</td>\n",
       "      <td>0</td>\n",
       "      <td>0</td>\n",
       "      <td>1</td>\n",
       "      <td>0</td>\n",
       "      <td>1</td>\n",
       "      <td>0</td>\n",
       "      <td>0</td>\n",
       "      <td>0</td>\n",
       "      <td>0</td>\n",
       "      <td>0</td>\n",
       "      <td>0</td>\n",
       "      <td>0</td>\n",
       "      <td>0</td>\n",
       "      <td>0</td>\n",
       "      <td>0</td>\n",
       "    </tr>\n",
       "    <tr>\n",
       "      <th>4</th>\n",
       "      <td>Alex-Image05.png</td>\n",
       "      <td>0</td>\n",
       "      <td>0</td>\n",
       "      <td>0</td>\n",
       "      <td>1</td>\n",
       "      <td>0</td>\n",
       "      <td>1</td>\n",
       "      <td>0</td>\n",
       "      <td>0</td>\n",
       "      <td>0</td>\n",
       "      <td>0</td>\n",
       "      <td>0</td>\n",
       "      <td>0</td>\n",
       "      <td>0</td>\n",
       "      <td>0</td>\n",
       "      <td>0</td>\n",
       "      <td>0</td>\n",
       "    </tr>\n",
       "    <tr>\n",
       "      <th>...</th>\n",
       "      <td>...</td>\n",
       "      <td>...</td>\n",
       "      <td>...</td>\n",
       "      <td>...</td>\n",
       "      <td>...</td>\n",
       "      <td>...</td>\n",
       "      <td>...</td>\n",
       "      <td>...</td>\n",
       "      <td>...</td>\n",
       "      <td>...</td>\n",
       "      <td>...</td>\n",
       "      <td>...</td>\n",
       "      <td>...</td>\n",
       "      <td>...</td>\n",
       "      <td>...</td>\n",
       "      <td>...</td>\n",
       "      <td>...</td>\n",
       "    </tr>\n",
       "    <tr>\n",
       "      <th>480</th>\n",
       "      <td>Kelly-Image225.png</td>\n",
       "      <td>0</td>\n",
       "      <td>0</td>\n",
       "      <td>0</td>\n",
       "      <td>1</td>\n",
       "      <td>0</td>\n",
       "      <td>1</td>\n",
       "      <td>0</td>\n",
       "      <td>0</td>\n",
       "      <td>1</td>\n",
       "      <td>1</td>\n",
       "      <td>0</td>\n",
       "      <td>0</td>\n",
       "      <td>0</td>\n",
       "      <td>0</td>\n",
       "      <td>0</td>\n",
       "      <td>1</td>\n",
       "    </tr>\n",
       "    <tr>\n",
       "      <th>481</th>\n",
       "      <td>Kelly-Image226.png</td>\n",
       "      <td>0</td>\n",
       "      <td>0</td>\n",
       "      <td>0</td>\n",
       "      <td>1</td>\n",
       "      <td>0</td>\n",
       "      <td>0</td>\n",
       "      <td>0</td>\n",
       "      <td>1</td>\n",
       "      <td>1</td>\n",
       "      <td>0</td>\n",
       "      <td>0</td>\n",
       "      <td>0</td>\n",
       "      <td>0</td>\n",
       "      <td>0</td>\n",
       "      <td>0</td>\n",
       "      <td>1</td>\n",
       "    </tr>\n",
       "    <tr>\n",
       "      <th>482</th>\n",
       "      <td>Kelly-Image227.png</td>\n",
       "      <td>1</td>\n",
       "      <td>0</td>\n",
       "      <td>1</td>\n",
       "      <td>0</td>\n",
       "      <td>0</td>\n",
       "      <td>0</td>\n",
       "      <td>0</td>\n",
       "      <td>0</td>\n",
       "      <td>0</td>\n",
       "      <td>1</td>\n",
       "      <td>1</td>\n",
       "      <td>0</td>\n",
       "      <td>0</td>\n",
       "      <td>0</td>\n",
       "      <td>0</td>\n",
       "      <td>1</td>\n",
       "    </tr>\n",
       "    <tr>\n",
       "      <th>483</th>\n",
       "      <td>Kelly-Image228.png</td>\n",
       "      <td>1</td>\n",
       "      <td>0</td>\n",
       "      <td>0</td>\n",
       "      <td>0</td>\n",
       "      <td>0</td>\n",
       "      <td>1</td>\n",
       "      <td>0</td>\n",
       "      <td>0</td>\n",
       "      <td>0</td>\n",
       "      <td>0</td>\n",
       "      <td>1</td>\n",
       "      <td>0</td>\n",
       "      <td>0</td>\n",
       "      <td>0</td>\n",
       "      <td>0</td>\n",
       "      <td>1</td>\n",
       "    </tr>\n",
       "    <tr>\n",
       "      <th>484</th>\n",
       "      <td>Kelly-Image229.png</td>\n",
       "      <td>1</td>\n",
       "      <td>0</td>\n",
       "      <td>1</td>\n",
       "      <td>0</td>\n",
       "      <td>1</td>\n",
       "      <td>0</td>\n",
       "      <td>0</td>\n",
       "      <td>0</td>\n",
       "      <td>0</td>\n",
       "      <td>0</td>\n",
       "      <td>1</td>\n",
       "      <td>0</td>\n",
       "      <td>0</td>\n",
       "      <td>0</td>\n",
       "      <td>0</td>\n",
       "      <td>1</td>\n",
       "    </tr>\n",
       "  </tbody>\n",
       "</table>\n",
       "<p>485 rows × 17 columns</p>\n",
       "</div>"
      ],
      "text/plain": [
       "             image_name  Human  Castle  Indoors  Landscape  Woman  Daytime  \\\n",
       "0      Alex-Image01.png      1       0        0          2      0        1   \n",
       "1      Alex-Image02.png      1       0        0          2      0        1   \n",
       "2      Alex-Image03.png      0       0        0          0      0        1   \n",
       "3      Alex-Image04.png      0       0        0          1      0        1   \n",
       "4      Alex-Image05.png      0       0        0          1      0        1   \n",
       "..                  ...    ...     ...      ...        ...    ...      ...   \n",
       "480  Kelly-Image225.png      0       0        0          1      0        1   \n",
       "481  Kelly-Image226.png      0       0        0          1      0        0   \n",
       "482  Kelly-Image227.png      1       0        1          0      0        0   \n",
       "483  Kelly-Image228.png      1       0        0          0      0        1   \n",
       "484  Kelly-Image229.png      1       0        1          0      1        0   \n",
       "\n",
       "     Children  Sunset  Flower  Animal  Building  Mask  Gray-Hair  Fire  \\\n",
       "0           1       0       0       1         0     0          0     0   \n",
       "1           1       0       0       0         1     0          0     0   \n",
       "2           0       0       0       0         1     0          0     0   \n",
       "3           0       0       0       0         0     0          0     0   \n",
       "4           0       0       0       0         0     0          0     0   \n",
       "..        ...     ...     ...     ...       ...   ...        ...   ...   \n",
       "480         0       0       1       1         0     0          0     0   \n",
       "481         0       1       1       0         0     0          0     0   \n",
       "482         0       0       0       1         1     0          0     0   \n",
       "483         0       0       0       0         1     0          0     0   \n",
       "484         0       0       0       0         1     0          0     0   \n",
       "\n",
       "     Food_drink  Photographer  \n",
       "0             0             0  \n",
       "1             0             0  \n",
       "2             0             0  \n",
       "3             0             0  \n",
       "4             0             0  \n",
       "..          ...           ...  \n",
       "480           0             1  \n",
       "481           0             1  \n",
       "482           0             1  \n",
       "483           0             1  \n",
       "484           0             1  \n",
       "\n",
       "[485 rows x 17 columns]"
      ]
     },
     "execution_count": 25,
     "metadata": {},
     "output_type": "execute_result"
    }
   ],
   "source": [
    "labels"
   ]
  },
  {
   "cell_type": "code",
   "execution_count": 27,
   "id": "572966c9-2e03-4369-91c8-b85cb63b76ab",
   "metadata": {
    "tags": []
   },
   "outputs": [
    {
     "data": {
      "text/html": [
       "<div>\n",
       "<style scoped>\n",
       "    .dataframe tbody tr th:only-of-type {\n",
       "        vertical-align: middle;\n",
       "    }\n",
       "\n",
       "    .dataframe tbody tr th {\n",
       "        vertical-align: top;\n",
       "    }\n",
       "\n",
       "    .dataframe thead th {\n",
       "        text-align: right;\n",
       "    }\n",
       "</style>\n",
       "<table border=\"1\" class=\"dataframe\">\n",
       "  <thead>\n",
       "    <tr style=\"text-align: right;\">\n",
       "      <th></th>\n",
       "      <th>Human</th>\n",
       "      <th>Castle</th>\n",
       "      <th>Indoors</th>\n",
       "      <th>Landscape</th>\n",
       "      <th>Woman</th>\n",
       "      <th>Daytime</th>\n",
       "      <th>Children</th>\n",
       "      <th>Sunset</th>\n",
       "      <th>Flower</th>\n",
       "      <th>Animal</th>\n",
       "      <th>Building</th>\n",
       "      <th>Mask</th>\n",
       "      <th>Gray-Hair</th>\n",
       "      <th>Fire</th>\n",
       "      <th>Food/Drink</th>\n",
       "    </tr>\n",
       "  </thead>\n",
       "  <tbody>\n",
       "    <tr>\n",
       "      <th>0</th>\n",
       "      <td>0</td>\n",
       "      <td>0</td>\n",
       "      <td>0</td>\n",
       "      <td>2</td>\n",
       "      <td>0</td>\n",
       "      <td>1</td>\n",
       "      <td>0</td>\n",
       "      <td>0</td>\n",
       "      <td>0</td>\n",
       "      <td>0</td>\n",
       "      <td>0</td>\n",
       "      <td>0</td>\n",
       "      <td>0</td>\n",
       "      <td>0</td>\n",
       "      <td>0</td>\n",
       "    </tr>\n",
       "    <tr>\n",
       "      <th>1</th>\n",
       "      <td>0</td>\n",
       "      <td>0</td>\n",
       "      <td>0</td>\n",
       "      <td>1</td>\n",
       "      <td>0</td>\n",
       "      <td>1</td>\n",
       "      <td>0</td>\n",
       "      <td>0</td>\n",
       "      <td>0</td>\n",
       "      <td>0</td>\n",
       "      <td>0</td>\n",
       "      <td>0</td>\n",
       "      <td>0</td>\n",
       "      <td>0</td>\n",
       "      <td>0</td>\n",
       "    </tr>\n",
       "    <tr>\n",
       "      <th>2</th>\n",
       "      <td>0</td>\n",
       "      <td>0</td>\n",
       "      <td>0</td>\n",
       "      <td>1</td>\n",
       "      <td>0</td>\n",
       "      <td>1</td>\n",
       "      <td>0</td>\n",
       "      <td>0</td>\n",
       "      <td>0</td>\n",
       "      <td>0</td>\n",
       "      <td>0</td>\n",
       "      <td>0</td>\n",
       "      <td>0</td>\n",
       "      <td>0</td>\n",
       "      <td>0</td>\n",
       "    </tr>\n",
       "    <tr>\n",
       "      <th>3</th>\n",
       "      <td>0</td>\n",
       "      <td>0</td>\n",
       "      <td>0</td>\n",
       "      <td>0</td>\n",
       "      <td>0</td>\n",
       "      <td>1</td>\n",
       "      <td>0</td>\n",
       "      <td>0</td>\n",
       "      <td>0</td>\n",
       "      <td>0</td>\n",
       "      <td>0</td>\n",
       "      <td>0</td>\n",
       "      <td>0</td>\n",
       "      <td>0</td>\n",
       "      <td>0</td>\n",
       "    </tr>\n",
       "    <tr>\n",
       "      <th>4</th>\n",
       "      <td>0</td>\n",
       "      <td>0</td>\n",
       "      <td>0</td>\n",
       "      <td>1</td>\n",
       "      <td>0</td>\n",
       "      <td>1</td>\n",
       "      <td>0</td>\n",
       "      <td>0</td>\n",
       "      <td>0</td>\n",
       "      <td>0</td>\n",
       "      <td>0</td>\n",
       "      <td>0</td>\n",
       "      <td>0</td>\n",
       "      <td>0</td>\n",
       "      <td>0</td>\n",
       "    </tr>\n",
       "    <tr>\n",
       "      <th>5</th>\n",
       "      <td>0</td>\n",
       "      <td>0</td>\n",
       "      <td>0</td>\n",
       "      <td>2</td>\n",
       "      <td>0</td>\n",
       "      <td>1</td>\n",
       "      <td>0</td>\n",
       "      <td>0</td>\n",
       "      <td>0</td>\n",
       "      <td>0</td>\n",
       "      <td>0</td>\n",
       "      <td>0</td>\n",
       "      <td>0</td>\n",
       "      <td>0</td>\n",
       "      <td>0</td>\n",
       "    </tr>\n",
       "    <tr>\n",
       "      <th>6</th>\n",
       "      <td>1</td>\n",
       "      <td>0</td>\n",
       "      <td>0</td>\n",
       "      <td>1</td>\n",
       "      <td>0</td>\n",
       "      <td>0</td>\n",
       "      <td>0</td>\n",
       "      <td>0</td>\n",
       "      <td>0</td>\n",
       "      <td>0</td>\n",
       "      <td>0</td>\n",
       "      <td>0</td>\n",
       "      <td>0</td>\n",
       "      <td>0</td>\n",
       "      <td>0</td>\n",
       "    </tr>\n",
       "    <tr>\n",
       "      <th>7</th>\n",
       "      <td>0</td>\n",
       "      <td>0</td>\n",
       "      <td>0</td>\n",
       "      <td>2</td>\n",
       "      <td>0</td>\n",
       "      <td>1</td>\n",
       "      <td>0</td>\n",
       "      <td>0</td>\n",
       "      <td>0</td>\n",
       "      <td>0</td>\n",
       "      <td>0</td>\n",
       "      <td>0</td>\n",
       "      <td>0</td>\n",
       "      <td>0</td>\n",
       "      <td>0</td>\n",
       "    </tr>\n",
       "    <tr>\n",
       "      <th>8</th>\n",
       "      <td>0</td>\n",
       "      <td>0</td>\n",
       "      <td>0</td>\n",
       "      <td>2</td>\n",
       "      <td>0</td>\n",
       "      <td>1</td>\n",
       "      <td>0</td>\n",
       "      <td>0</td>\n",
       "      <td>0</td>\n",
       "      <td>0</td>\n",
       "      <td>0</td>\n",
       "      <td>0</td>\n",
       "      <td>0</td>\n",
       "      <td>0</td>\n",
       "      <td>0</td>\n",
       "    </tr>\n",
       "    <tr>\n",
       "      <th>9</th>\n",
       "      <td>1</td>\n",
       "      <td>0</td>\n",
       "      <td>0</td>\n",
       "      <td>1</td>\n",
       "      <td>0</td>\n",
       "      <td>0</td>\n",
       "      <td>0</td>\n",
       "      <td>1</td>\n",
       "      <td>0</td>\n",
       "      <td>0</td>\n",
       "      <td>0</td>\n",
       "      <td>0</td>\n",
       "      <td>0</td>\n",
       "      <td>0</td>\n",
       "      <td>0</td>\n",
       "    </tr>\n",
       "    <tr>\n",
       "      <th>10</th>\n",
       "      <td>0</td>\n",
       "      <td>0</td>\n",
       "      <td>0</td>\n",
       "      <td>1</td>\n",
       "      <td>0</td>\n",
       "      <td>1</td>\n",
       "      <td>0</td>\n",
       "      <td>0</td>\n",
       "      <td>0</td>\n",
       "      <td>0</td>\n",
       "      <td>0</td>\n",
       "      <td>0</td>\n",
       "      <td>0</td>\n",
       "      <td>0</td>\n",
       "      <td>0</td>\n",
       "    </tr>\n",
       "    <tr>\n",
       "      <th>11</th>\n",
       "      <td>0</td>\n",
       "      <td>0</td>\n",
       "      <td>0</td>\n",
       "      <td>1</td>\n",
       "      <td>0</td>\n",
       "      <td>1</td>\n",
       "      <td>0</td>\n",
       "      <td>0</td>\n",
       "      <td>0</td>\n",
       "      <td>0</td>\n",
       "      <td>0</td>\n",
       "      <td>0</td>\n",
       "      <td>0</td>\n",
       "      <td>0</td>\n",
       "      <td>0</td>\n",
       "    </tr>\n",
       "    <tr>\n",
       "      <th>12</th>\n",
       "      <td>0</td>\n",
       "      <td>0</td>\n",
       "      <td>0</td>\n",
       "      <td>1</td>\n",
       "      <td>0</td>\n",
       "      <td>1</td>\n",
       "      <td>0</td>\n",
       "      <td>0</td>\n",
       "      <td>0</td>\n",
       "      <td>0</td>\n",
       "      <td>0</td>\n",
       "      <td>0</td>\n",
       "      <td>0</td>\n",
       "      <td>0</td>\n",
       "      <td>0</td>\n",
       "    </tr>\n",
       "    <tr>\n",
       "      <th>13</th>\n",
       "      <td>0</td>\n",
       "      <td>0</td>\n",
       "      <td>0</td>\n",
       "      <td>0</td>\n",
       "      <td>0</td>\n",
       "      <td>1</td>\n",
       "      <td>0</td>\n",
       "      <td>0</td>\n",
       "      <td>0</td>\n",
       "      <td>0</td>\n",
       "      <td>0</td>\n",
       "      <td>0</td>\n",
       "      <td>0</td>\n",
       "      <td>0</td>\n",
       "      <td>0</td>\n",
       "    </tr>\n",
       "    <tr>\n",
       "      <th>14</th>\n",
       "      <td>1</td>\n",
       "      <td>0</td>\n",
       "      <td>0</td>\n",
       "      <td>1</td>\n",
       "      <td>0</td>\n",
       "      <td>1</td>\n",
       "      <td>0</td>\n",
       "      <td>0</td>\n",
       "      <td>0</td>\n",
       "      <td>0</td>\n",
       "      <td>0</td>\n",
       "      <td>0</td>\n",
       "      <td>0</td>\n",
       "      <td>0</td>\n",
       "      <td>0</td>\n",
       "    </tr>\n",
       "    <tr>\n",
       "      <th>15</th>\n",
       "      <td>1</td>\n",
       "      <td>0</td>\n",
       "      <td>0</td>\n",
       "      <td>1</td>\n",
       "      <td>0</td>\n",
       "      <td>1</td>\n",
       "      <td>0</td>\n",
       "      <td>0</td>\n",
       "      <td>0</td>\n",
       "      <td>0</td>\n",
       "      <td>0</td>\n",
       "      <td>0</td>\n",
       "      <td>0</td>\n",
       "      <td>0</td>\n",
       "      <td>0</td>\n",
       "    </tr>\n",
       "    <tr>\n",
       "      <th>16</th>\n",
       "      <td>0</td>\n",
       "      <td>0</td>\n",
       "      <td>1</td>\n",
       "      <td>1</td>\n",
       "      <td>0</td>\n",
       "      <td>1</td>\n",
       "      <td>0</td>\n",
       "      <td>0</td>\n",
       "      <td>0</td>\n",
       "      <td>0</td>\n",
       "      <td>0</td>\n",
       "      <td>0</td>\n",
       "      <td>0</td>\n",
       "      <td>0</td>\n",
       "      <td>0</td>\n",
       "    </tr>\n",
       "    <tr>\n",
       "      <th>17</th>\n",
       "      <td>0</td>\n",
       "      <td>0</td>\n",
       "      <td>0</td>\n",
       "      <td>1</td>\n",
       "      <td>0</td>\n",
       "      <td>1</td>\n",
       "      <td>0</td>\n",
       "      <td>0</td>\n",
       "      <td>0</td>\n",
       "      <td>0</td>\n",
       "      <td>0</td>\n",
       "      <td>0</td>\n",
       "      <td>0</td>\n",
       "      <td>0</td>\n",
       "      <td>0</td>\n",
       "    </tr>\n",
       "    <tr>\n",
       "      <th>18</th>\n",
       "      <td>0</td>\n",
       "      <td>0</td>\n",
       "      <td>0</td>\n",
       "      <td>1</td>\n",
       "      <td>0</td>\n",
       "      <td>1</td>\n",
       "      <td>0</td>\n",
       "      <td>0</td>\n",
       "      <td>0</td>\n",
       "      <td>0</td>\n",
       "      <td>0</td>\n",
       "      <td>0</td>\n",
       "      <td>0</td>\n",
       "      <td>0</td>\n",
       "      <td>0</td>\n",
       "    </tr>\n",
       "    <tr>\n",
       "      <th>19</th>\n",
       "      <td>0</td>\n",
       "      <td>0</td>\n",
       "      <td>0</td>\n",
       "      <td>2</td>\n",
       "      <td>0</td>\n",
       "      <td>0</td>\n",
       "      <td>0</td>\n",
       "      <td>0</td>\n",
       "      <td>0</td>\n",
       "      <td>0</td>\n",
       "      <td>0</td>\n",
       "      <td>0</td>\n",
       "      <td>0</td>\n",
       "      <td>0</td>\n",
       "      <td>0</td>\n",
       "    </tr>\n",
       "  </tbody>\n",
       "</table>\n",
       "</div>"
      ],
      "text/plain": [
       "    Human  Castle  Indoors  Landscape  Woman  Daytime  Children  Sunset  \\\n",
       "0       0       0        0          2      0        1         0       0   \n",
       "1       0       0        0          1      0        1         0       0   \n",
       "2       0       0        0          1      0        1         0       0   \n",
       "3       0       0        0          0      0        1         0       0   \n",
       "4       0       0        0          1      0        1         0       0   \n",
       "5       0       0        0          2      0        1         0       0   \n",
       "6       1       0        0          1      0        0         0       0   \n",
       "7       0       0        0          2      0        1         0       0   \n",
       "8       0       0        0          2      0        1         0       0   \n",
       "9       1       0        0          1      0        0         0       1   \n",
       "10      0       0        0          1      0        1         0       0   \n",
       "11      0       0        0          1      0        1         0       0   \n",
       "12      0       0        0          1      0        1         0       0   \n",
       "13      0       0        0          0      0        1         0       0   \n",
       "14      1       0        0          1      0        1         0       0   \n",
       "15      1       0        0          1      0        1         0       0   \n",
       "16      0       0        1          1      0        1         0       0   \n",
       "17      0       0        0          1      0        1         0       0   \n",
       "18      0       0        0          1      0        1         0       0   \n",
       "19      0       0        0          2      0        0         0       0   \n",
       "\n",
       "    Flower  Animal  Building  Mask  Gray-Hair  Fire  Food/Drink  \n",
       "0        0       0         0     0          0     0           0  \n",
       "1        0       0         0     0          0     0           0  \n",
       "2        0       0         0     0          0     0           0  \n",
       "3        0       0         0     0          0     0           0  \n",
       "4        0       0         0     0          0     0           0  \n",
       "5        0       0         0     0          0     0           0  \n",
       "6        0       0         0     0          0     0           0  \n",
       "7        0       0         0     0          0     0           0  \n",
       "8        0       0         0     0          0     0           0  \n",
       "9        0       0         0     0          0     0           0  \n",
       "10       0       0         0     0          0     0           0  \n",
       "11       0       0         0     0          0     0           0  \n",
       "12       0       0         0     0          0     0           0  \n",
       "13       0       0         0     0          0     0           0  \n",
       "14       0       0         0     0          0     0           0  \n",
       "15       0       0         0     0          0     0           0  \n",
       "16       0       0         0     0          0     0           0  \n",
       "17       0       0         0     0          0     0           0  \n",
       "18       0       0         0     0          0     0           0  \n",
       "19       0       0         0     0          0     0           0  "
      ]
     },
     "execution_count": 27,
     "metadata": {},
     "output_type": "execute_result"
    }
   ],
   "source": [
    "pred_df = pd.read_csv(\"ImagePredictions.csv\").drop(\"Unnamed: 0\", axis = 1)\n",
    "pred_df"
   ]
  },
  {
   "cell_type": "code",
   "execution_count": 45,
   "id": "f2fd3a9d-3528-4db5-ae95-b13a32464715",
   "metadata": {
    "tags": []
   },
   "outputs": [],
   "source": [
    "X = labels.drop([\"image_name\", \"Photographer\"], axis = 1)\n",
    "y = labels[\"Photographer\"]\n",
    "\n",
    "X_train, X_test, y_train, y_test = train_test_split(X, y)\n",
    "X_train = np.array(X_train.values)\n",
    "X_test = np.array(X_test.values)\n",
    "y_train = np.array(y_train.values)\n",
    "y_test = np.array(y_test.values)\n",
    "\n",
    "test_image_vals = np.array(pred_df)"
   ]
  },
  {
   "cell_type": "code",
   "execution_count": 31,
   "id": "ea67f8ec-dd50-4922-9e3f-d4f367e76a70",
   "metadata": {
    "tags": []
   },
   "outputs": [
    {
     "data": {
      "text/html": [
       "<pre style=\"white-space:pre;overflow-x:auto;line-height:normal;font-family:Menlo,'DejaVu Sans Mono',consolas,'Courier New',monospace\"><span style=\"font-weight: bold\">Model: \"image_classification\"</span>\n",
       "</pre>\n"
      ],
      "text/plain": [
       "\u001b[1mModel: \"image_classification\"\u001b[0m\n"
      ]
     },
     "metadata": {},
     "output_type": "display_data"
    },
    {
     "data": {
      "text/html": [
       "<pre style=\"white-space:pre;overflow-x:auto;line-height:normal;font-family:Menlo,'DejaVu Sans Mono',consolas,'Courier New',monospace\">┏━━━━━━━━━━━━━━━━━━━━━━━━━━━━━━━━━━━━━━┳━━━━━━━━━━━━━━━━━━━━━━━━━━━━━┳━━━━━━━━━━━━━━━━━┓\n",
       "┃<span style=\"font-weight: bold\"> Layer (type)                         </span>┃<span style=\"font-weight: bold\"> Output Shape                </span>┃<span style=\"font-weight: bold\">         Param # </span>┃\n",
       "┡━━━━━━━━━━━━━━━━━━━━━━━━━━━━━━━━━━━━━━╇━━━━━━━━━━━━━━━━━━━━━━━━━━━━━╇━━━━━━━━━━━━━━━━━┩\n",
       "│ input_layer (<span style=\"color: #0087ff; text-decoration-color: #0087ff\">InputLayer</span>)             │ (<span style=\"color: #00d7ff; text-decoration-color: #00d7ff\">None</span>, <span style=\"color: #00af00; text-decoration-color: #00af00\">15</span>)                  │               <span style=\"color: #00af00; text-decoration-color: #00af00\">0</span> │\n",
       "├──────────────────────────────────────┼─────────────────────────────┼─────────────────┤\n",
       "│ dense (<span style=\"color: #0087ff; text-decoration-color: #0087ff\">Dense</span>)                        │ (<span style=\"color: #00d7ff; text-decoration-color: #00d7ff\">None</span>, <span style=\"color: #00af00; text-decoration-color: #00af00\">30</span>)                  │             <span style=\"color: #00af00; text-decoration-color: #00af00\">480</span> │\n",
       "├──────────────────────────────────────┼─────────────────────────────┼─────────────────┤\n",
       "│ dense_1 (<span style=\"color: #0087ff; text-decoration-color: #0087ff\">Dense</span>)                      │ (<span style=\"color: #00d7ff; text-decoration-color: #00d7ff\">None</span>, <span style=\"color: #00af00; text-decoration-color: #00af00\">60</span>)                  │           <span style=\"color: #00af00; text-decoration-color: #00af00\">1,860</span> │\n",
       "├──────────────────────────────────────┼─────────────────────────────┼─────────────────┤\n",
       "│ dense_2 (<span style=\"color: #0087ff; text-decoration-color: #0087ff\">Dense</span>)                      │ (<span style=\"color: #00d7ff; text-decoration-color: #00d7ff\">None</span>, <span style=\"color: #00af00; text-decoration-color: #00af00\">1</span>)                   │              <span style=\"color: #00af00; text-decoration-color: #00af00\">61</span> │\n",
       "└──────────────────────────────────────┴─────────────────────────────┴─────────────────┘\n",
       "</pre>\n"
      ],
      "text/plain": [
       "┏━━━━━━━━━━━━━━━━━━━━━━━━━━━━━━━━━━━━━━┳━━━━━━━━━━━━━━━━━━━━━━━━━━━━━┳━━━━━━━━━━━━━━━━━┓\n",
       "┃\u001b[1m \u001b[0m\u001b[1mLayer (type)                        \u001b[0m\u001b[1m \u001b[0m┃\u001b[1m \u001b[0m\u001b[1mOutput Shape               \u001b[0m\u001b[1m \u001b[0m┃\u001b[1m \u001b[0m\u001b[1m        Param #\u001b[0m\u001b[1m \u001b[0m┃\n",
       "┡━━━━━━━━━━━━━━━━━━━━━━━━━━━━━━━━━━━━━━╇━━━━━━━━━━━━━━━━━━━━━━━━━━━━━╇━━━━━━━━━━━━━━━━━┩\n",
       "│ input_layer (\u001b[38;5;33mInputLayer\u001b[0m)             │ (\u001b[38;5;45mNone\u001b[0m, \u001b[38;5;34m15\u001b[0m)                  │               \u001b[38;5;34m0\u001b[0m │\n",
       "├──────────────────────────────────────┼─────────────────────────────┼─────────────────┤\n",
       "│ dense (\u001b[38;5;33mDense\u001b[0m)                        │ (\u001b[38;5;45mNone\u001b[0m, \u001b[38;5;34m30\u001b[0m)                  │             \u001b[38;5;34m480\u001b[0m │\n",
       "├──────────────────────────────────────┼─────────────────────────────┼─────────────────┤\n",
       "│ dense_1 (\u001b[38;5;33mDense\u001b[0m)                      │ (\u001b[38;5;45mNone\u001b[0m, \u001b[38;5;34m60\u001b[0m)                  │           \u001b[38;5;34m1,860\u001b[0m │\n",
       "├──────────────────────────────────────┼─────────────────────────────┼─────────────────┤\n",
       "│ dense_2 (\u001b[38;5;33mDense\u001b[0m)                      │ (\u001b[38;5;45mNone\u001b[0m, \u001b[38;5;34m1\u001b[0m)                   │              \u001b[38;5;34m61\u001b[0m │\n",
       "└──────────────────────────────────────┴─────────────────────────────┴─────────────────┘\n"
      ]
     },
     "metadata": {},
     "output_type": "display_data"
    },
    {
     "data": {
      "text/html": [
       "<pre style=\"white-space:pre;overflow-x:auto;line-height:normal;font-family:Menlo,'DejaVu Sans Mono',consolas,'Courier New',monospace\"><span style=\"font-weight: bold\"> Total params: </span><span style=\"color: #00af00; text-decoration-color: #00af00\">2,401</span> (9.38 KB)\n",
       "</pre>\n"
      ],
      "text/plain": [
       "\u001b[1m Total params: \u001b[0m\u001b[38;5;34m2,401\u001b[0m (9.38 KB)\n"
      ]
     },
     "metadata": {},
     "output_type": "display_data"
    },
    {
     "data": {
      "text/html": [
       "<pre style=\"white-space:pre;overflow-x:auto;line-height:normal;font-family:Menlo,'DejaVu Sans Mono',consolas,'Courier New',monospace\"><span style=\"font-weight: bold\"> Trainable params: </span><span style=\"color: #00af00; text-decoration-color: #00af00\">2,401</span> (9.38 KB)\n",
       "</pre>\n"
      ],
      "text/plain": [
       "\u001b[1m Trainable params: \u001b[0m\u001b[38;5;34m2,401\u001b[0m (9.38 KB)\n"
      ]
     },
     "metadata": {},
     "output_type": "display_data"
    },
    {
     "data": {
      "text/html": [
       "<pre style=\"white-space:pre;overflow-x:auto;line-height:normal;font-family:Menlo,'DejaVu Sans Mono',consolas,'Courier New',monospace\"><span style=\"font-weight: bold\"> Non-trainable params: </span><span style=\"color: #00af00; text-decoration-color: #00af00\">0</span> (0.00 B)\n",
       "</pre>\n"
      ],
      "text/plain": [
       "\u001b[1m Non-trainable params: \u001b[0m\u001b[38;5;34m0\u001b[0m (0.00 B)\n"
      ]
     },
     "metadata": {},
     "output_type": "display_data"
    }
   ],
   "source": [
    "inputs = keras.Input(shape = (15, ))\n",
    "x = keras.layers.Dense(30, activation = \"relu\")(inputs)\n",
    "x = keras.layers.Dense(60, activation = \"relu\")(x)\n",
    "outputs = keras.layers.Dense(1, activation = \"sigmoid\")(x)\n",
    "model = keras.Model(inputs=inputs, outputs = outputs, name=\"image_classification\")\n",
    "model.summary()"
   ]
  },
  {
   "cell_type": "code",
   "execution_count": 41,
   "id": "e4186b37-6163-4498-8bdf-256925c0e411",
   "metadata": {
    "tags": []
   },
   "outputs": [
    {
     "name": "stdout",
     "output_type": "stream",
     "text": [
      "Epoch 1/50\n",
      "\u001b[1m6/6\u001b[0m \u001b[32m━━━━━━━━━━━━━━━━━━━━\u001b[0m\u001b[37m\u001b[0m \u001b[1m1s\u001b[0m 22ms/step - accuracy: 0.8310 - loss: 0.3566 - val_accuracy: 0.8607 - val_loss: 0.4600\n",
      "Epoch 2/50\n",
      "\u001b[1m6/6\u001b[0m \u001b[32m━━━━━━━━━━━━━━━━━━━━\u001b[0m\u001b[37m\u001b[0m \u001b[1m0s\u001b[0m 4ms/step - accuracy: 0.8651 - loss: 0.3267 - val_accuracy: 0.8361 - val_loss: 0.4811\n",
      "Epoch 3/50\n",
      "\u001b[1m6/6\u001b[0m \u001b[32m━━━━━━━━━━━━━━━━━━━━\u001b[0m\u001b[37m\u001b[0m \u001b[1m0s\u001b[0m 4ms/step - accuracy: 0.8487 - loss: 0.3237 - val_accuracy: 0.8525 - val_loss: 0.4771\n",
      "Epoch 4/50\n",
      "\u001b[1m6/6\u001b[0m \u001b[32m━━━━━━━━━━━━━━━━━━━━\u001b[0m\u001b[37m\u001b[0m \u001b[1m0s\u001b[0m 4ms/step - accuracy: 0.8226 - loss: 0.3578 - val_accuracy: 0.8525 - val_loss: 0.4678\n",
      "Epoch 5/50\n",
      "\u001b[1m6/6\u001b[0m \u001b[32m━━━━━━━━━━━━━━━━━━━━\u001b[0m\u001b[37m\u001b[0m \u001b[1m0s\u001b[0m 4ms/step - accuracy: 0.8361 - loss: 0.3488 - val_accuracy: 0.8525 - val_loss: 0.4711\n",
      "Epoch 6/50\n",
      "\u001b[1m6/6\u001b[0m \u001b[32m━━━━━━━━━━━━━━━━━━━━\u001b[0m\u001b[37m\u001b[0m \u001b[1m0s\u001b[0m 4ms/step - accuracy: 0.8193 - loss: 0.3635 - val_accuracy: 0.8361 - val_loss: 0.5000\n",
      "Epoch 7/50\n",
      "\u001b[1m6/6\u001b[0m \u001b[32m━━━━━━━━━━━━━━━━━━━━\u001b[0m\u001b[37m\u001b[0m \u001b[1m0s\u001b[0m 4ms/step - accuracy: 0.8431 - loss: 0.3462 - val_accuracy: 0.8361 - val_loss: 0.4919\n",
      "Epoch 8/50\n",
      "\u001b[1m6/6\u001b[0m \u001b[32m━━━━━━━━━━━━━━━━━━━━\u001b[0m\u001b[37m\u001b[0m \u001b[1m0s\u001b[0m 4ms/step - accuracy: 0.8236 - loss: 0.3506 - val_accuracy: 0.8525 - val_loss: 0.4773\n",
      "Epoch 9/50\n",
      "\u001b[1m6/6\u001b[0m \u001b[32m━━━━━━━━━━━━━━━━━━━━\u001b[0m\u001b[37m\u001b[0m \u001b[1m0s\u001b[0m 4ms/step - accuracy: 0.8333 - loss: 0.3342 - val_accuracy: 0.8607 - val_loss: 0.4676\n",
      "Epoch 10/50\n",
      "\u001b[1m6/6\u001b[0m \u001b[32m━━━━━━━━━━━━━━━━━━━━\u001b[0m\u001b[37m\u001b[0m \u001b[1m0s\u001b[0m 4ms/step - accuracy: 0.8242 - loss: 0.3544 - val_accuracy: 0.8607 - val_loss: 0.4616\n",
      "Epoch 11/50\n",
      "\u001b[1m6/6\u001b[0m \u001b[32m━━━━━━━━━━━━━━━━━━━━\u001b[0m\u001b[37m\u001b[0m \u001b[1m0s\u001b[0m 4ms/step - accuracy: 0.8447 - loss: 0.3281 - val_accuracy: 0.8361 - val_loss: 0.4918\n",
      "Epoch 12/50\n",
      "\u001b[1m6/6\u001b[0m \u001b[32m━━━━━━━━━━━━━━━━━━━━\u001b[0m\u001b[37m\u001b[0m \u001b[1m0s\u001b[0m 5ms/step - accuracy: 0.8511 - loss: 0.3270 - val_accuracy: 0.8525 - val_loss: 0.4729\n",
      "Epoch 13/50\n",
      "\u001b[1m6/6\u001b[0m \u001b[32m━━━━━━━━━━━━━━━━━━━━\u001b[0m\u001b[37m\u001b[0m \u001b[1m0s\u001b[0m 4ms/step - accuracy: 0.8498 - loss: 0.3251 - val_accuracy: 0.8361 - val_loss: 0.4791\n",
      "Epoch 14/50\n",
      "\u001b[1m6/6\u001b[0m \u001b[32m━━━━━━━━━━━━━━━━━━━━\u001b[0m\u001b[37m\u001b[0m \u001b[1m0s\u001b[0m 4ms/step - accuracy: 0.8278 - loss: 0.3456 - val_accuracy: 0.8607 - val_loss: 0.4715\n",
      "Epoch 15/50\n",
      "\u001b[1m6/6\u001b[0m \u001b[32m━━━━━━━━━━━━━━━━━━━━\u001b[0m\u001b[37m\u001b[0m \u001b[1m0s\u001b[0m 4ms/step - accuracy: 0.8200 - loss: 0.3478 - val_accuracy: 0.8607 - val_loss: 0.4635\n",
      "Epoch 16/50\n",
      "\u001b[1m6/6\u001b[0m \u001b[32m━━━━━━━━━━━━━━━━━━━━\u001b[0m\u001b[37m\u001b[0m \u001b[1m0s\u001b[0m 4ms/step - accuracy: 0.8405 - loss: 0.3513 - val_accuracy: 0.8525 - val_loss: 0.4803\n",
      "Epoch 17/50\n",
      "\u001b[1m6/6\u001b[0m \u001b[32m━━━━━━━━━━━━━━━━━━━━\u001b[0m\u001b[37m\u001b[0m \u001b[1m0s\u001b[0m 4ms/step - accuracy: 0.8363 - loss: 0.3434 - val_accuracy: 0.8443 - val_loss: 0.4894\n",
      "Epoch 18/50\n",
      "\u001b[1m6/6\u001b[0m \u001b[32m━━━━━━━━━━━━━━━━━━━━\u001b[0m\u001b[37m\u001b[0m \u001b[1m0s\u001b[0m 4ms/step - accuracy: 0.8592 - loss: 0.3264 - val_accuracy: 0.8607 - val_loss: 0.4795\n",
      "Epoch 19/50\n",
      "\u001b[1m6/6\u001b[0m \u001b[32m━━━━━━━━━━━━━━━━━━━━\u001b[0m\u001b[37m\u001b[0m \u001b[1m0s\u001b[0m 4ms/step - accuracy: 0.8250 - loss: 0.3425 - val_accuracy: 0.8607 - val_loss: 0.4703\n",
      "Epoch 20/50\n",
      "\u001b[1m6/6\u001b[0m \u001b[32m━━━━━━━━━━━━━━━━━━━━\u001b[0m\u001b[37m\u001b[0m \u001b[1m0s\u001b[0m 4ms/step - accuracy: 0.8421 - loss: 0.3298 - val_accuracy: 0.8443 - val_loss: 0.5073\n",
      "Epoch 21/50\n",
      "\u001b[1m6/6\u001b[0m \u001b[32m━━━━━━━━━━━━━━━━━━━━\u001b[0m\u001b[37m\u001b[0m \u001b[1m0s\u001b[0m 4ms/step - accuracy: 0.8280 - loss: 0.3514 - val_accuracy: 0.8525 - val_loss: 0.4833\n",
      "Epoch 22/50\n",
      "\u001b[1m6/6\u001b[0m \u001b[32m━━━━━━━━━━━━━━━━━━━━\u001b[0m\u001b[37m\u001b[0m \u001b[1m0s\u001b[0m 4ms/step - accuracy: 0.8513 - loss: 0.3372 - val_accuracy: 0.8443 - val_loss: 0.5077\n",
      "Epoch 23/50\n",
      "\u001b[1m6/6\u001b[0m \u001b[32m━━━━━━━━━━━━━━━━━━━━\u001b[0m\u001b[37m\u001b[0m \u001b[1m0s\u001b[0m 5ms/step - accuracy: 0.8458 - loss: 0.3417 - val_accuracy: 0.8443 - val_loss: 0.5056\n",
      "Epoch 24/50\n",
      "\u001b[1m6/6\u001b[0m \u001b[32m━━━━━━━━━━━━━━━━━━━━\u001b[0m\u001b[37m\u001b[0m \u001b[1m0s\u001b[0m 4ms/step - accuracy: 0.8414 - loss: 0.3335 - val_accuracy: 0.8361 - val_loss: 0.4830\n",
      "Epoch 25/50\n",
      "\u001b[1m6/6\u001b[0m \u001b[32m━━━━━━━━━━━━━━━━━━━━\u001b[0m\u001b[37m\u001b[0m \u001b[1m0s\u001b[0m 5ms/step - accuracy: 0.8480 - loss: 0.3153 - val_accuracy: 0.8525 - val_loss: 0.4877\n",
      "Epoch 26/50\n",
      "\u001b[1m6/6\u001b[0m \u001b[32m━━━━━━━━━━━━━━━━━━━━\u001b[0m\u001b[37m\u001b[0m \u001b[1m0s\u001b[0m 4ms/step - accuracy: 0.8140 - loss: 0.3475 - val_accuracy: 0.8443 - val_loss: 0.5025\n",
      "Epoch 27/50\n",
      "\u001b[1m6/6\u001b[0m \u001b[32m━━━━━━━━━━━━━━━━━━━━\u001b[0m\u001b[37m\u001b[0m \u001b[1m0s\u001b[0m 4ms/step - accuracy: 0.8430 - loss: 0.3384 - val_accuracy: 0.8525 - val_loss: 0.4909\n",
      "Epoch 28/50\n",
      "\u001b[1m6/6\u001b[0m \u001b[32m━━━━━━━━━━━━━━━━━━━━\u001b[0m\u001b[37m\u001b[0m \u001b[1m0s\u001b[0m 4ms/step - accuracy: 0.8335 - loss: 0.3393 - val_accuracy: 0.8607 - val_loss: 0.4774\n",
      "Epoch 29/50\n",
      "\u001b[1m6/6\u001b[0m \u001b[32m━━━━━━━━━━━━━━━━━━━━\u001b[0m\u001b[37m\u001b[0m \u001b[1m0s\u001b[0m 4ms/step - accuracy: 0.8188 - loss: 0.3409 - val_accuracy: 0.8607 - val_loss: 0.4883\n",
      "Epoch 30/50\n",
      "\u001b[1m6/6\u001b[0m \u001b[32m━━━━━━━━━━━━━━━━━━━━\u001b[0m\u001b[37m\u001b[0m \u001b[1m0s\u001b[0m 4ms/step - accuracy: 0.8439 - loss: 0.3273 - val_accuracy: 0.8361 - val_loss: 0.4954\n",
      "Epoch 31/50\n",
      "\u001b[1m6/6\u001b[0m \u001b[32m━━━━━━━━━━━━━━━━━━━━\u001b[0m\u001b[37m\u001b[0m \u001b[1m0s\u001b[0m 4ms/step - accuracy: 0.8372 - loss: 0.3482 - val_accuracy: 0.8361 - val_loss: 0.4965\n",
      "Epoch 32/50\n",
      "\u001b[1m6/6\u001b[0m \u001b[32m━━━━━━━━━━━━━━━━━━━━\u001b[0m\u001b[37m\u001b[0m \u001b[1m0s\u001b[0m 5ms/step - accuracy: 0.8379 - loss: 0.3263 - val_accuracy: 0.8361 - val_loss: 0.5084\n",
      "Epoch 33/50\n",
      "\u001b[1m6/6\u001b[0m \u001b[32m━━━━━━━━━━━━━━━━━━━━\u001b[0m\u001b[37m\u001b[0m \u001b[1m0s\u001b[0m 4ms/step - accuracy: 0.8357 - loss: 0.3434 - val_accuracy: 0.8361 - val_loss: 0.5109\n",
      "Epoch 34/50\n",
      "\u001b[1m6/6\u001b[0m \u001b[32m━━━━━━━━━━━━━━━━━━━━\u001b[0m\u001b[37m\u001b[0m \u001b[1m0s\u001b[0m 4ms/step - accuracy: 0.8449 - loss: 0.3200 - val_accuracy: 0.8361 - val_loss: 0.5077\n",
      "Epoch 35/50\n",
      "\u001b[1m6/6\u001b[0m \u001b[32m━━━━━━━━━━━━━━━━━━━━\u001b[0m\u001b[37m\u001b[0m \u001b[1m0s\u001b[0m 4ms/step - accuracy: 0.8535 - loss: 0.3253 - val_accuracy: 0.8361 - val_loss: 0.5011\n",
      "Epoch 36/50\n",
      "\u001b[1m6/6\u001b[0m \u001b[32m━━━━━━━━━━━━━━━━━━━━\u001b[0m\u001b[37m\u001b[0m \u001b[1m0s\u001b[0m 4ms/step - accuracy: 0.8254 - loss: 0.3566 - val_accuracy: 0.8607 - val_loss: 0.4939\n",
      "Epoch 37/50\n",
      "\u001b[1m6/6\u001b[0m \u001b[32m━━━━━━━━━━━━━━━━━━━━\u001b[0m\u001b[37m\u001b[0m \u001b[1m0s\u001b[0m 4ms/step - accuracy: 0.8509 - loss: 0.3215 - val_accuracy: 0.8443 - val_loss: 0.5191\n",
      "Epoch 38/50\n",
      "\u001b[1m6/6\u001b[0m \u001b[32m━━━━━━━━━━━━━━━━━━━━\u001b[0m\u001b[37m\u001b[0m \u001b[1m0s\u001b[0m 4ms/step - accuracy: 0.8319 - loss: 0.3350 - val_accuracy: 0.8607 - val_loss: 0.4848\n",
      "Epoch 39/50\n",
      "\u001b[1m6/6\u001b[0m \u001b[32m━━━━━━━━━━━━━━━━━━━━\u001b[0m\u001b[37m\u001b[0m \u001b[1m0s\u001b[0m 4ms/step - accuracy: 0.8233 - loss: 0.3442 - val_accuracy: 0.8525 - val_loss: 0.4980\n",
      "Epoch 40/50\n",
      "\u001b[1m6/6\u001b[0m \u001b[32m━━━━━━━━━━━━━━━━━━━━\u001b[0m\u001b[37m\u001b[0m \u001b[1m0s\u001b[0m 4ms/step - accuracy: 0.8328 - loss: 0.3380 - val_accuracy: 0.8361 - val_loss: 0.5010\n",
      "Epoch 41/50\n",
      "\u001b[1m6/6\u001b[0m \u001b[32m━━━━━━━━━━━━━━━━━━━━\u001b[0m\u001b[37m\u001b[0m \u001b[1m0s\u001b[0m 4ms/step - accuracy: 0.8274 - loss: 0.3294 - val_accuracy: 0.8361 - val_loss: 0.4956\n",
      "Epoch 42/50\n",
      "\u001b[1m6/6\u001b[0m \u001b[32m━━━━━━━━━━━━━━━━━━━━\u001b[0m\u001b[37m\u001b[0m \u001b[1m0s\u001b[0m 4ms/step - accuracy: 0.8340 - loss: 0.3348 - val_accuracy: 0.8607 - val_loss: 0.4845\n",
      "Epoch 43/50\n",
      "\u001b[1m6/6\u001b[0m \u001b[32m━━━━━━━━━━━━━━━━━━━━\u001b[0m\u001b[37m\u001b[0m \u001b[1m0s\u001b[0m 5ms/step - accuracy: 0.8277 - loss: 0.3423 - val_accuracy: 0.8361 - val_loss: 0.5007\n",
      "Epoch 44/50\n",
      "\u001b[1m6/6\u001b[0m \u001b[32m━━━━━━━━━━━━━━━━━━━━\u001b[0m\u001b[37m\u001b[0m \u001b[1m0s\u001b[0m 4ms/step - accuracy: 0.8247 - loss: 0.3528 - val_accuracy: 0.8361 - val_loss: 0.5067\n",
      "Epoch 45/50\n",
      "\u001b[1m6/6\u001b[0m \u001b[32m━━━━━━━━━━━━━━━━━━━━\u001b[0m\u001b[37m\u001b[0m \u001b[1m0s\u001b[0m 4ms/step - accuracy: 0.8574 - loss: 0.3064 - val_accuracy: 0.8361 - val_loss: 0.5028\n",
      "Epoch 46/50\n",
      "\u001b[1m6/6\u001b[0m \u001b[32m━━━━━━━━━━━━━━━━━━━━\u001b[0m\u001b[37m\u001b[0m \u001b[1m0s\u001b[0m 4ms/step - accuracy: 0.8372 - loss: 0.3503 - val_accuracy: 0.8361 - val_loss: 0.5220\n",
      "Epoch 47/50\n",
      "\u001b[1m6/6\u001b[0m \u001b[32m━━━━━━━━━━━━━━━━━━━━\u001b[0m\u001b[37m\u001b[0m \u001b[1m0s\u001b[0m 4ms/step - accuracy: 0.8644 - loss: 0.3139 - val_accuracy: 0.8443 - val_loss: 0.5310\n",
      "Epoch 48/50\n",
      "\u001b[1m6/6\u001b[0m \u001b[32m━━━━━━━━━━━━━━━━━━━━\u001b[0m\u001b[37m\u001b[0m \u001b[1m0s\u001b[0m 4ms/step - accuracy: 0.8185 - loss: 0.3533 - val_accuracy: 0.8361 - val_loss: 0.5013\n",
      "Epoch 49/50\n",
      "\u001b[1m6/6\u001b[0m \u001b[32m━━━━━━━━━━━━━━━━━━━━\u001b[0m\u001b[37m\u001b[0m \u001b[1m0s\u001b[0m 4ms/step - accuracy: 0.8235 - loss: 0.3459 - val_accuracy: 0.8361 - val_loss: 0.5289\n",
      "Epoch 50/50\n",
      "\u001b[1m6/6\u001b[0m \u001b[32m━━━━━━━━━━━━━━━━━━━━\u001b[0m\u001b[37m\u001b[0m \u001b[1m0s\u001b[0m 4ms/step - accuracy: 0.8205 - loss: 0.3510 - val_accuracy: 0.8607 - val_loss: 0.4949\n"
     ]
    }
   ],
   "source": [
    "model.compile(loss=keras.losses.BinaryCrossentropy(from_logits=False), optimizer=keras.optimizers.RMSprop(), metrics = [\"accuracy\"])\n",
    "\n",
    "history = model.fit(X_train, y_train, batch_size=64, epochs = 50, validation_data = (X_test, y_test))"
   ]
  },
  {
   "cell_type": "code",
   "execution_count": 43,
   "id": "e88144bb-74c0-47ec-ae0f-8e52c3484be9",
   "metadata": {
    "tags": []
   },
   "outputs": [
    {
     "data": {
      "image/png": "[encoded data removed]",
      "text/plain": [
       "<Figure size 1500x500 with 1 Axes>"
      ]
     },
     "metadata": {},
     "output_type": "display_data"
    }
   ],
   "source": [
    "plt.figure(figsize=(15,5))\n",
    "plt.plot(history.history['val_accuracy'])\n",
    "plt.title('model accuracy')\n",
    "plt.ylabel('accuracy')\n",
    "plt.xlabel('epoch')\n",
    "axes = plt.gca()\n",
    "axes.set_ylim([0.70, 1])\n",
    "plt.show()"
   ]
  },
  {
   "cell_type": "markdown",
   "id": "eaa6416d-2e93-4ad5-bd8b-dba79e40fd66",
   "metadata": {},
   "source": [
    "Here are our final predictions via approach 1 for who took each of the test images. "
   ]
  },
  {
   "cell_type": "code",
   "execution_count": 93,
   "id": "20c6a437-a5d0-49de-b2d0-be8687ea0aa4",
   "metadata": {
    "tags": []
   },
   "outputs": [
    {
     "name": "stdout",
     "output_type": "stream",
     "text": [
      "\u001b[1m1/1\u001b[0m \u001b[32m━━━━━━━━━━━━━━━━━━━━\u001b[0m\u001b[37m\u001b[0m \u001b[1m0s\u001b[0m 11ms/step\n"
     ]
    },
    {
     "data": {
      "text/html": [
       "<div>\n",
       "<style scoped>\n",
       "    .dataframe tbody tr th:only-of-type {\n",
       "        vertical-align: middle;\n",
       "    }\n",
       "\n",
       "    .dataframe tbody tr th {\n",
       "        vertical-align: top;\n",
       "    }\n",
       "\n",
       "    .dataframe thead th {\n",
       "        text-align: right;\n",
       "    }\n",
       "</style>\n",
       "<table border=\"1\" class=\"dataframe\">\n",
       "  <thead>\n",
       "    <tr style=\"text-align: right;\">\n",
       "      <th></th>\n",
       "      <th>Image Name</th>\n",
       "      <th>Predicted Photographer</th>\n",
       "    </tr>\n",
       "  </thead>\n",
       "  <tbody>\n",
       "    <tr>\n",
       "      <th>0</th>\n",
       "      <td>TestSetImage01.png</td>\n",
       "      <td>Alex</td>\n",
       "    </tr>\n",
       "    <tr>\n",
       "      <th>1</th>\n",
       "      <td>TestSetImage02.png</td>\n",
       "      <td>Alex</td>\n",
       "    </tr>\n",
       "    <tr>\n",
       "      <th>2</th>\n",
       "      <td>TestSetImage03.png</td>\n",
       "      <td>Alex</td>\n",
       "    </tr>\n",
       "    <tr>\n",
       "      <th>3</th>\n",
       "      <td>TestSetImage04.png</td>\n",
       "      <td>Alex</td>\n",
       "    </tr>\n",
       "    <tr>\n",
       "      <th>4</th>\n",
       "      <td>TestSetImage05.png</td>\n",
       "      <td>Alex</td>\n",
       "    </tr>\n",
       "    <tr>\n",
       "      <th>5</th>\n",
       "      <td>TestSetImage06.png</td>\n",
       "      <td>Alex</td>\n",
       "    </tr>\n",
       "    <tr>\n",
       "      <th>6</th>\n",
       "      <td>TestSetImage07.png</td>\n",
       "      <td>Kelly</td>\n",
       "    </tr>\n",
       "    <tr>\n",
       "      <th>7</th>\n",
       "      <td>TestSetImage08.png</td>\n",
       "      <td>Alex</td>\n",
       "    </tr>\n",
       "    <tr>\n",
       "      <th>8</th>\n",
       "      <td>TestSetImage09.png</td>\n",
       "      <td>Alex</td>\n",
       "    </tr>\n",
       "    <tr>\n",
       "      <th>9</th>\n",
       "      <td>TestSetImage10.png</td>\n",
       "      <td>Kelly</td>\n",
       "    </tr>\n",
       "    <tr>\n",
       "      <th>10</th>\n",
       "      <td>TestSetImage11.png</td>\n",
       "      <td>Alex</td>\n",
       "    </tr>\n",
       "    <tr>\n",
       "      <th>11</th>\n",
       "      <td>TestSetImage12.png</td>\n",
       "      <td>Alex</td>\n",
       "    </tr>\n",
       "    <tr>\n",
       "      <th>12</th>\n",
       "      <td>TestSetImage13.png</td>\n",
       "      <td>Alex</td>\n",
       "    </tr>\n",
       "    <tr>\n",
       "      <th>13</th>\n",
       "      <td>TestSetImage14.png</td>\n",
       "      <td>Alex</td>\n",
       "    </tr>\n",
       "    <tr>\n",
       "      <th>14</th>\n",
       "      <td>TestSetImage15.png</td>\n",
       "      <td>Kelly</td>\n",
       "    </tr>\n",
       "    <tr>\n",
       "      <th>15</th>\n",
       "      <td>TestSetImage16.png</td>\n",
       "      <td>Kelly</td>\n",
       "    </tr>\n",
       "    <tr>\n",
       "      <th>16</th>\n",
       "      <td>TestSetImage17.png</td>\n",
       "      <td>Alex</td>\n",
       "    </tr>\n",
       "    <tr>\n",
       "      <th>17</th>\n",
       "      <td>TestSetImage18.png</td>\n",
       "      <td>Alex</td>\n",
       "    </tr>\n",
       "    <tr>\n",
       "      <th>18</th>\n",
       "      <td>TestSetImage19.png</td>\n",
       "      <td>Alex</td>\n",
       "    </tr>\n",
       "    <tr>\n",
       "      <th>19</th>\n",
       "      <td>TestSetImage20.png</td>\n",
       "      <td>Alex</td>\n",
       "    </tr>\n",
       "  </tbody>\n",
       "</table>\n",
       "</div>"
      ],
      "text/plain": [
       "            Image Name Predicted Photographer\n",
       "0   TestSetImage01.png                   Alex\n",
       "1   TestSetImage02.png                   Alex\n",
       "2   TestSetImage03.png                   Alex\n",
       "3   TestSetImage04.png                   Alex\n",
       "4   TestSetImage05.png                   Alex\n",
       "5   TestSetImage06.png                   Alex\n",
       "6   TestSetImage07.png                  Kelly\n",
       "7   TestSetImage08.png                   Alex\n",
       "8   TestSetImage09.png                   Alex\n",
       "9   TestSetImage10.png                  Kelly\n",
       "10  TestSetImage11.png                   Alex\n",
       "11  TestSetImage12.png                   Alex\n",
       "12  TestSetImage13.png                   Alex\n",
       "13  TestSetImage14.png                   Alex\n",
       "14  TestSetImage15.png                  Kelly\n",
       "15  TestSetImage16.png                  Kelly\n",
       "16  TestSetImage17.png                   Alex\n",
       "17  TestSetImage18.png                   Alex\n",
       "18  TestSetImage19.png                   Alex\n",
       "19  TestSetImage20.png                   Alex"
      ]
     },
     "execution_count": 93,
     "metadata": {},
     "output_type": "execute_result"
    }
   ],
   "source": [
    "photographer_pred = model.predict(test_image_vals)\n",
    "\n",
    "photographer_pred = (photographer_pred >= .5).astype(int)\n",
    "\n",
    "photographer_dict = {0: \"Alex\", 1: \"Kelly\"}\n",
    "vectorized_function = np.vectorize(lambda x: photographer_dict[x])\n",
    "\n",
    "photographer_pred = vectorized_function(photographer_pred)\n",
    "\n",
    "photographer_df = pd.DataFrame(columns=[\"Image Name\", \"Predicted Photographer\"])\n",
    "photographer_df[\"Image Name\"] = test_image_names\n",
    "photographer_df[\"Predicted Photographer\"] = photographer_pred\n",
    "\n",
    "photographer_df"
   ]
  },
  {
   "cell_type": "markdown",
   "id": "881ce971-6c6e-42fe-b96b-21a2ee2e82d4",
   "metadata": {
    "tags": []
   },
   "source": [
    "# Approach 2\n",
    "Now we will attempt to train a Convelutional Neural Network to predict which person took each photo. We will do this by feeding it the known Kelly and Alex images, as well as "
   ]
  }
 ],
 "metadata": {
  "kernelspec": {
   "display_name": "Python 3 (ipykernel)",
   "language": "python",
   "name": "python3"
  },
  "language_info": {
   "codemirror_mode": {
    "name": "ipython",
    "version": 3
   },
   "file_extension": ".py",
   "mimetype": "text/x-python",
   "name": "python",
   "nbconvert_exporter": "python",
   "pygments_lexer": "ipython3",
   "version": "3.11.5"
  }
 },
 "nbformat": 4,
 "nbformat_minor": 5
}
