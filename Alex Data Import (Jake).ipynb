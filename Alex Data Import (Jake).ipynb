{
 "cells": [
  {
   "cell_type": "code",
   "execution_count": 25,
   "id": "06625cf3",
   "metadata": {},
   "outputs": [],
   "source": [
    "from PIL import Image\n",
    "import os\n",
    "import numpy as np\n",
    "import pandas as pd\n",
    "from sklearn.model_selection import train_test_split"
   ]
  },
  {
   "cell_type": "code",
   "execution_count": 26,
   "id": "e9448352",
   "metadata": {},
   "outputs": [],
   "source": [
    "alex_images_path = \"Alex_Kelly_Pics/Alex\"\n",
    "kelly_images_path = \"Alex_Kelly_Pics/Kelly\"\n",
    "test_images_path = \"Alex_Kelly_Pics/TestSet\"\n",
    "\n",
    "def load_images_from_folder(folder):\n",
    "    images = []\n",
    "    for filename in os.listdir(folder):\n",
    "        img = Image.open(os.path.join(folder, filename))\n",
    "        if img is not None:\n",
    "            images.append(np.array(img))\n",
    "    return images\n",
    "\n",
    "alex_images = load_images_from_folder(alex_images_path)\n",
    "kelly_images = load_images_from_folder(kelly_images_path)\n",
    "test_images = load_images_from_folder(test_images_path)"
   ]
  },
  {
   "cell_type": "code",
   "execution_count": 27,
   "id": "005e78ba",
   "metadata": {},
   "outputs": [],
   "source": [
    "def preprocess_images(images, size=(128, 128)):\n",
    "    processed_images = []\n",
    "    for img in images:\n",
    "        img = Image.fromarray(img).resize(size).convert('RGB')  # Ensure all images are in RGB format\n",
    "        img = np.array(img) / 255.0  # Normalize to [0, 1]\n",
    "        processed_images.append(img)\n",
    "    return np.array(processed_images)\n",
    "\n",
    "alex_images = preprocess_images(alex_images)\n",
    "kelly_images = preprocess_images(kelly_images)\n",
    "test_images = preprocess_images(test_images)\n",
    "\n",
    "\n",
    "alex_labels = np.zeros(len(alex_images))  # Label Alex's images as 0\n",
    "kelly_labels = np.ones(len(kelly_images))  # Label Kelly's images as 1\n",
    "\n",
    "\n"
   ]
  },
  {
   "cell_type": "code",
   "execution_count": null,
   "id": "e2762cc5",
   "metadata": {},
   "outputs": [],
   "source": []
  }
 ],
 "metadata": {
  "kernelspec": {
   "display_name": "Python 3 (ipykernel)",
   "language": "python",
   "name": "python3"
  },
  "language_info": {
   "codemirror_mode": {
    "name": "ipython",
    "version": 3
   },
   "file_extension": ".py",
   "mimetype": "text/x-python",
   "name": "python",
   "nbconvert_exporter": "python",
   "pygments_lexer": "ipython3",
   "version": "3.11.4"
  }
 },
 "nbformat": 4,
 "nbformat_minor": 5
}
