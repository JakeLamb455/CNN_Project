{
 "cells": [
  {
   "cell_type": "code",
   "execution_count": 40,
   "id": "8d499771",
   "metadata": {},
   "outputs": [],
   "source": [
    "from PIL import Image\n",
    "import os\n",
    "import numpy as np\n",
    "import pandas as pd\n",
    "from sklearn.model_selection import train_test_split"
   ]
  },
  {
   "cell_type": "code",
   "execution_count": 41,
   "id": "00611c53",
   "metadata": {},
   "outputs": [],
   "source": [
    "alex_images_path = \"Alex_Kelly_Pics/Alex\"\n",
    "kelly_images_path = \"Alex_Kelly_Pics/Kelly\"\n",
    "test_images_path = \"Alex_Kelly_Pics/TestSet\"\n",
    "\n",
    "def load_images_from_folder(folder):\n",
    "    images = []\n",
    "    for filename in os.listdir(folder):\n",
    "        img = Image.open(os.path.join(folder, filename))\n",
    "        if img is not None:\n",
    "            images.append(np.array(img))\n",
    "    return images\n",
    "\n",
    "alex_images = load_images_from_folder(alex_images_path)\n",
    "kelly_images = load_images_from_folder(kelly_images_path)\n",
    "test_images = load_images_from_folder(test_images_path)"
   ]
  },
  {
   "cell_type": "code",
   "execution_count": 46,
   "id": "d97b67eb",
   "metadata": {},
   "outputs": [
    {
     "name": "stdout",
     "output_type": "stream",
     "text": [
      "Templates have been written to image_templates.txt\n"
     ]
    }
   ],
   "source": [
    "image_names = os.listdir(alex_images_path) + os.listdir(kelly_images_path)\n",
    "\n",
    "output_template = \"\"\"\n",
    "{image_name}\n",
    "Human:\n",
    "Castle:\n",
    "indoors:\n",
    "landscape (city, suburb, rural):\n",
    "Animal:\n",
    "Vehicle:\n",
    "Night:\n",
    "Weather (sunny, cloudy, rainy):\n",
    "\"\"\"\n",
    "\n",
    "with open(\"image_templates.txt\", \"w\") as file:\n",
    "    for image_name in image_names:\n",
    "        formatted_template = output_template.format(image_name=image_name)\n",
    "        file.write(formatted_template)\n",
    "\n",
    "print(\"Templates have been written to image_templates.txt\")\n"
   ]
  },
  {
   "cell_type": "code",
   "execution_count": null,
   "id": "32f50b32",
   "metadata": {},
   "outputs": [],
   "source": []
  }
 ],
 "metadata": {
  "kernelspec": {
   "display_name": "Python 3 (ipykernel)",
   "language": "python",
   "name": "python3"
  },
  "language_info": {
   "codemirror_mode": {
    "name": "ipython",
    "version": 3
   },
   "file_extension": ".py",
   "mimetype": "text/x-python",
   "name": "python",
   "nbconvert_exporter": "python",
   "pygments_lexer": "ipython3",
   "version": "3.11.4"
  }
 },
 "nbformat": 4,
 "nbformat_minor": 5
}
