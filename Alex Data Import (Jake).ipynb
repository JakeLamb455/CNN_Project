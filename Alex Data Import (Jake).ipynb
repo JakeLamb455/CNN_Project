{
 "cells": [
  {
   "cell_type": "code",
   "execution_count": 2,
   "id": "979ddfe6",
   "metadata": {},
   "outputs": [],
   "source": [
    "from PIL import Image\n",
    "import os\n",
    "import numpy as np\n",
    "import pandas as pd"
   ]
  },
  {
   "cell_type": "code",
   "execution_count": null,
   "id": "706598c0",
   "metadata": {},
   "outputs": [],
   "source": [
    "# Define paths to image directories\n",
    "alex_images_path = \"path_to_alex_images\"\n",
    "kelly_images_path = \"path_to_kelly_images\"\n",
    "test_images_path = \"path_to_test_images\"\n",
    "\n",
    "# Function to load images\n",
    "def load_images_from_folder(folder):\n",
    "    images = []\n",
    "    for filename in os.listdir(folder):\n",
    "        img = Image.open(os.path.join(folder, filename))\n",
    "        if img is not None:\n",
    "            images.append(np.array(img))\n",
    "    return images\n",
    "\n",
    "# Load images\n",
    "alex_images = load_images_from_folder(alex_images_path)\n",
    "kelly_images = load_images_from_folder(kelly_images_path)\n",
    "test_images = load_images_from_folder(test_images_path)"
   ]
  }
 ],
 "metadata": {
  "kernelspec": {
   "display_name": "Python 3 (ipykernel)",
   "language": "python",
   "name": "python3"
  },
  "language_info": {
   "codemirror_mode": {
    "name": "ipython",
    "version": 3
   },
   "file_extension": ".py",
   "mimetype": "text/x-python",
   "name": "python",
   "nbconvert_exporter": "python",
   "pygments_lexer": "ipython3",
   "version": "3.11.4"
  }
 },
 "nbformat": 4,
 "nbformat_minor": 5
}
