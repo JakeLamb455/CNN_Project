{
 "cells": [
  {
   "cell_type": "code",
   "execution_count": 1,
   "id": "8d64344a",
   "metadata": {
    "tags": []
   },
   "outputs": [],
   "source": [
    "from PIL import Image\n",
    "import os\n",
    "import numpy as np\n",
    "import pandas as pd\n",
    "import csv"
   ]
  },
  {
   "cell_type": "code",
   "execution_count": 2,
   "id": "90487c27",
   "metadata": {
    "tags": []
   },
   "outputs": [],
   "source": [
    "alex_images_path = \"Alex_Kelly_Pics/Alex\"\n",
    "kelly_images_path = \"Alex_Kelly_Pics/Kelly\"\n",
    "test_images_path = \"Alex_Kelly_Pics/TestSet\""
   ]
  },
  {
   "cell_type": "code",
   "execution_count": 3,
   "id": "47ef1185",
   "metadata": {
    "tags": []
   },
   "outputs": [],
   "source": [
    "def sorted_image_names(path):\n",
    "    return sorted(os.listdir(path), key=lambda x: int(''.join(filter(str.isdigit, x))))"
   ]
  },
  {
   "cell_type": "code",
   "execution_count": 4,
   "id": "79187f09",
   "metadata": {
    "tags": []
   },
   "outputs": [],
   "source": [
    "alex_image_names = sorted_image_names(alex_images_path)\n",
    "kelly_image_names = sorted_image_names(kelly_images_path)\n",
    "test_image_names = sorted_image_names(test_images_path)\n",
    "\n",
    "image_names = alex_image_names + kelly_image_names"
   ]
  },
  {
   "cell_type": "code",
   "execution_count": 19,
   "id": "533776f9-43aa-481c-b901-b881f4ab2d5d",
   "metadata": {
    "tags": []
   },
   "outputs": [],
   "source": [
    "def get_image_sizes(folder):\n",
    "    biggest_image = [0, 0]\n",
    "    for filename in os.listdir(folder):\n",
    "        img = Image.open(os.path.join(folder, filename))\n",
    "        if img.size[0] > biggest_image[0]: \n",
    "            biggest_image[0] = img.size[0]\n",
    "        if img.size[1] > biggest_image[1]:\n",
    "            biggest_image[1] = img.size[1]\n",
    "    return biggest_image"
   ]
  },
  {
   "cell_type": "code",
   "execution_count": 21,
   "id": "d51c0b16-8e5b-4e8f-82a3-dd3cddd6ad1d",
   "metadata": {
    "tags": []
   },
   "outputs": [
    {
     "name": "stdout",
     "output_type": "stream",
     "text": [
      "[667, 400]\n"
     ]
    }
   ],
   "source": [
    "alex_im_size = get_image_sizes(alex_images_path)\n",
    "kelly_im_size = get_image_sizes(kelly_images_path)\n",
    "test_im_size = get_image_sizes(test_images_path)\n",
    "\n",
    "print(max(alex_im_size, kelly_im_size, test_im_size))"
   ]
  },
  {
   "cell_type": "code",
   "execution_count": 48,
   "id": "6c853841-98a7-48a2-b5e0-f0fedf2a4ee6",
   "metadata": {
    "tags": []
   },
   "outputs": [
    {
     "data": {
      "text/plain": [
       "256"
      ]
     },
     "execution_count": 48,
     "metadata": {},
     "output_type": "execute_result"
    }
   ],
   "source": [
    "len(os.listdir(alex_images_path))"
   ]
  },
  {
   "cell_type": "code",
   "execution_count": 66,
   "id": "b5274278",
   "metadata": {
    "tags": []
   },
   "outputs": [],
   "source": [
    "def load_images_from_folder(folder, resize_shape=(700, 440)):\n",
    "    images = []\n",
    "    image_names = []\n",
    "    count = 0\n",
    "    for filename in os.listdir(folder):\n",
    "        count += 1\n",
    "        img = Image.open(os.path.join(folder, filename)).convert('RGB')\n",
    "        img = img.resize(resize_shape)\n",
    "        if img is not None:\n",
    "            img_array = np.array(img)\n",
    "            images.append(img_array.flatten())\n",
    "        if count % int(len(os.listdir(folder)) / 10) == 0:\n",
    "            print(f\"{count / len(os.listdir(folder))*100}% Complete\")\n",
    "    return images"
   ]
  },
  {
   "cell_type": "code",
   "execution_count": 70,
   "id": "d832ff32-f0b1-42a8-90f2-581ea8d620ad",
   "metadata": {
    "tags": []
   },
   "outputs": [
    {
     "name": "stdout",
     "output_type": "stream",
     "text": [
      "9.765625% Complete\n",
      "19.53125% Complete\n",
      "29.296875% Complete\n",
      "39.0625% Complete\n",
      "48.828125% Complete\n",
      "58.59375% Complete\n",
      "68.359375% Complete\n",
      "78.125% Complete\n",
      "87.890625% Complete\n",
      "97.65625% Complete\n",
      "9.606986899563319% Complete\n",
      "19.213973799126638% Complete\n",
      "28.82096069868996% Complete\n",
      "38.427947598253276% Complete\n",
      "48.03493449781659% Complete\n",
      "57.64192139737992% Complete\n",
      "67.24890829694323% Complete\n",
      "76.85589519650655% Complete\n",
      "86.46288209606988% Complete\n",
      "96.06986899563319% Complete\n",
      "10.0% Complete\n",
      "20.0% Complete\n",
      "30.0% Complete\n",
      "40.0% Complete\n",
      "50.0% Complete\n",
      "60.0% Complete\n",
      "70.0% Complete\n",
      "80.0% Complete\n",
      "90.0% Complete\n",
      "100.0% Complete\n"
     ]
    }
   ],
   "source": [
    "alex_images = load_images_from_folder(alex_images_path)\n",
    "kelly_images = load_images_from_folder(kelly_images_path)\n",
    "test_images = load_images_from_folder(test_images_path)"
   ]
  },
  {
   "cell_type": "code",
   "execution_count": 73,
   "id": "bc48c90a-8a7a-437a-a249-03df749a67d4",
   "metadata": {
    "tags": []
   },
   "outputs": [
    {
     "data": {
      "text/plain": [
       "array([[103, 115, 126, ..., 123, 148,  61],\n",
       "       [118,  96,  79, ...,  14,  13,  10],\n",
       "       [160, 171, 182, ...,  50,  63,  74],\n",
       "       ...,\n",
       "       [192, 190, 177, ...,  23,  23,  23],\n",
       "       [114, 150, 210, ...,  82,  78,  79],\n",
       "       [225, 241, 253, ...,  50,  42,  76]], dtype=uint8)"
      ]
     },
     "execution_count": 73,
     "metadata": {},
     "output_type": "execute_result"
    }
   ],
   "source": [
    "merged_dataset = np.concatenate([alex_images, kelly_images])\n",
    "merged_dataset"
   ]
  },
  {
   "cell_type": "code",
   "execution_count": null,
   "id": "6d73b180-5f98-42eb-9ecc-0d95f958940e",
   "metadata": {
    "tags": []
   },
   "outputs": [],
   "source": [
    "# Not sure this is going to work\n",
    "# alex_images_df = pd.DataFrame(alex_images, index=alex_image_names)\n",
    "# kelly_images_df = pd.DataFrame(kelly_images, index=kelly_image_names)\n",
    "# test_images_df = pd.DataFrame(test_images, index=test_image_names)"
   ]
  },
  {
   "cell_type": "code",
   "execution_count": null,
   "id": "523d4f61",
   "metadata": {
    "tags": []
   },
   "outputs": [],
   "source": [
    "# alex_kelly_images_df = pd.concat([alex_images_df, kelly_images_df])\n",
    "# alex_kelly_images_df.head(5)"
   ]
  }
 ],
 "metadata": {
  "kernelspec": {
   "display_name": "Python 3 (ipykernel)",
   "language": "python",
   "name": "python3"
  },
  "language_info": {
   "codemirror_mode": {
    "name": "ipython",
    "version": 3
   },
   "file_extension": ".py",
   "mimetype": "text/x-python",
   "name": "python",
   "nbconvert_exporter": "python",
   "pygments_lexer": "ipython3",
   "version": "3.11.4"
  }
 },
 "nbformat": 4,
 "nbformat_minor": 5
}
