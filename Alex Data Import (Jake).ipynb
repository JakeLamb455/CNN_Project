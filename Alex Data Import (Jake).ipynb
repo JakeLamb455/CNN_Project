{
 "cells": [
  {
   "cell_type": "code",
   "execution_count": 1,
   "id": "8d64344a",
   "metadata": {},
   "outputs": [],
   "source": [
    "from PIL import Image\n",
    "import os\n",
    "import numpy as np\n",
    "import pandas as pd\n",
    "import csv"
   ]
  },
  {
   "cell_type": "code",
   "execution_count": 2,
   "id": "90487c27",
   "metadata": {},
   "outputs": [],
   "source": [
    "alex_images_path = \"Alex_Kelly_Pics/Alex\"\n",
    "kelly_images_path = \"Alex_Kelly_Pics/Kelly\"\n",
    "test_images_path = \"Alex_Kelly_Pics/TestSet\"\n",
    "\n",
    "def load_images_from_folder(folder):\n",
    "    images = []\n",
    "    for filename in os.listdir(folder):\n",
    "        img = Image.open(os.path.join(folder, filename))\n",
    "        if img is not None:\n",
    "            images.append(np.array(img))\n",
    "    return images\n",
    "\n",
    "alex_images = load_images_from_folder(alex_images_path)\n",
    "kelly_images = load_images_from_folder(kelly_images_path)\n",
    "test_images = load_images_from_folder(test_images_path)"
   ]
  },
  {
   "cell_type": "code",
   "execution_count": 5,
   "id": "47ef1185",
   "metadata": {},
   "outputs": [
    {
     "name": "stdout",
     "output_type": "stream",
     "text": [
      "Templates have been written to Image_Descriptions.csv\n"
     ]
    }
   ],
   "source": [
    "image_names = os.listdir(alex_images_path) + os.listdir(kelly_images_path)\n",
    "\n",
    "classifiers = [\"Human\", \"Castle\", \"Indoors\", \"Landscape\", \"Woman\", \"Daytime\", \"Baby\", \"Sunset\", \"Panorama\", \"Animal\", \"Building\", \"Mask\", \"Gray-Hair\", \"Fire\"]\n",
    "\n",
    "with open(\"Image_Descriptions_Template.csv\", \"w\", newline='') as file:\n",
    "    writer = csv.writer(file)\n",
    "    writer.writerow(['image_name'] + classifiers)\n",
    "    \n",
    "    for image_name in image_names:\n",
    "        row = [image_name] + [\"\"] * (len(classifiers) - 1)\n",
    "        writer.writerow(row)\n",
    "\n",
    "print(\"Templates have been written to Image_Descriptions_Template.csv\")\n"
   ]
  },
  {
   "cell_type": "code",
   "execution_count": 9,
   "id": "9b93cd6c",
   "metadata": {},
   "outputs": [],
   "source": [
    "alex_images_df = pd.DataFrame({'Image': alex_images})\n",
    "kelly_images_df = pd.DataFrame({'Image': kelly_images})\n",
    "test_images_df = pd.DataFrame({'Image': test_images})\n"
   ]
  },
  {
   "cell_type": "code",
   "execution_count": 10,
   "id": "59de484f",
   "metadata": {},
   "outputs": [
    {
     "data": {
      "text/html": [
       "<div>\n",
       "<style scoped>\n",
       "    .dataframe tbody tr th:only-of-type {\n",
       "        vertical-align: middle;\n",
       "    }\n",
       "\n",
       "    .dataframe tbody tr th {\n",
       "        vertical-align: top;\n",
       "    }\n",
       "\n",
       "    .dataframe thead th {\n",
       "        text-align: right;\n",
       "    }\n",
       "</style>\n",
       "<table border=\"1\" class=\"dataframe\">\n",
       "  <thead>\n",
       "    <tr style=\"text-align: right;\">\n",
       "      <th></th>\n",
       "      <th>Image</th>\n",
       "    </tr>\n",
       "  </thead>\n",
       "  <tbody>\n",
       "    <tr>\n",
       "      <th>0</th>\n",
       "      <td>[[76, 105, 105, 105, 20, 24, 1, 16, 16, 14, 14...</td>\n",
       "    </tr>\n",
       "    <tr>\n",
       "      <th>1</th>\n",
       "      <td>[[192, 141, 206, 170, 194, 206, 184, 36, 224, ...</td>\n",
       "    </tr>\n",
       "    <tr>\n",
       "      <th>2</th>\n",
       "      <td>[[[103, 113, 121, 255], [99, 111, 117, 255], [...</td>\n",
       "    </tr>\n",
       "    <tr>\n",
       "      <th>3</th>\n",
       "      <td>[[[91, 143, 198, 255], [91, 145, 198, 255], [9...</td>\n",
       "    </tr>\n",
       "    <tr>\n",
       "      <th>4</th>\n",
       "      <td>[[[64, 123, 182, 255], [53, 100, 159, 255], [7...</td>\n",
       "    </tr>\n",
       "    <tr>\n",
       "      <th>...</th>\n",
       "      <td>...</td>\n",
       "    </tr>\n",
       "    <tr>\n",
       "      <th>251</th>\n",
       "      <td>[[107, 107, 107, 107, 107, 107, 107, 107, 107,...</td>\n",
       "    </tr>\n",
       "    <tr>\n",
       "      <th>252</th>\n",
       "      <td>[[22, 22, 22, 22, 22, 35, 35, 35, 35, 35, 17, ...</td>\n",
       "    </tr>\n",
       "    <tr>\n",
       "      <th>253</th>\n",
       "      <td>[[[20, 31, 13, 255], [77, 57, 40, 255], [81, 8...</td>\n",
       "    </tr>\n",
       "    <tr>\n",
       "      <th>254</th>\n",
       "      <td>[[[17, 20, 22, 255], [16, 20, 20, 255], [17, 1...</td>\n",
       "    </tr>\n",
       "    <tr>\n",
       "      <th>255</th>\n",
       "      <td>[[[31, 30, 39, 255], [26, 28, 40, 255], [28, 2...</td>\n",
       "    </tr>\n",
       "  </tbody>\n",
       "</table>\n",
       "<p>256 rows × 1 columns</p>\n",
       "</div>"
      ],
      "text/plain": [
       "                                                 Image\n",
       "0    [[76, 105, 105, 105, 20, 24, 1, 16, 16, 14, 14...\n",
       "1    [[192, 141, 206, 170, 194, 206, 184, 36, 224, ...\n",
       "2    [[[103, 113, 121, 255], [99, 111, 117, 255], [...\n",
       "3    [[[91, 143, 198, 255], [91, 145, 198, 255], [9...\n",
       "4    [[[64, 123, 182, 255], [53, 100, 159, 255], [7...\n",
       "..                                                 ...\n",
       "251  [[107, 107, 107, 107, 107, 107, 107, 107, 107,...\n",
       "252  [[22, 22, 22, 22, 22, 35, 35, 35, 35, 35, 17, ...\n",
       "253  [[[20, 31, 13, 255], [77, 57, 40, 255], [81, 8...\n",
       "254  [[[17, 20, 22, 255], [16, 20, 20, 255], [17, 1...\n",
       "255  [[[31, 30, 39, 255], [26, 28, 40, 255], [28, 2...\n",
       "\n",
       "[256 rows x 1 columns]"
      ]
     },
     "execution_count": 10,
     "metadata": {},
     "output_type": "execute_result"
    }
   ],
   "source": [
    "alex_images_df"
   ]
  }
 ],
 "metadata": {
  "kernelspec": {
   "display_name": "Python 3 (ipykernel)",
   "language": "python",
   "name": "python3"
  },
  "language_info": {
   "codemirror_mode": {
    "name": "ipython",
    "version": 3
   },
   "file_extension": ".py",
   "mimetype": "text/x-python",
   "name": "python",
   "nbconvert_exporter": "python",
   "pygments_lexer": "ipython3",
   "version": "3.11.4"
  }
 },
 "nbformat": 4,
 "nbformat_minor": 5
}
