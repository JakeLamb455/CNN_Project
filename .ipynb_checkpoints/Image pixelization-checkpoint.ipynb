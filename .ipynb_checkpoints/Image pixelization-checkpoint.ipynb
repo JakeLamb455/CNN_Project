{
 "cells": [
  {
   "cell_type": "code",
   "execution_count": 1,
   "id": "8d64344a",
   "metadata": {
    "tags": []
   },
   "outputs": [],
   "source": [
    "from PIL import Image\n",
    "import os\n",
    "import numpy as np\n",
    "import pandas as pd\n",
    "import csv\n",
    "from sklearn.preprocessing import LabelEncoder\n",
    "from sklearn.model_selection import train_test_split\n",
    "from keras.models import Sequential\n",
    "from keras.layers import Dense, Dropout, Flatten, Conv2D, MaxPool2D, AvgPool2D, BatchNormalization, Reshape\n",
    "from tensorflow.keras.preprocessing.image import ImageDataGenerator\n",
    "from keras.callbacks import LearningRateScheduler\n",
    "import matplotlib.pyplot as plt"
   ]
  },
  {
   "cell_type": "code",
   "execution_count": 28,
   "id": "90487c27",
   "metadata": {
    "tags": []
   },
   "outputs": [],
   "source": [
    "alex_images_path = \"Alex_Kelly_Pics/Alex\"\n",
    "kelly_images_path = \"Alex_Kelly_Pics/Kelly\"\n",
    "test_images_path = \"Alex_Kelly_Pics/TestSet\"\n",
    "image_labels_path = \"Kelly_and_Alex_Image_Labels - Sheet1.csv\""
   ]
  },
  {
   "cell_type": "code",
   "execution_count": 14,
   "id": "47ef1185",
   "metadata": {
    "tags": []
   },
   "outputs": [],
   "source": [
    "def sorted_image_names(path):\n",
    "    return sorted(os.listdir(path), key=lambda x: int(''.join(filter(str.isdigit, x))))"
   ]
  },
  {
   "cell_type": "code",
   "execution_count": 30,
   "id": "79187f09",
   "metadata": {
    "tags": []
   },
   "outputs": [],
   "source": [
    "alex_image_names = sorted_image_names(alex_images_path)\n",
    "kelly_image_names = sorted_image_names(kelly_images_path)\n",
    "test_image_names = sorted_image_names(test_images_path)\n",
    "\n",
    "image_names = alex_image_names + kelly_image_names"
   ]
  },
  {
   "cell_type": "code",
   "execution_count": 32,
   "id": "88c2ddd5-0e0c-405b-805d-c21cf82a1c47",
   "metadata": {
    "scrolled": true,
    "tags": []
   },
   "outputs": [
    {
     "data": {
      "text/html": [
       "<div>\n",
       "<style scoped>\n",
       "    .dataframe tbody tr th:only-of-type {\n",
       "        vertical-align: middle;\n",
       "    }\n",
       "\n",
       "    .dataframe tbody tr th {\n",
       "        vertical-align: top;\n",
       "    }\n",
       "\n",
       "    .dataframe thead th {\n",
       "        text-align: right;\n",
       "    }\n",
       "</style>\n",
       "<table border=\"1\" class=\"dataframe\">\n",
       "  <thead>\n",
       "    <tr style=\"text-align: right;\">\n",
       "      <th></th>\n",
       "      <th>image_name</th>\n",
       "      <th>Human</th>\n",
       "      <th>Castle</th>\n",
       "      <th>Indoors</th>\n",
       "      <th>Landscape</th>\n",
       "      <th>Woman</th>\n",
       "      <th>Daytime</th>\n",
       "      <th>Children</th>\n",
       "      <th>Sunset</th>\n",
       "      <th>Flower</th>\n",
       "      <th>Animal</th>\n",
       "      <th>Building</th>\n",
       "      <th>Mask</th>\n",
       "      <th>Gray-Hair</th>\n",
       "      <th>Fire</th>\n",
       "      <th>Food_drink</th>\n",
       "    </tr>\n",
       "  </thead>\n",
       "  <tbody>\n",
       "    <tr>\n",
       "      <th>0</th>\n",
       "      <td>Alex-Image01.png</td>\n",
       "      <td>1</td>\n",
       "      <td>0</td>\n",
       "      <td>0</td>\n",
       "      <td>2</td>\n",
       "      <td>0</td>\n",
       "      <td>1</td>\n",
       "      <td>1</td>\n",
       "      <td>0</td>\n",
       "      <td>0</td>\n",
       "      <td>1</td>\n",
       "      <td>0</td>\n",
       "      <td>0</td>\n",
       "      <td>0</td>\n",
       "      <td>0</td>\n",
       "      <td>0</td>\n",
       "    </tr>\n",
       "    <tr>\n",
       "      <th>1</th>\n",
       "      <td>Alex-Image02.png</td>\n",
       "      <td>1</td>\n",
       "      <td>0</td>\n",
       "      <td>0</td>\n",
       "      <td>2</td>\n",
       "      <td>0</td>\n",
       "      <td>1</td>\n",
       "      <td>1</td>\n",
       "      <td>0</td>\n",
       "      <td>0</td>\n",
       "      <td>0</td>\n",
       "      <td>1</td>\n",
       "      <td>0</td>\n",
       "      <td>0</td>\n",
       "      <td>0</td>\n",
       "      <td>0</td>\n",
       "    </tr>\n",
       "    <tr>\n",
       "      <th>2</th>\n",
       "      <td>Alex-Image03.png</td>\n",
       "      <td>0</td>\n",
       "      <td>0</td>\n",
       "      <td>0</td>\n",
       "      <td>0</td>\n",
       "      <td>0</td>\n",
       "      <td>1</td>\n",
       "      <td>0</td>\n",
       "      <td>0</td>\n",
       "      <td>0</td>\n",
       "      <td>0</td>\n",
       "      <td>1</td>\n",
       "      <td>0</td>\n",
       "      <td>0</td>\n",
       "      <td>0</td>\n",
       "      <td>0</td>\n",
       "    </tr>\n",
       "    <tr>\n",
       "      <th>3</th>\n",
       "      <td>Alex-Image04.png</td>\n",
       "      <td>0</td>\n",
       "      <td>0</td>\n",
       "      <td>0</td>\n",
       "      <td>1</td>\n",
       "      <td>0</td>\n",
       "      <td>1</td>\n",
       "      <td>0</td>\n",
       "      <td>0</td>\n",
       "      <td>0</td>\n",
       "      <td>0</td>\n",
       "      <td>0</td>\n",
       "      <td>0</td>\n",
       "      <td>0</td>\n",
       "      <td>0</td>\n",
       "      <td>0</td>\n",
       "    </tr>\n",
       "    <tr>\n",
       "      <th>4</th>\n",
       "      <td>Alex-Image05.png</td>\n",
       "      <td>0</td>\n",
       "      <td>0</td>\n",
       "      <td>0</td>\n",
       "      <td>1</td>\n",
       "      <td>0</td>\n",
       "      <td>1</td>\n",
       "      <td>0</td>\n",
       "      <td>0</td>\n",
       "      <td>0</td>\n",
       "      <td>0</td>\n",
       "      <td>0</td>\n",
       "      <td>0</td>\n",
       "      <td>0</td>\n",
       "      <td>0</td>\n",
       "      <td>0</td>\n",
       "    </tr>\n",
       "    <tr>\n",
       "      <th>...</th>\n",
       "      <td>...</td>\n",
       "      <td>...</td>\n",
       "      <td>...</td>\n",
       "      <td>...</td>\n",
       "      <td>...</td>\n",
       "      <td>...</td>\n",
       "      <td>...</td>\n",
       "      <td>...</td>\n",
       "      <td>...</td>\n",
       "      <td>...</td>\n",
       "      <td>...</td>\n",
       "      <td>...</td>\n",
       "      <td>...</td>\n",
       "      <td>...</td>\n",
       "      <td>...</td>\n",
       "      <td>...</td>\n",
       "    </tr>\n",
       "    <tr>\n",
       "      <th>480</th>\n",
       "      <td>Kelly-Image225.png</td>\n",
       "      <td>0</td>\n",
       "      <td>0</td>\n",
       "      <td>0</td>\n",
       "      <td>1</td>\n",
       "      <td>0</td>\n",
       "      <td>1</td>\n",
       "      <td>0</td>\n",
       "      <td>0</td>\n",
       "      <td>1</td>\n",
       "      <td>1</td>\n",
       "      <td>0</td>\n",
       "      <td>0</td>\n",
       "      <td>0</td>\n",
       "      <td>0</td>\n",
       "      <td>0</td>\n",
       "    </tr>\n",
       "    <tr>\n",
       "      <th>481</th>\n",
       "      <td>Kelly-Image226.png</td>\n",
       "      <td>0</td>\n",
       "      <td>0</td>\n",
       "      <td>0</td>\n",
       "      <td>1</td>\n",
       "      <td>0</td>\n",
       "      <td>0</td>\n",
       "      <td>0</td>\n",
       "      <td>1</td>\n",
       "      <td>1</td>\n",
       "      <td>0</td>\n",
       "      <td>0</td>\n",
       "      <td>0</td>\n",
       "      <td>0</td>\n",
       "      <td>0</td>\n",
       "      <td>0</td>\n",
       "    </tr>\n",
       "    <tr>\n",
       "      <th>482</th>\n",
       "      <td>Kelly-Image227.png</td>\n",
       "      <td>1</td>\n",
       "      <td>0</td>\n",
       "      <td>1</td>\n",
       "      <td>0</td>\n",
       "      <td>0</td>\n",
       "      <td>0</td>\n",
       "      <td>0</td>\n",
       "      <td>0</td>\n",
       "      <td>0</td>\n",
       "      <td>1</td>\n",
       "      <td>1</td>\n",
       "      <td>0</td>\n",
       "      <td>0</td>\n",
       "      <td>0</td>\n",
       "      <td>0</td>\n",
       "    </tr>\n",
       "    <tr>\n",
       "      <th>483</th>\n",
       "      <td>Kelly-Image228.png</td>\n",
       "      <td>1</td>\n",
       "      <td>0</td>\n",
       "      <td>0</td>\n",
       "      <td>0</td>\n",
       "      <td>0</td>\n",
       "      <td>1</td>\n",
       "      <td>0</td>\n",
       "      <td>0</td>\n",
       "      <td>0</td>\n",
       "      <td>0</td>\n",
       "      <td>1</td>\n",
       "      <td>0</td>\n",
       "      <td>0</td>\n",
       "      <td>0</td>\n",
       "      <td>0</td>\n",
       "    </tr>\n",
       "    <tr>\n",
       "      <th>484</th>\n",
       "      <td>Kelly-Image229.png</td>\n",
       "      <td>1</td>\n",
       "      <td>0</td>\n",
       "      <td>1</td>\n",
       "      <td>0</td>\n",
       "      <td>1</td>\n",
       "      <td>0</td>\n",
       "      <td>0</td>\n",
       "      <td>0</td>\n",
       "      <td>0</td>\n",
       "      <td>0</td>\n",
       "      <td>1</td>\n",
       "      <td>0</td>\n",
       "      <td>0</td>\n",
       "      <td>0</td>\n",
       "      <td>0</td>\n",
       "    </tr>\n",
       "  </tbody>\n",
       "</table>\n",
       "<p>485 rows × 16 columns</p>\n",
       "</div>"
      ],
      "text/plain": [
       "             image_name  Human  Castle  Indoors  Landscape  Woman  Daytime  \\\n",
       "0      Alex-Image01.png      1       0        0          2      0        1   \n",
       "1      Alex-Image02.png      1       0        0          2      0        1   \n",
       "2      Alex-Image03.png      0       0        0          0      0        1   \n",
       "3      Alex-Image04.png      0       0        0          1      0        1   \n",
       "4      Alex-Image05.png      0       0        0          1      0        1   \n",
       "..                  ...    ...     ...      ...        ...    ...      ...   \n",
       "480  Kelly-Image225.png      0       0        0          1      0        1   \n",
       "481  Kelly-Image226.png      0       0        0          1      0        0   \n",
       "482  Kelly-Image227.png      1       0        1          0      0        0   \n",
       "483  Kelly-Image228.png      1       0        0          0      0        1   \n",
       "484  Kelly-Image229.png      1       0        1          0      1        0   \n",
       "\n",
       "     Children  Sunset  Flower  Animal  Building  Mask  Gray-Hair  Fire  \\\n",
       "0           1       0       0       1         0     0          0     0   \n",
       "1           1       0       0       0         1     0          0     0   \n",
       "2           0       0       0       0         1     0          0     0   \n",
       "3           0       0       0       0         0     0          0     0   \n",
       "4           0       0       0       0         0     0          0     0   \n",
       "..        ...     ...     ...     ...       ...   ...        ...   ...   \n",
       "480         0       0       1       1         0     0          0     0   \n",
       "481         0       1       1       0         0     0          0     0   \n",
       "482         0       0       0       1         1     0          0     0   \n",
       "483         0       0       0       0         1     0          0     0   \n",
       "484         0       0       0       0         1     0          0     0   \n",
       "\n",
       "     Food_drink  \n",
       "0             0  \n",
       "1             0  \n",
       "2             0  \n",
       "3             0  \n",
       "4             0  \n",
       "..          ...  \n",
       "480           0  \n",
       "481           0  \n",
       "482           0  \n",
       "483           0  \n",
       "484           0  \n",
       "\n",
       "[485 rows x 16 columns]"
      ]
     },
     "execution_count": 32,
     "metadata": {},
     "output_type": "execute_result"
    }
   ],
   "source": [
    "labels = pd.read_csv(image_labels_path)\n",
    "le = LabelEncoder().fit(labels[\"Landscape\"])\n",
    "labels[\"Landscape\"] = le.transform(labels[\"Landscape\"])\n",
    "labels"
   ]
  },
  {
   "cell_type": "code",
   "execution_count": 34,
   "id": "925c9f67",
   "metadata": {
    "tags": []
   },
   "outputs": [],
   "source": [
    "labels['Photographer'] = labels['image_name'].str.split('-', n = 1).str[0]"
   ]
  },
  {
   "cell_type": "code",
   "execution_count": 36,
   "id": "0c061f5c",
   "metadata": {
    "tags": []
   },
   "outputs": [],
   "source": [
    "le = LabelEncoder().fit(labels[\"Photographer\"])\n",
    "labels[\"Photographer\"] = le.transform(labels[\"Photographer\"])"
   ]
  },
  {
   "cell_type": "code",
   "execution_count": 38,
   "id": "1df4ba6a",
   "metadata": {
    "tags": []
   },
   "outputs": [
    {
     "data": {
      "text/html": [
       "<div>\n",
       "<style scoped>\n",
       "    .dataframe tbody tr th:only-of-type {\n",
       "        vertical-align: middle;\n",
       "    }\n",
       "\n",
       "    .dataframe tbody tr th {\n",
       "        vertical-align: top;\n",
       "    }\n",
       "\n",
       "    .dataframe thead th {\n",
       "        text-align: right;\n",
       "    }\n",
       "</style>\n",
       "<table border=\"1\" class=\"dataframe\">\n",
       "  <thead>\n",
       "    <tr style=\"text-align: right;\">\n",
       "      <th></th>\n",
       "      <th>image_name</th>\n",
       "      <th>Human</th>\n",
       "      <th>Castle</th>\n",
       "      <th>Indoors</th>\n",
       "      <th>Landscape</th>\n",
       "      <th>Woman</th>\n",
       "      <th>Daytime</th>\n",
       "      <th>Children</th>\n",
       "      <th>Sunset</th>\n",
       "      <th>Flower</th>\n",
       "      <th>Animal</th>\n",
       "      <th>Building</th>\n",
       "      <th>Mask</th>\n",
       "      <th>Gray-Hair</th>\n",
       "      <th>Fire</th>\n",
       "      <th>Food_drink</th>\n",
       "      <th>Photographer</th>\n",
       "    </tr>\n",
       "  </thead>\n",
       "  <tbody>\n",
       "    <tr>\n",
       "      <th>0</th>\n",
       "      <td>Alex-Image01.png</td>\n",
       "      <td>1</td>\n",
       "      <td>0</td>\n",
       "      <td>0</td>\n",
       "      <td>2</td>\n",
       "      <td>0</td>\n",
       "      <td>1</td>\n",
       "      <td>1</td>\n",
       "      <td>0</td>\n",
       "      <td>0</td>\n",
       "      <td>1</td>\n",
       "      <td>0</td>\n",
       "      <td>0</td>\n",
       "      <td>0</td>\n",
       "      <td>0</td>\n",
       "      <td>0</td>\n",
       "      <td>0</td>\n",
       "    </tr>\n",
       "    <tr>\n",
       "      <th>1</th>\n",
       "      <td>Alex-Image02.png</td>\n",
       "      <td>1</td>\n",
       "      <td>0</td>\n",
       "      <td>0</td>\n",
       "      <td>2</td>\n",
       "      <td>0</td>\n",
       "      <td>1</td>\n",
       "      <td>1</td>\n",
       "      <td>0</td>\n",
       "      <td>0</td>\n",
       "      <td>0</td>\n",
       "      <td>1</td>\n",
       "      <td>0</td>\n",
       "      <td>0</td>\n",
       "      <td>0</td>\n",
       "      <td>0</td>\n",
       "      <td>0</td>\n",
       "    </tr>\n",
       "    <tr>\n",
       "      <th>2</th>\n",
       "      <td>Alex-Image03.png</td>\n",
       "      <td>0</td>\n",
       "      <td>0</td>\n",
       "      <td>0</td>\n",
       "      <td>0</td>\n",
       "      <td>0</td>\n",
       "      <td>1</td>\n",
       "      <td>0</td>\n",
       "      <td>0</td>\n",
       "      <td>0</td>\n",
       "      <td>0</td>\n",
       "      <td>1</td>\n",
       "      <td>0</td>\n",
       "      <td>0</td>\n",
       "      <td>0</td>\n",
       "      <td>0</td>\n",
       "      <td>0</td>\n",
       "    </tr>\n",
       "    <tr>\n",
       "      <th>3</th>\n",
       "      <td>Alex-Image04.png</td>\n",
       "      <td>0</td>\n",
       "      <td>0</td>\n",
       "      <td>0</td>\n",
       "      <td>1</td>\n",
       "      <td>0</td>\n",
       "      <td>1</td>\n",
       "      <td>0</td>\n",
       "      <td>0</td>\n",
       "      <td>0</td>\n",
       "      <td>0</td>\n",
       "      <td>0</td>\n",
       "      <td>0</td>\n",
       "      <td>0</td>\n",
       "      <td>0</td>\n",
       "      <td>0</td>\n",
       "      <td>0</td>\n",
       "    </tr>\n",
       "    <tr>\n",
       "      <th>4</th>\n",
       "      <td>Alex-Image05.png</td>\n",
       "      <td>0</td>\n",
       "      <td>0</td>\n",
       "      <td>0</td>\n",
       "      <td>1</td>\n",
       "      <td>0</td>\n",
       "      <td>1</td>\n",
       "      <td>0</td>\n",
       "      <td>0</td>\n",
       "      <td>0</td>\n",
       "      <td>0</td>\n",
       "      <td>0</td>\n",
       "      <td>0</td>\n",
       "      <td>0</td>\n",
       "      <td>0</td>\n",
       "      <td>0</td>\n",
       "      <td>0</td>\n",
       "    </tr>\n",
       "    <tr>\n",
       "      <th>...</th>\n",
       "      <td>...</td>\n",
       "      <td>...</td>\n",
       "      <td>...</td>\n",
       "      <td>...</td>\n",
       "      <td>...</td>\n",
       "      <td>...</td>\n",
       "      <td>...</td>\n",
       "      <td>...</td>\n",
       "      <td>...</td>\n",
       "      <td>...</td>\n",
       "      <td>...</td>\n",
       "      <td>...</td>\n",
       "      <td>...</td>\n",
       "      <td>...</td>\n",
       "      <td>...</td>\n",
       "      <td>...</td>\n",
       "      <td>...</td>\n",
       "    </tr>\n",
       "    <tr>\n",
       "      <th>480</th>\n",
       "      <td>Kelly-Image225.png</td>\n",
       "      <td>0</td>\n",
       "      <td>0</td>\n",
       "      <td>0</td>\n",
       "      <td>1</td>\n",
       "      <td>0</td>\n",
       "      <td>1</td>\n",
       "      <td>0</td>\n",
       "      <td>0</td>\n",
       "      <td>1</td>\n",
       "      <td>1</td>\n",
       "      <td>0</td>\n",
       "      <td>0</td>\n",
       "      <td>0</td>\n",
       "      <td>0</td>\n",
       "      <td>0</td>\n",
       "      <td>1</td>\n",
       "    </tr>\n",
       "    <tr>\n",
       "      <th>481</th>\n",
       "      <td>Kelly-Image226.png</td>\n",
       "      <td>0</td>\n",
       "      <td>0</td>\n",
       "      <td>0</td>\n",
       "      <td>1</td>\n",
       "      <td>0</td>\n",
       "      <td>0</td>\n",
       "      <td>0</td>\n",
       "      <td>1</td>\n",
       "      <td>1</td>\n",
       "      <td>0</td>\n",
       "      <td>0</td>\n",
       "      <td>0</td>\n",
       "      <td>0</td>\n",
       "      <td>0</td>\n",
       "      <td>0</td>\n",
       "      <td>1</td>\n",
       "    </tr>\n",
       "    <tr>\n",
       "      <th>482</th>\n",
       "      <td>Kelly-Image227.png</td>\n",
       "      <td>1</td>\n",
       "      <td>0</td>\n",
       "      <td>1</td>\n",
       "      <td>0</td>\n",
       "      <td>0</td>\n",
       "      <td>0</td>\n",
       "      <td>0</td>\n",
       "      <td>0</td>\n",
       "      <td>0</td>\n",
       "      <td>1</td>\n",
       "      <td>1</td>\n",
       "      <td>0</td>\n",
       "      <td>0</td>\n",
       "      <td>0</td>\n",
       "      <td>0</td>\n",
       "      <td>1</td>\n",
       "    </tr>\n",
       "    <tr>\n",
       "      <th>483</th>\n",
       "      <td>Kelly-Image228.png</td>\n",
       "      <td>1</td>\n",
       "      <td>0</td>\n",
       "      <td>0</td>\n",
       "      <td>0</td>\n",
       "      <td>0</td>\n",
       "      <td>1</td>\n",
       "      <td>0</td>\n",
       "      <td>0</td>\n",
       "      <td>0</td>\n",
       "      <td>0</td>\n",
       "      <td>1</td>\n",
       "      <td>0</td>\n",
       "      <td>0</td>\n",
       "      <td>0</td>\n",
       "      <td>0</td>\n",
       "      <td>1</td>\n",
       "    </tr>\n",
       "    <tr>\n",
       "      <th>484</th>\n",
       "      <td>Kelly-Image229.png</td>\n",
       "      <td>1</td>\n",
       "      <td>0</td>\n",
       "      <td>1</td>\n",
       "      <td>0</td>\n",
       "      <td>1</td>\n",
       "      <td>0</td>\n",
       "      <td>0</td>\n",
       "      <td>0</td>\n",
       "      <td>0</td>\n",
       "      <td>0</td>\n",
       "      <td>1</td>\n",
       "      <td>0</td>\n",
       "      <td>0</td>\n",
       "      <td>0</td>\n",
       "      <td>0</td>\n",
       "      <td>1</td>\n",
       "    </tr>\n",
       "  </tbody>\n",
       "</table>\n",
       "<p>485 rows × 17 columns</p>\n",
       "</div>"
      ],
      "text/plain": [
       "             image_name  Human  Castle  Indoors  Landscape  Woman  Daytime  \\\n",
       "0      Alex-Image01.png      1       0        0          2      0        1   \n",
       "1      Alex-Image02.png      1       0        0          2      0        1   \n",
       "2      Alex-Image03.png      0       0        0          0      0        1   \n",
       "3      Alex-Image04.png      0       0        0          1      0        1   \n",
       "4      Alex-Image05.png      0       0        0          1      0        1   \n",
       "..                  ...    ...     ...      ...        ...    ...      ...   \n",
       "480  Kelly-Image225.png      0       0        0          1      0        1   \n",
       "481  Kelly-Image226.png      0       0        0          1      0        0   \n",
       "482  Kelly-Image227.png      1       0        1          0      0        0   \n",
       "483  Kelly-Image228.png      1       0        0          0      0        1   \n",
       "484  Kelly-Image229.png      1       0        1          0      1        0   \n",
       "\n",
       "     Children  Sunset  Flower  Animal  Building  Mask  Gray-Hair  Fire  \\\n",
       "0           1       0       0       1         0     0          0     0   \n",
       "1           1       0       0       0         1     0          0     0   \n",
       "2           0       0       0       0         1     0          0     0   \n",
       "3           0       0       0       0         0     0          0     0   \n",
       "4           0       0       0       0         0     0          0     0   \n",
       "..        ...     ...     ...     ...       ...   ...        ...   ...   \n",
       "480         0       0       1       1         0     0          0     0   \n",
       "481         0       1       1       0         0     0          0     0   \n",
       "482         0       0       0       1         1     0          0     0   \n",
       "483         0       0       0       0         1     0          0     0   \n",
       "484         0       0       0       0         1     0          0     0   \n",
       "\n",
       "     Food_drink  Photographer  \n",
       "0             0             0  \n",
       "1             0             0  \n",
       "2             0             0  \n",
       "3             0             0  \n",
       "4             0             0  \n",
       "..          ...           ...  \n",
       "480           0             1  \n",
       "481           0             1  \n",
       "482           0             1  \n",
       "483           0             1  \n",
       "484           0             1  \n",
       "\n",
       "[485 rows x 17 columns]"
      ]
     },
     "execution_count": 38,
     "metadata": {},
     "output_type": "execute_result"
    }
   ],
   "source": [
    "labels"
   ]
  },
  {
   "cell_type": "code",
   "execution_count": 40,
   "id": "533776f9-43aa-481c-b901-b881f4ab2d5d",
   "metadata": {
    "tags": []
   },
   "outputs": [],
   "source": [
    "def get_largest_size(folder):\n",
    "    biggest_image = [0, 0]\n",
    "    for filename in os.listdir(folder):\n",
    "        img = Image.open(os.path.join(folder, filename))\n",
    "        if img.size[0] > biggest_image[0]: \n",
    "            biggest_image[0] = img.size[0]\n",
    "        if img.size[1] > biggest_image[1]:\n",
    "            biggest_image[1] = img.size[1]\n",
    "    return biggest_image"
   ]
  },
  {
   "cell_type": "code",
   "execution_count": 42,
   "id": "d51c0b16-8e5b-4e8f-82a3-dd3cddd6ad1d",
   "metadata": {
    "tags": []
   },
   "outputs": [
    {
     "name": "stdout",
     "output_type": "stream",
     "text": [
      "Max Image Sizes: [667, 400]\n"
     ]
    }
   ],
   "source": [
    "alex_im_size = get_largest_size(alex_images_path)\n",
    "kelly_im_size = get_largest_size(kelly_images_path)\n",
    "test_im_size = get_largest_size(test_images_path)\n",
    "\n",
    "print(\"Max Image Sizes:\", max(alex_im_size, kelly_im_size, test_im_size))"
   ]
  },
  {
   "cell_type": "code",
   "execution_count": 132,
   "id": "0e683d21-5286-4132-ab8b-27b8479ee178",
   "metadata": {
    "tags": []
   },
   "outputs": [],
   "source": [
    "def resize_and_pad(image_path, size=(700, 440)):\n",
    "    \"\"\"\n",
    "    Resize and pad an image to the specified size.\n",
    "    \n",
    "    :param image_path: Path to the input image.\n",
    "    :param output_path: Path to save the output image.\n",
    "    :param size: Desired output size (width, height).\n",
    "    \"\"\"\n",
    "    image = Image.open(image_path).convert(\"RGB\")\n",
    "    original_size = image.size\n",
    "    \n",
    "    # Calculate new size while maintaining aspect ratio\n",
    "    ratio = min(size[0]/original_size[0], size[1]/original_size[1])\n",
    "    new_size = (int(original_size[0] * ratio), int(original_size[1] * ratio))\n",
    "    resized_image = image.resize(new_size)\n",
    "    \n",
    "    # Create a new image with the desired size and pad the resized image\n",
    "    new_image = Image.new(\"RGB\", size, (0, 0, 0))  # Change color (0, 0, 0) to your desired padding color\n",
    "    new_image.paste(resized_image, ((size[0] - new_size[0]) // 2, (size[1] - new_size[1]) // 2))\n",
    "    \n",
    "    # new_image.save(output_path)\n",
    "    return new_image"
   ]
  },
  {
   "cell_type": "code",
   "execution_count": 146,
   "id": "b5274278",
   "metadata": {
    "tags": []
   },
   "outputs": [],
   "source": [
    "def load_images_from_folder(folder, resize_shape=(700, 440)):\n",
    "    images = []\n",
    "    new_images = []\n",
    "    image_names = []\n",
    "    count = 0\n",
    "    for filename in os.listdir(folder):\n",
    "        count += 1\n",
    "        # img = Image.open(os.path.join(folder, filename)).convert('RGB')\n",
    "        img = resize_and_pad(os.path.join(folder, filename), resize_shape)\n",
    "        if img is not None:\n",
    "            img_array = np.array(img)\n",
    "            img_array = img_array.flatten()\n",
    "            attr = labels[labels[\"image_name\"] == filename].drop(\"image_name\", axis = 1).to_numpy()\n",
    "            img_array = np.append(img_array, attr)\n",
    "            images.append(img_array)\n",
    "            \n",
    "        if count % int(len(os.listdir(folder)) / 10) == 0:\n",
    "            print(f\"{count / len(os.listdir(folder))*100}% Complete\")\n",
    "    return images"
   ]
  },
  {
   "cell_type": "code",
   "execution_count": 148,
   "id": "d832ff32-f0b1-42a8-90f2-581ea8d620ad",
   "metadata": {
    "tags": []
   },
   "outputs": [
    {
     "name": "stdout",
     "output_type": "stream",
     "text": [
      "9.765625% Complete\n",
      "19.53125% Complete\n",
      "29.296875% Complete\n",
      "39.0625% Complete\n",
      "48.828125% Complete\n",
      "58.59375% Complete\n",
      "68.359375% Complete\n",
      "78.125% Complete\n",
      "87.890625% Complete\n",
      "97.65625% Complete\n",
      "9.606986899563319% Complete\n",
      "19.213973799126638% Complete\n",
      "28.82096069868996% Complete\n",
      "38.427947598253276% Complete\n",
      "48.03493449781659% Complete\n",
      "57.64192139737992% Complete\n",
      "67.24890829694323% Complete\n",
      "76.85589519650655% Complete\n",
      "86.46288209606988% Complete\n",
      "96.06986899563319% Complete\n",
      "10.0% Complete\n",
      "20.0% Complete\n",
      "30.0% Complete\n",
      "40.0% Complete\n",
      "50.0% Complete\n",
      "60.0% Complete\n",
      "70.0% Complete\n",
      "80.0% Complete\n",
      "90.0% Complete\n",
      "100.0% Complete\n"
     ]
    }
   ],
   "source": [
    "alex_images = load_images_from_folder(alex_images_path)\n",
    "kelly_images = load_images_from_folder(kelly_images_path)\n",
    "test_images = load_images_from_folder(test_images_path)"
   ]
  },
  {
   "cell_type": "code",
   "execution_count": 150,
   "id": "9ef33b14-2122-4f55-afa7-21b8e6f023c6",
   "metadata": {
    "tags": []
   },
   "outputs": [],
   "source": [
    "test_images = np.array(test_images)\n",
    "test_images = test_images / 255.0\n",
    "test_images = test_images.reshape(test_images.shape[0], 700, 440, 3)"
   ]
  },
  {
   "cell_type": "code",
   "execution_count": 152,
   "id": "bc48c90a-8a7a-437a-a249-03df749a67d4",
   "metadata": {
    "tags": []
   },
   "outputs": [
    {
     "data": {
      "text/plain": [
       "array([[0, 0, 0, ..., 0, 0, 0],\n",
       "       [0, 0, 0, ..., 0, 0, 0],\n",
       "       [0, 0, 0, ..., 0, 0, 0],\n",
       "       ...,\n",
       "       [0, 0, 0, ..., 0, 0, 1],\n",
       "       [0, 0, 0, ..., 0, 0, 1],\n",
       "       [0, 0, 0, ..., 0, 0, 1]], dtype=int64)"
      ]
     },
     "execution_count": 152,
     "metadata": {},
     "output_type": "execute_result"
    }
   ],
   "source": [
    "merged_dataset = np.concatenate([alex_images, kelly_images])\n",
    "del(alex_images, kelly_images) # Free up memory\n",
    "merged_dataset"
   ]
  },
  {
   "cell_type": "code",
   "execution_count": 156,
   "id": "41f50a2e-40db-4abe-9105-69ea501220dc",
   "metadata": {
    "tags": []
   },
   "outputs": [
    {
     "data": {
      "text/plain": [
       "{'Human': 924000,\n",
       " 'Castle': 924001,\n",
       " 'Indoors': 924002,\n",
       " 'Landscape': 924003,\n",
       " 'Woman': 924004,\n",
       " 'Daytime': 924005,\n",
       " 'Children': 924006,\n",
       " 'Sunset': 924007,\n",
       " 'Flower': 924008,\n",
       " 'Animal': 924009,\n",
       " 'Building': 924010,\n",
       " 'Mask': 924011,\n",
       " 'Gray-Hair': 924012,\n",
       " 'Fire': 924013,\n",
       " 'Food_drink': 924014,\n",
       " 'Photographer': 924015}"
      ]
     },
     "execution_count": 156,
     "metadata": {},
     "output_type": "execute_result"
    }
   ],
   "source": [
    "num_attributes = labels.shape[1] - 1\n",
    "\n",
    "attribute_index = list(range(924000, 924000+num_attributes))\n",
    "\n",
    "attributes = [col for col in labels.columns if col != \"image_name\"]\n",
    "\n",
    "attr_dict = dict(zip(attributes, attribute_index))\n",
    "attr_dict"
   ]
  },
  {
   "cell_type": "code",
   "execution_count": 160,
   "id": "83f13964-a82b-45b8-8faf-4220361bb108",
   "metadata": {
    "tags": []
   },
   "outputs": [],
   "source": [
    "# np.savetxt(X = merged_dataset, fname = \"Complete_training_data.csv\", delimiter=\",\")"
   ]
  },
  {
   "cell_type": "markdown",
   "id": "e767fd27-0673-4a54-8c4b-fcddb63de96a",
   "metadata": {
    "tags": []
   },
   "source": [
    "## CNN - Human"
   ]
  },
  {
   "cell_type": "code",
   "execution_count": 165,
   "id": "9fe46dc8-5c5d-4501-9cf2-3646ba76673a",
   "metadata": {
    "tags": []
   },
   "outputs": [],
   "source": [
    "X = merged_dataset[:, 0:924000]\n",
    "X = X / 255.0\n",
    "y = merged_dataset[:, attr_dict[\"Human\"]]\n",
    "\n",
    "X_train, X_test, y_train, y_test = train_test_split(X, y)\n",
    "X_train = X_train.reshape(X_train.shape[0],700,440,3)\n",
    "X_test = X_test.reshape(X_test.shape[0],700,440,3)\n",
    "\n",
    "annealer = LearningRateScheduler(lambda x: 1e-3 * 0.95 ** x, verbose=0)\n",
    "styles=[':','-.','--','-',':','-.','--','-',':','-.','--','-']"
   ]
  },
  {
   "cell_type": "code",
   "execution_count": 167,
   "id": "d50cf50e-03eb-46e2-992a-0abf589f96d7",
   "metadata": {
    "tags": []
   },
   "outputs": [
    {
     "name": "stderr",
     "output_type": "stream",
     "text": [
      "C:\\Users\\Bnkes\\anaconda3\\Lib\\site-packages\\keras\\src\\layers\\convolutional\\base_conv.py:107: UserWarning: Do not pass an `input_shape`/`input_dim` argument to a layer. When using Sequential models, prefer using an `Input(shape)` object as the first layer in the model instead.\n",
      "  super().__init__(activity_regularizer=activity_regularizer, **kwargs)\n"
     ]
    }
   ],
   "source": [
    "model = Sequential()\n",
    "model.add(Conv2D(24,kernel_size=5,padding='same',activation='relu',\n",
    "        input_shape=(700,440,3)))\n",
    "model.add(MaxPool2D())\n",
    "model.add(Conv2D(48,kernel_size=5,padding='same',activation='relu'))\n",
    "model.add(MaxPool2D())\n",
    "model.add(Conv2D(64,kernel_size=5,padding='same',activation='relu'))\n",
    "model.add(MaxPool2D(padding='same'))\n",
    "model.add(Flatten())\n",
    "model.add(Dense(256, activation='relu'))\n",
    "model.add(Dense(1, activation='sigmoid'))\n",
    "model.compile(optimizer=\"adam\", loss=\"binary_crossentropy\", metrics=[\"accuracy\"])"
   ]
  },
  {
   "cell_type": "code",
   "execution_count": 169,
   "id": "8757aa8b-0310-44fd-8f5c-da2f20d86c11",
   "metadata": {
    "tags": []
   },
   "outputs": [
    {
     "name": "stdout",
     "output_type": "stream",
     "text": [
      "Epoch 1/20\n",
      "12/12 - 21s - 2s/step - accuracy: 0.5840 - loss: 5.9149 - val_accuracy: 0.8115 - val_loss: 0.5957 - learning_rate: 0.0010\n",
      "Epoch 2/20\n",
      "12/12 - 19s - 2s/step - accuracy: 0.7107 - loss: 0.6304 - val_accuracy: 0.6967 - val_loss: 0.6066 - learning_rate: 9.5000e-04\n",
      "Epoch 3/20\n",
      "12/12 - 19s - 2s/step - accuracy: 0.7273 - loss: 0.5630 - val_accuracy: 0.8033 - val_loss: 0.4560 - learning_rate: 9.0250e-04\n",
      "Epoch 4/20\n",
      "12/12 - 18s - 2s/step - accuracy: 0.7493 - loss: 0.5423 - val_accuracy: 0.7623 - val_loss: 0.5397 - learning_rate: 8.5737e-04\n",
      "Epoch 5/20\n",
      "12/12 - 18s - 2s/step - accuracy: 0.7576 - loss: 0.5179 - val_accuracy: 0.7951 - val_loss: 0.4432 - learning_rate: 8.1451e-04\n",
      "Epoch 6/20\n",
      "12/12 - 18s - 2s/step - accuracy: 0.7631 - loss: 0.4899 - val_accuracy: 0.8115 - val_loss: 0.4601 - learning_rate: 7.7378e-04\n",
      "Epoch 7/20\n",
      "12/12 - 18s - 2s/step - accuracy: 0.7576 - loss: 0.4971 - val_accuracy: 0.8033 - val_loss: 0.5317 - learning_rate: 7.3509e-04\n",
      "Epoch 8/20\n",
      "12/12 - 18s - 2s/step - accuracy: 0.7493 - loss: 0.5131 - val_accuracy: 0.8279 - val_loss: 0.5053 - learning_rate: 6.9834e-04\n",
      "Epoch 9/20\n",
      "12/12 - 18s - 2s/step - accuracy: 0.7879 - loss: 0.4763 - val_accuracy: 0.8115 - val_loss: 0.4815 - learning_rate: 6.6342e-04\n",
      "Epoch 10/20\n",
      "12/12 - 18s - 2s/step - accuracy: 0.7658 - loss: 0.5160 - val_accuracy: 0.7951 - val_loss: 0.4791 - learning_rate: 6.3025e-04\n",
      "Epoch 11/20\n",
      "12/12 - 18s - 2s/step - accuracy: 0.7576 - loss: 0.4852 - val_accuracy: 0.8033 - val_loss: 0.4640 - learning_rate: 5.9874e-04\n",
      "Epoch 12/20\n",
      "12/12 - 18s - 2s/step - accuracy: 0.8017 - loss: 0.4619 - val_accuracy: 0.7869 - val_loss: 0.4595 - learning_rate: 5.6880e-04\n",
      "Epoch 13/20\n",
      "12/12 - 18s - 2s/step - accuracy: 0.7879 - loss: 0.4463 - val_accuracy: 0.8115 - val_loss: 0.4813 - learning_rate: 5.4036e-04\n",
      "Epoch 14/20\n",
      "12/12 - 18s - 2s/step - accuracy: 0.7989 - loss: 0.4262 - val_accuracy: 0.7951 - val_loss: 0.4485 - learning_rate: 5.1334e-04\n",
      "Epoch 15/20\n",
      "12/12 - 18s - 2s/step - accuracy: 0.8072 - loss: 0.4098 - val_accuracy: 0.8197 - val_loss: 0.4683 - learning_rate: 4.8767e-04\n",
      "Epoch 16/20\n",
      "12/12 - 18s - 2s/step - accuracy: 0.8182 - loss: 0.3938 - val_accuracy: 0.7869 - val_loss: 0.4800 - learning_rate: 4.6329e-04\n",
      "Epoch 17/20\n",
      "12/12 - 18s - 2s/step - accuracy: 0.8237 - loss: 0.3767 - val_accuracy: 0.8033 - val_loss: 0.4654 - learning_rate: 4.4013e-04\n",
      "Epoch 18/20\n",
      "12/12 - 18s - 2s/step - accuracy: 0.8457 - loss: 0.3572 - val_accuracy: 0.7869 - val_loss: 0.4981 - learning_rate: 4.1812e-04\n",
      "Epoch 19/20\n",
      "12/12 - 18s - 2s/step - accuracy: 0.8650 - loss: 0.3086 - val_accuracy: 0.8033 - val_loss: 0.4888 - learning_rate: 3.9721e-04\n",
      "Epoch 20/20\n",
      "12/12 - 18s - 2s/step - accuracy: 0.8595 - loss: 0.3026 - val_accuracy: 0.8115 - val_loss: 0.4960 - learning_rate: 3.7735e-04\n"
     ]
    }
   ],
   "source": [
    "epochs = 20\n",
    "history = model.fit(X_train, y_train, batch_size=32, epochs = epochs, \n",
    "validation_data = (X_test, y_test), callbacks=[annealer], verbose=2)"
   ]
  },
  {
   "cell_type": "code",
   "execution_count": 181,
   "id": "bbd03868-34f7-447b-990b-bad1febfaeef",
   "metadata": {
    "tags": []
   },
   "outputs": [],
   "source": [
    "Human_predictions = model.predict(test_images)\n",
    "\n",
    "Human_predictions = (Human_predictions >= .5).astype(int)"
   ]
  },
  {
   "cell_type": "code",
   "execution_count": 183,
   "id": "8aad76ac-f4cc-4cce-bc9f-774d759a94e2",
   "metadata": {
    "tags": []
   },
   "outputs": [
    {
     "data": {
      "image/png": "[encoded data removed]",
      "text/plain": [
       "<Figure size 1500x500 with 1 Axes>"
      ]
     },
     "metadata": {},
     "output_type": "display_data"
    }
   ],
   "source": [
    "plt.figure(figsize=(15,5))\n",
    "plt.plot(history.history['val_accuracy'])\n",
    "plt.title('model accuracy')\n",
    "plt.ylabel('accuracy')\n",
    "plt.xlabel('epoch')\n",
    "axes = plt.gca()\n",
    "axes.set_ylim([0.60,1])\n",
    "plt.show()"
   ]
  },
  {
   "cell_type": "markdown",
   "id": "2ba49ce6-f00e-450f-b71b-46069d3083fb",
   "metadata": {},
   "source": [
    "## CNN - Castle"
   ]
  },
  {
   "cell_type": "code",
   "execution_count": 185,
   "id": "dab4d2c2-0630-4b6b-bb87-02b0e0a5f678",
   "metadata": {
    "tags": []
   },
   "outputs": [],
   "source": [
    "X = merged_dataset[:, 0:924000]\n",
    "X = X / 255.0\n",
    "y = merged_dataset[:, attr_dict[\"Castle\"]]\n",
    "\n",
    "X_train, X_test, y_train, y_test = train_test_split(X, y)\n",
    "X_train = X_train.reshape(X_train.shape[0],700,440,3)\n",
    "X_test = X_test.reshape(X_test.shape[0],700,440,3)\n",
    "\n",
    "annealer = LearningRateScheduler(lambda x: 1e-3 * 0.95 ** x, verbose=0)\n",
    "styles=[':','-.','--','-',':','-.','--','-',':','-.','--','-']"
   ]
  },
  {
   "cell_type": "code",
   "execution_count": 187,
   "id": "316efc60-8977-44e0-b0ff-a9ad4607879e",
   "metadata": {
    "tags": []
   },
   "outputs": [
    {
     "name": "stderr",
     "output_type": "stream",
     "text": [
      "C:\\Users\\Bnkes\\anaconda3\\Lib\\site-packages\\keras\\src\\layers\\convolutional\\base_conv.py:107: UserWarning: Do not pass an `input_shape`/`input_dim` argument to a layer. When using Sequential models, prefer using an `Input(shape)` object as the first layer in the model instead.\n",
      "  super().__init__(activity_regularizer=activity_regularizer, **kwargs)\n"
     ]
    }
   ],
   "source": [
    "model = Sequential()\n",
    "model.add(Conv2D(24,kernel_size=5,padding='same',activation='relu',\n",
    "        input_shape=(700,440,3)))\n",
    "model.add(MaxPool2D())\n",
    "model.add(Conv2D(48,kernel_size=5,padding='same',activation='relu'))\n",
    "model.add(MaxPool2D())\n",
    "model.add(Conv2D(64,kernel_size=5,padding='same',activation='relu'))\n",
    "model.add(MaxPool2D(padding='same'))\n",
    "model.add(Flatten())\n",
    "model.add(Dense(256, activation='relu'))\n",
    "model.add(Dense(1, activation='sigmoid'))\n",
    "model.compile(optimizer=\"adam\", loss=\"binary_crossentropy\", metrics=[\"accuracy\"])"
   ]
  },
  {
   "cell_type": "code",
   "execution_count": 189,
   "id": "c76219bd-4a4a-416d-b5da-dbe8b9820d00",
   "metadata": {
    "tags": []
   },
   "outputs": [
    {
     "name": "stdout",
     "output_type": "stream",
     "text": [
      "Epoch 1/20\n",
      "12/12 - 20s - 2s/step - accuracy: 0.8678 - loss: 3.3102 - val_accuracy: 0.9262 - val_loss: 0.3182 - learning_rate: 0.0010\n",
      "Epoch 2/20\n",
      "12/12 - 18s - 2s/step - accuracy: 0.9256 - loss: 0.3046 - val_accuracy: 0.9262 - val_loss: 0.2988 - learning_rate: 9.5000e-04\n",
      "Epoch 3/20\n",
      "12/12 - 18s - 2s/step - accuracy: 0.9256 - loss: 0.2757 - val_accuracy: 0.9262 - val_loss: 0.2740 - learning_rate: 9.0250e-04\n",
      "Epoch 4/20\n",
      "12/12 - 18s - 2s/step - accuracy: 0.9256 - loss: 0.3073 - val_accuracy: 0.9262 - val_loss: 0.2896 - learning_rate: 8.5737e-04\n",
      "Epoch 5/20\n",
      "12/12 - 18s - 2s/step - accuracy: 0.9256 - loss: 0.2646 - val_accuracy: 0.9262 - val_loss: 0.2772 - learning_rate: 8.1451e-04\n",
      "Epoch 6/20\n",
      "12/12 - 19s - 2s/step - accuracy: 0.9256 - loss: 0.2592 - val_accuracy: 0.9262 - val_loss: 0.2642 - learning_rate: 7.7378e-04\n",
      "Epoch 7/20\n",
      "12/12 - 19s - 2s/step - accuracy: 0.9256 - loss: 0.2465 - val_accuracy: 0.9262 - val_loss: 0.2609 - learning_rate: 7.3509e-04\n",
      "Epoch 8/20\n",
      "12/12 - 18s - 2s/step - accuracy: 0.9256 - loss: 0.2423 - val_accuracy: 0.9262 - val_loss: 0.3103 - learning_rate: 6.9834e-04\n",
      "Epoch 9/20\n",
      "12/12 - 18s - 2s/step - accuracy: 0.9256 - loss: 0.2338 - val_accuracy: 0.9262 - val_loss: 0.2560 - learning_rate: 6.6342e-04\n",
      "Epoch 10/20\n",
      "12/12 - 18s - 2s/step - accuracy: 0.9256 - loss: 0.2312 - val_accuracy: 0.9262 - val_loss: 0.2594 - learning_rate: 6.3025e-04\n",
      "Epoch 11/20\n",
      "12/12 - 18s - 2s/step - accuracy: 0.9256 - loss: 0.2228 - val_accuracy: 0.9262 - val_loss: 0.2517 - learning_rate: 5.9874e-04\n",
      "Epoch 12/20\n",
      "12/12 - 18s - 2s/step - accuracy: 0.9256 - loss: 0.2192 - val_accuracy: 0.9262 - val_loss: 0.2462 - learning_rate: 5.6880e-04\n",
      "Epoch 13/20\n",
      "12/12 - 18s - 2s/step - accuracy: 0.9256 - loss: 0.2066 - val_accuracy: 0.9262 - val_loss: 0.2538 - learning_rate: 5.4036e-04\n",
      "Epoch 14/20\n",
      "12/12 - 18s - 2s/step - accuracy: 0.9256 - loss: 0.2082 - val_accuracy: 0.9262 - val_loss: 0.2498 - learning_rate: 5.1334e-04\n",
      "Epoch 15/20\n",
      "12/12 - 18s - 2s/step - accuracy: 0.9311 - loss: 0.2051 - val_accuracy: 0.9262 - val_loss: 0.2279 - learning_rate: 4.8767e-04\n",
      "Epoch 16/20\n",
      "12/12 - 18s - 2s/step - accuracy: 0.9284 - loss: 0.1968 - val_accuracy: 0.9344 - val_loss: 0.2200 - learning_rate: 4.6329e-04\n",
      "Epoch 17/20\n",
      "12/12 - 18s - 2s/step - accuracy: 0.9339 - loss: 0.1893 - val_accuracy: 0.9344 - val_loss: 0.2237 - learning_rate: 4.4013e-04\n",
      "Epoch 18/20\n",
      "12/12 - 18s - 2s/step - accuracy: 0.9311 - loss: 0.1859 - val_accuracy: 0.9344 - val_loss: 0.2176 - learning_rate: 4.1812e-04\n",
      "Epoch 19/20\n",
      "12/12 - 18s - 2s/step - accuracy: 0.9421 - loss: 0.1772 - val_accuracy: 0.9344 - val_loss: 0.2153 - learning_rate: 3.9721e-04\n",
      "Epoch 20/20\n",
      "12/12 - 18s - 2s/step - accuracy: 0.9394 - loss: 0.1712 - val_accuracy: 0.9262 - val_loss: 0.3131 - learning_rate: 3.7735e-04\n"
     ]
    }
   ],
   "source": [
    "epochs = 20\n",
    "history = model.fit(X_train, y_train, batch_size=32, epochs = epochs, \n",
    "validation_data = (X_test, y_test), callbacks=[annealer], verbose=2)"
   ]
  },
  {
   "cell_type": "code",
   "execution_count": 191,
   "id": "00205878-6226-4a18-9922-085eec659e6f",
   "metadata": {
    "tags": []
   },
   "outputs": [
    {
     "name": "stdout",
     "output_type": "stream",
     "text": [
      "\u001b[1m1/1\u001b[0m \u001b[32m━━━━━━━━━━━━━━━━━━━━\u001b[0m\u001b[37m\u001b[0m \u001b[1m0s\u001b[0m 271ms/step\n"
     ]
    }
   ],
   "source": [
    "Castle_predictions = model.predict(test_images)\n",
    "\n",
    "Castle_predictions = (Castle_predictions >= .5).astype(int)"
   ]
  },
  {
   "cell_type": "code",
   "execution_count": 195,
   "id": "075c5013-db3e-4a83-a85f-ab3e064bef91",
   "metadata": {
    "tags": []
   },
   "outputs": [
    {
     "data": {
      "image/png": "[encoded data removed]",
      "text/plain": [
       "<Figure size 1500x500 with 1 Axes>"
      ]
     },
     "metadata": {},
     "output_type": "display_data"
    }
   ],
   "source": [
    "plt.figure(figsize=(15,5))\n",
    "plt.plot(history.history['val_accuracy'])\n",
    "plt.title('model accuracy')\n",
    "plt.ylabel('accuracy')\n",
    "plt.xlabel('epoch')\n",
    "axes = plt.gca()\n",
    "axes.set_ylim([0.85,1])\n",
    "plt.show()"
   ]
  },
  {
   "cell_type": "markdown",
   "id": "14731ddb-50a8-437e-9c3c-ae593e2f35be",
   "metadata": {
    "tags": []
   },
   "source": [
    "## CNN - Indoors"
   ]
  },
  {
   "cell_type": "code",
   "execution_count": 199,
   "id": "27c9ac8e-7b4a-4559-9668-446e7b19943d",
   "metadata": {
    "tags": []
   },
   "outputs": [],
   "source": [
    "X = merged_dataset[:, 0:924000]\n",
    "X = X / 255.0\n",
    "y = merged_dataset[:, attr_dict[\"Indoors\"]]\n",
    "\n",
    "X_train, X_test, y_train, y_test = train_test_split(X, y)\n",
    "X_train = X_train.reshape(X_train.shape[0],700,440,3)\n",
    "X_test = X_test.reshape(X_test.shape[0],700,440,3)\n",
    "\n",
    "annealer = LearningRateScheduler(lambda x: 1e-3 * 0.95 ** x, verbose=0)\n",
    "styles=[':','-.','--','-',':','-.','--','-',':','-.','--','-']"
   ]
  },
  {
   "cell_type": "code",
   "execution_count": 200,
   "id": "37023656-3e31-4088-8a51-8c031fe080c3",
   "metadata": {
    "tags": []
   },
   "outputs": [
    {
     "name": "stderr",
     "output_type": "stream",
     "text": [
      "C:\\Users\\Bnkes\\anaconda3\\Lib\\site-packages\\keras\\src\\layers\\convolutional\\base_conv.py:107: UserWarning: Do not pass an `input_shape`/`input_dim` argument to a layer. When using Sequential models, prefer using an `Input(shape)` object as the first layer in the model instead.\n",
      "  super().__init__(activity_regularizer=activity_regularizer, **kwargs)\n"
     ]
    }
   ],
   "source": [
    "model = Sequential()\n",
    "model.add(Conv2D(24,kernel_size=5,padding='same',activation='relu',\n",
    "        input_shape=(700,440,3)))\n",
    "model.add(MaxPool2D())\n",
    "model.add(Conv2D(48,kernel_size=5,padding='same',activation='relu'))\n",
    "model.add(MaxPool2D())\n",
    "model.add(Conv2D(64,kernel_size=5,padding='same',activation='relu'))\n",
    "model.add(MaxPool2D(padding='same'))\n",
    "model.add(Flatten())\n",
    "model.add(Dense(256, activation='relu'))\n",
    "model.add(Dense(1, activation='sigmoid'))\n",
    "model.compile(optimizer=\"adam\", loss=\"binary_crossentropy\", metrics=[\"accuracy\"])"
   ]
  },
  {
   "cell_type": "code",
   "execution_count": 203,
   "id": "787c2149-2d73-4a88-a58a-69a9028545c9",
   "metadata": {
    "tags": []
   },
   "outputs": [
    {
     "name": "stdout",
     "output_type": "stream",
     "text": [
      "Epoch 1/20\n",
      "12/12 - 21s - 2s/step - accuracy: 0.6915 - loss: 3.5785 - val_accuracy: 0.8115 - val_loss: 0.3659 - learning_rate: 0.0010\n",
      "Epoch 2/20\n",
      "12/12 - 18s - 2s/step - accuracy: 0.7851 - loss: 0.4574 - val_accuracy: 0.8607 - val_loss: 0.3341 - learning_rate: 9.5000e-04\n",
      "Epoch 3/20\n",
      "12/12 - 18s - 2s/step - accuracy: 0.8237 - loss: 0.3806 - val_accuracy: 0.8361 - val_loss: 0.3264 - learning_rate: 9.0250e-04\n",
      "Epoch 4/20\n",
      "12/12 - 18s - 2s/step - accuracy: 0.8320 - loss: 0.3460 - val_accuracy: 0.8934 - val_loss: 0.2705 - learning_rate: 8.5737e-04\n",
      "Epoch 5/20\n",
      "12/12 - 18s - 2s/step - accuracy: 0.8512 - loss: 0.3260 - val_accuracy: 0.8852 - val_loss: 0.3095 - learning_rate: 8.1451e-04\n",
      "Epoch 6/20\n",
      "12/12 - 18s - 2s/step - accuracy: 0.8623 - loss: 0.3231 - val_accuracy: 0.8770 - val_loss: 0.2511 - learning_rate: 7.7378e-04\n",
      "Epoch 7/20\n",
      "12/12 - 18s - 2s/step - accuracy: 0.8375 - loss: 0.3564 - val_accuracy: 0.8770 - val_loss: 0.2734 - learning_rate: 7.3509e-04\n",
      "Epoch 8/20\n",
      "12/12 - 18s - 2s/step - accuracy: 0.8705 - loss: 0.3208 - val_accuracy: 0.8770 - val_loss: 0.2460 - learning_rate: 6.9834e-04\n",
      "Epoch 9/20\n",
      "12/12 - 18s - 2s/step - accuracy: 0.8843 - loss: 0.2960 - val_accuracy: 0.8279 - val_loss: 0.3194 - learning_rate: 6.6342e-04\n",
      "Epoch 10/20\n",
      "12/12 - 18s - 2s/step - accuracy: 0.8209 - loss: 0.3256 - val_accuracy: 0.8607 - val_loss: 0.2564 - learning_rate: 6.3025e-04\n",
      "Epoch 11/20\n",
      "12/12 - 18s - 2s/step - accuracy: 0.8760 - loss: 0.3086 - val_accuracy: 0.8852 - val_loss: 0.2429 - learning_rate: 5.9874e-04\n",
      "Epoch 12/20\n",
      "12/12 - 18s - 2s/step - accuracy: 0.8815 - loss: 0.2678 - val_accuracy: 0.7623 - val_loss: 0.4002 - learning_rate: 5.6880e-04\n",
      "Epoch 13/20\n",
      "12/12 - 18s - 2s/step - accuracy: 0.8485 - loss: 0.3103 - val_accuracy: 0.8770 - val_loss: 0.2493 - learning_rate: 5.4036e-04\n",
      "Epoch 14/20\n",
      "12/12 - 18s - 2s/step - accuracy: 0.8871 - loss: 0.2949 - val_accuracy: 0.8689 - val_loss: 0.2499 - learning_rate: 5.1334e-04\n",
      "Epoch 15/20\n",
      "12/12 - 18s - 2s/step - accuracy: 0.8981 - loss: 0.2458 - val_accuracy: 0.8852 - val_loss: 0.2486 - learning_rate: 4.8767e-04\n",
      "Epoch 16/20\n",
      "12/12 - 19s - 2s/step - accuracy: 0.8926 - loss: 0.2418 - val_accuracy: 0.8689 - val_loss: 0.2571 - learning_rate: 4.6329e-04\n",
      "Epoch 17/20\n",
      "12/12 - 18s - 2s/step - accuracy: 0.9174 - loss: 0.2328 - val_accuracy: 0.9016 - val_loss: 0.2249 - learning_rate: 4.4013e-04\n",
      "Epoch 18/20\n",
      "12/12 - 18s - 2s/step - accuracy: 0.9366 - loss: 0.1944 - val_accuracy: 0.8770 - val_loss: 0.2528 - learning_rate: 4.1812e-04\n",
      "Epoch 19/20\n",
      "12/12 - 18s - 2s/step - accuracy: 0.9421 - loss: 0.1746 - val_accuracy: 0.8770 - val_loss: 0.2734 - learning_rate: 3.9721e-04\n",
      "Epoch 20/20\n",
      "12/12 - 18s - 2s/step - accuracy: 0.9559 - loss: 0.1545 - val_accuracy: 0.8934 - val_loss: 0.2462 - learning_rate: 3.7735e-04\n"
     ]
    }
   ],
   "source": [
    "epochs = 20\n",
    "history = model.fit(X_train, y_train, batch_size=32, epochs = epochs, \n",
    "validation_data = (X_test, y_test), callbacks=[annealer], verbose=2)"
   ]
  },
  {
   "cell_type": "code",
   "execution_count": 205,
   "id": "3c2f1148-d491-412e-9fb2-05ee499d63d7",
   "metadata": {
    "tags": []
   },
   "outputs": [
    {
     "name": "stdout",
     "output_type": "stream",
     "text": [
      "\u001b[1m1/1\u001b[0m \u001b[32m━━━━━━━━━━━━━━━━━━━━\u001b[0m\u001b[37m\u001b[0m \u001b[1m0s\u001b[0m 283ms/step\n"
     ]
    }
   ],
   "source": [
    "Indoor_predictions = model.predict(test_images)\n",
    "\n",
    "Indoor_predictions = (Indoor_predictions >= .5).astype(int)"
   ]
  },
  {
   "cell_type": "code",
   "execution_count": 209,
   "id": "5a170d69-0e01-4000-b6a0-a00ff4bf932b",
   "metadata": {
    "tags": []
   },
   "outputs": [
    {
     "data": {
      "image/png": "[encoded data removed]",
      "text/plain": [
       "<Figure size 1500x500 with 1 Axes>"
      ]
     },
     "metadata": {},
     "output_type": "display_data"
    }
   ],
   "source": [
    "plt.figure(figsize=(15,5))\n",
    "plt.plot(history.history['val_accuracy'])\n",
    "plt.title('model accuracy')\n",
    "plt.ylabel('accuracy')\n",
    "plt.xlabel('epoch')\n",
    "axes = plt.gca()\n",
    "axes.set_ylim([0.65,1])\n",
    "plt.show()"
   ]
  },
  {
   "cell_type": "markdown",
   "id": "b22e5449-4183-44de-a329-d341e41bd167",
   "metadata": {
    "tags": []
   },
   "source": [
    "## CNN - Landscape"
   ]
  },
  {
   "cell_type": "code",
   "execution_count": 211,
   "id": "bfced776-cdf3-45c8-abb5-669708654599",
   "metadata": {
    "tags": []
   },
   "outputs": [],
   "source": [
    "X = merged_dataset[:, 0:924000]\n",
    "X = X / 255.0\n",
    "y = merged_dataset[:, attr_dict[\"Landscape\"]]\n",
    "\n",
    "X_train, X_test, y_train, y_test = train_test_split(X, y)\n",
    "X_train = X_train.reshape(X_train.shape[0],700,440,3)\n",
    "X_test = X_test.reshape(X_test.shape[0],700,440,3)\n",
    "\n",
    "annealer = LearningRateScheduler(lambda x: 1e-3 * 0.95 ** x, verbose=0)\n",
    "styles=[':','-.','--','-',':','-.','--','-',':','-.','--','-']"
   ]
  },
  {
   "cell_type": "code",
   "execution_count": 227,
   "id": "14d0dcbd-7a17-4c3e-8a21-2d657bfbfa59",
   "metadata": {
    "tags": []
   },
   "outputs": [
    {
     "name": "stderr",
     "output_type": "stream",
     "text": [
      "C:\\Users\\Bnkes\\anaconda3\\Lib\\site-packages\\keras\\src\\layers\\convolutional\\base_conv.py:107: UserWarning: Do not pass an `input_shape`/`input_dim` argument to a layer. When using Sequential models, prefer using an `Input(shape)` object as the first layer in the model instead.\n",
      "  super().__init__(activity_regularizer=activity_regularizer, **kwargs)\n"
     ]
    }
   ],
   "source": [
    "model = Sequential()\n",
    "model.add(Conv2D(24,kernel_size=5,padding='same',activation='relu',\n",
    "        input_shape=(700,440,3)))\n",
    "model.add(MaxPool2D())\n",
    "model.add(Conv2D(48,kernel_size=5,padding='same',activation='relu'))\n",
    "model.add(MaxPool2D())\n",
    "model.add(Conv2D(64,kernel_size=5,padding='same',activation='relu'))\n",
    "model.add(MaxPool2D(padding='same'))\n",
    "model.add(Flatten())\n",
    "model.add(Dense(256, activation='relu'))\n",
    "model.add(Dense(4, activation='softmax'))\n",
    "model.compile(optimizer=\"adam\", loss=\"sparse_categorical_crossentropy\", metrics=[\"accuracy\"])"
   ]
  },
  {
   "cell_type": "code",
   "execution_count": 229,
   "id": "a954b168-3bd4-4e08-b979-9f60be54d3b2",
   "metadata": {
    "tags": []
   },
   "outputs": [
    {
     "name": "stdout",
     "output_type": "stream",
     "text": [
      "Epoch 1/20\n",
      "12/12 - 21s - 2s/step - accuracy: 0.3829 - loss: 6.9921 - val_accuracy: 0.4508 - val_loss: 1.1119 - learning_rate: 0.0010\n",
      "Epoch 2/20\n",
      "12/12 - 18s - 2s/step - accuracy: 0.5234 - loss: 1.0690 - val_accuracy: 0.4426 - val_loss: 1.2112 - learning_rate: 9.5000e-04\n",
      "Epoch 3/20\n",
      "12/12 - 18s - 2s/step - accuracy: 0.5620 - loss: 1.0591 - val_accuracy: 0.4590 - val_loss: 1.1127 - learning_rate: 9.0250e-04\n",
      "Epoch 4/20\n",
      "12/12 - 18s - 2s/step - accuracy: 0.5675 - loss: 0.9898 - val_accuracy: 0.4672 - val_loss: 1.1057 - learning_rate: 8.5737e-04\n",
      "Epoch 5/20\n",
      "12/12 - 18s - 2s/step - accuracy: 0.5510 - loss: 0.9446 - val_accuracy: 0.4836 - val_loss: 1.0977 - learning_rate: 8.1451e-04\n",
      "Epoch 6/20\n",
      "12/12 - 18s - 2s/step - accuracy: 0.5895 - loss: 0.9450 - val_accuracy: 0.5164 - val_loss: 1.0619 - learning_rate: 7.7378e-04\n",
      "Epoch 7/20\n",
      "12/12 - 18s - 2s/step - accuracy: 0.5868 - loss: 0.9428 - val_accuracy: 0.4836 - val_loss: 1.0887 - learning_rate: 7.3509e-04\n",
      "Epoch 8/20\n",
      "12/12 - 18s - 2s/step - accuracy: 0.6171 - loss: 0.8905 - val_accuracy: 0.4344 - val_loss: 1.1699 - learning_rate: 6.9834e-04\n",
      "Epoch 9/20\n",
      "12/12 - 18s - 2s/step - accuracy: 0.6226 - loss: 0.8447 - val_accuracy: 0.3361 - val_loss: 1.4169 - learning_rate: 6.6342e-04\n",
      "Epoch 10/20\n",
      "12/12 - 18s - 2s/step - accuracy: 0.6419 - loss: 0.8047 - val_accuracy: 0.3852 - val_loss: 1.5796 - learning_rate: 6.3025e-04\n",
      "Epoch 11/20\n",
      "12/12 - 18s - 2s/step - accuracy: 0.6749 - loss: 0.7402 - val_accuracy: 0.4590 - val_loss: 1.2798 - learning_rate: 5.9874e-04\n",
      "Epoch 12/20\n",
      "12/12 - 18s - 2s/step - accuracy: 0.7355 - loss: 0.6061 - val_accuracy: 0.4508 - val_loss: 1.4134 - learning_rate: 5.6880e-04\n",
      "Epoch 13/20\n",
      "12/12 - 18s - 2s/step - accuracy: 0.7769 - loss: 0.5277 - val_accuracy: 0.4508 - val_loss: 1.6423 - learning_rate: 5.4036e-04\n",
      "Epoch 14/20\n",
      "12/12 - 18s - 2s/step - accuracy: 0.8320 - loss: 0.4684 - val_accuracy: 0.4016 - val_loss: 1.6093 - learning_rate: 5.1334e-04\n",
      "Epoch 15/20\n",
      "12/12 - 18s - 2s/step - accuracy: 0.8678 - loss: 0.3750 - val_accuracy: 0.4098 - val_loss: 2.4196 - learning_rate: 4.8767e-04\n",
      "Epoch 16/20\n",
      "12/12 - 19s - 2s/step - accuracy: 0.9008 - loss: 0.3216 - val_accuracy: 0.4180 - val_loss: 1.7883 - learning_rate: 4.6329e-04\n",
      "Epoch 17/20\n",
      "12/12 - 18s - 2s/step - accuracy: 0.9118 - loss: 0.2401 - val_accuracy: 0.4672 - val_loss: 1.7348 - learning_rate: 4.4013e-04\n",
      "Epoch 18/20\n",
      "12/12 - 18s - 2s/step - accuracy: 0.9421 - loss: 0.1817 - val_accuracy: 0.3934 - val_loss: 2.3172 - learning_rate: 4.1812e-04\n",
      "Epoch 19/20\n",
      "12/12 - 18s - 2s/step - accuracy: 0.9559 - loss: 0.1338 - val_accuracy: 0.4508 - val_loss: 2.2717 - learning_rate: 3.9721e-04\n",
      "Epoch 20/20\n",
      "12/12 - 19s - 2s/step - accuracy: 0.9752 - loss: 0.1010 - val_accuracy: 0.4426 - val_loss: 2.3200 - learning_rate: 3.7735e-04\n"
     ]
    }
   ],
   "source": [
    "epochs = 20\n",
    "history = model.fit(X_train, y_train, batch_size=32, epochs = epochs, \n",
    "validation_data = (X_test, y_test), callbacks=[annealer], verbose=2)"
   ]
  },
  {
   "cell_type": "code",
   "execution_count": 243,
   "id": "af4913e7-ef8c-4dfd-8361-3d8df49f0f7a",
   "metadata": {
    "tags": []
   },
   "outputs": [
    {
     "name": "stdout",
     "output_type": "stream",
     "text": [
      "\u001b[1m1/1\u001b[0m \u001b[32m━━━━━━━━━━━━━━━━━━━━\u001b[0m\u001b[37m\u001b[0m \u001b[1m0s\u001b[0m 234ms/step\n"
     ]
    }
   ],
   "source": [
    "Landscape_predictions = model.predict(test_images)\n",
    "\n",
    "Landscape_predictions = np.argmax(Landscape_predictions, axis = 1)"
   ]
  },
  {
   "cell_type": "code",
   "execution_count": 247,
   "id": "25d97d3d-aab0-487c-aef2-b24f91a8ff1c",
   "metadata": {
    "tags": []
   },
   "outputs": [
    {
     "data": {
      "image/png": "[encoded data removed]",
      "text/plain": [
       "<Figure size 1500x500 with 1 Axes>"
      ]
     },
     "metadata": {},
     "output_type": "display_data"
    }
   ],
   "source": [
    "plt.figure(figsize=(15,5))\n",
    "plt.plot(history.history['val_accuracy'])\n",
    "plt.title('model accuracy')\n",
    "plt.ylabel('accuracy')\n",
    "plt.xlabel('epoch')\n",
    "axes = plt.gca()\n",
    "axes.set_ylim([0.30, 1])\n",
    "plt.show()"
   ]
  },
  {
   "cell_type": "markdown",
   "id": "35aafce8-14e9-48a5-be34-b0bc228d6b26",
   "metadata": {},
   "source": [
    "## CNN - Woman"
   ]
  },
  {
   "cell_type": "code",
   "execution_count": 249,
   "id": "46a83aa7-1b23-468b-acc8-3910123f9373",
   "metadata": {
    "tags": []
   },
   "outputs": [],
   "source": [
    "X = merged_dataset[:, 0:924000]\n",
    "X = X / 255.0\n",
    "y = merged_dataset[:, attr_dict[\"Woman\"]]\n",
    "\n",
    "X_train, X_test, y_train, y_test = train_test_split(X, y)\n",
    "X_train = X_train.reshape(X_train.shape[0],700,440,3)\n",
    "X_test = X_test.reshape(X_test.shape[0],700,440,3)\n",
    "\n",
    "annealer = LearningRateScheduler(lambda x: 1e-3 * 0.95 ** x, verbose=0)\n",
    "styles=[':','-.','--','-',':','-.','--','-',':','-.','--','-']"
   ]
  },
  {
   "cell_type": "code",
   "execution_count": 251,
   "id": "2c0c938e-60de-4cf1-b87e-da79074241dc",
   "metadata": {
    "tags": []
   },
   "outputs": [
    {
     "name": "stderr",
     "output_type": "stream",
     "text": [
      "C:\\Users\\Bnkes\\anaconda3\\Lib\\site-packages\\keras\\src\\layers\\convolutional\\base_conv.py:107: UserWarning: Do not pass an `input_shape`/`input_dim` argument to a layer. When using Sequential models, prefer using an `Input(shape)` object as the first layer in the model instead.\n",
      "  super().__init__(activity_regularizer=activity_regularizer, **kwargs)\n"
     ]
    }
   ],
   "source": [
    "model = Sequential()\n",
    "model.add(Conv2D(24,kernel_size=5,padding='same',activation='relu',\n",
    "        input_shape=(700,440,3)))\n",
    "model.add(MaxPool2D())\n",
    "model.add(Conv2D(48,kernel_size=5,padding='same',activation='relu'))\n",
    "model.add(MaxPool2D())\n",
    "model.add(Conv2D(64,kernel_size=5,padding='same',activation='relu'))\n",
    "model.add(MaxPool2D(padding='same'))\n",
    "model.add(Flatten())\n",
    "model.add(Dense(256, activation='relu'))\n",
    "model.add(Dense(1, activation='sigmoid'))\n",
    "model.compile(optimizer=\"adam\", loss=\"binary_crossentropy\", metrics=[\"accuracy\"])"
   ]
  },
  {
   "cell_type": "code",
   "execution_count": 253,
   "id": "57cf95b8-bce9-47aa-aa04-94ce854e90a8",
   "metadata": {
    "tags": []
   },
   "outputs": [
    {
     "name": "stdout",
     "output_type": "stream",
     "text": [
      "Epoch 1/20\n",
      "12/12 - 21s - 2s/step - accuracy: 0.7989 - loss: 1.4881 - val_accuracy: 0.8852 - val_loss: 0.3451 - learning_rate: 0.0010\n",
      "Epoch 2/20\n",
      "12/12 - 19s - 2s/step - accuracy: 0.8705 - loss: 0.4050 - val_accuracy: 0.8852 - val_loss: 0.3727 - learning_rate: 9.5000e-04\n",
      "Epoch 3/20\n",
      "12/12 - 18s - 2s/step - accuracy: 0.8705 - loss: 0.3683 - val_accuracy: 0.8852 - val_loss: 0.3828 - learning_rate: 9.0250e-04\n",
      "Epoch 4/20\n",
      "12/12 - 18s - 2s/step - accuracy: 0.8705 - loss: 0.3670 - val_accuracy: 0.8852 - val_loss: 0.4093 - learning_rate: 8.5737e-04\n",
      "Epoch 5/20\n",
      "12/12 - 18s - 2s/step - accuracy: 0.8705 - loss: 0.3634 - val_accuracy: 0.8852 - val_loss: 0.3797 - learning_rate: 8.1451e-04\n",
      "Epoch 6/20\n",
      "12/12 - 18s - 2s/step - accuracy: 0.8705 - loss: 0.3511 - val_accuracy: 0.8852 - val_loss: 0.3702 - learning_rate: 7.7378e-04\n",
      "Epoch 7/20\n",
      "12/12 - 18s - 2s/step - accuracy: 0.8705 - loss: 0.3434 - val_accuracy: 0.8852 - val_loss: 0.3805 - learning_rate: 7.3509e-04\n",
      "Epoch 8/20\n",
      "12/12 - 19s - 2s/step - accuracy: 0.8705 - loss: 0.3351 - val_accuracy: 0.8852 - val_loss: 0.3673 - learning_rate: 6.9834e-04\n",
      "Epoch 9/20\n",
      "12/12 - 19s - 2s/step - accuracy: 0.8705 - loss: 0.3238 - val_accuracy: 0.8852 - val_loss: 0.3566 - learning_rate: 6.6342e-04\n",
      "Epoch 10/20\n",
      "12/12 - 18s - 2s/step - accuracy: 0.8705 - loss: 0.3264 - val_accuracy: 0.8852 - val_loss: 0.3739 - learning_rate: 6.3025e-04\n",
      "Epoch 11/20\n",
      "12/12 - 18s - 2s/step - accuracy: 0.8705 - loss: 0.3105 - val_accuracy: 0.8852 - val_loss: 0.3728 - learning_rate: 5.9874e-04\n",
      "Epoch 12/20\n",
      "12/12 - 18s - 2s/step - accuracy: 0.8705 - loss: 0.3158 - val_accuracy: 0.8852 - val_loss: 0.3483 - learning_rate: 5.6880e-04\n",
      "Epoch 13/20\n",
      "12/12 - 18s - 2s/step - accuracy: 0.8705 - loss: 0.3036 - val_accuracy: 0.8852 - val_loss: 0.3500 - learning_rate: 5.4036e-04\n",
      "Epoch 14/20\n",
      "12/12 - 18s - 2s/step - accuracy: 0.8705 - loss: 0.2983 - val_accuracy: 0.8852 - val_loss: 0.4118 - learning_rate: 5.1334e-04\n",
      "Epoch 15/20\n",
      "12/12 - 18s - 2s/step - accuracy: 0.8898 - loss: 0.3198 - val_accuracy: 0.8934 - val_loss: 0.3245 - learning_rate: 4.8767e-04\n",
      "Epoch 16/20\n",
      "12/12 - 18s - 2s/step - accuracy: 0.8898 - loss: 0.2911 - val_accuracy: 0.8934 - val_loss: 0.3532 - learning_rate: 4.6329e-04\n",
      "Epoch 17/20\n",
      "12/12 - 18s - 2s/step - accuracy: 0.9118 - loss: 0.2704 - val_accuracy: 0.8279 - val_loss: 0.3431 - learning_rate: 4.4013e-04\n",
      "Epoch 18/20\n",
      "12/12 - 18s - 2s/step - accuracy: 0.8926 - loss: 0.2633 - val_accuracy: 0.8525 - val_loss: 0.3532 - learning_rate: 4.1812e-04\n",
      "Epoch 19/20\n",
      "12/12 - 18s - 2s/step - accuracy: 0.9091 - loss: 0.2360 - val_accuracy: 0.9016 - val_loss: 0.3192 - learning_rate: 3.9721e-04\n",
      "Epoch 20/20\n",
      "12/12 - 18s - 2s/step - accuracy: 0.9146 - loss: 0.2019 - val_accuracy: 0.8852 - val_loss: 0.3265 - learning_rate: 3.7735e-04\n"
     ]
    }
   ],
   "source": [
    "epochs = 20\n",
    "history = model.fit(X_train, y_train, batch_size=32, epochs = epochs, \n",
    "validation_data = (X_test, y_test), callbacks=[annealer], verbose=2)"
   ]
  },
  {
   "cell_type": "code",
   "execution_count": 257,
   "id": "509bba5c-6a69-4da9-8f8d-520a172b0de8",
   "metadata": {
    "tags": []
   },
   "outputs": [
    {
     "name": "stdout",
     "output_type": "stream",
     "text": [
      "\u001b[1m1/1\u001b[0m \u001b[32m━━━━━━━━━━━━━━━━━━━━\u001b[0m\u001b[37m\u001b[0m \u001b[1m0s\u001b[0m 241ms/step\n"
     ]
    }
   ],
   "source": [
    "Woman_predictions = model.predict(test_images)\n",
    "\n",
    "Woman_predictions = (Woman_predictions >= .5).astype(int)"
   ]
  },
  {
   "cell_type": "code",
   "execution_count": 261,
   "id": "29f12bab-397e-40ae-a6fe-bc2c5553801d",
   "metadata": {
    "tags": []
   },
   "outputs": [
    {
     "data": {
      "image/png": "[encoded data removed]",
      "text/plain": [
       "<Figure size 1500x500 with 1 Axes>"
      ]
     },
     "metadata": {},
     "output_type": "display_data"
    }
   ],
   "source": [
    "plt.figure(figsize=(15,5))\n",
    "plt.plot(history.history['val_accuracy'])\n",
    "plt.title('model accuracy')\n",
    "plt.ylabel('accuracy')\n",
    "plt.xlabel('epoch')\n",
    "axes = plt.gca()\n",
    "axes.set_ylim([0.70, 1])\n",
    "plt.show()"
   ]
  },
  {
   "cell_type": "markdown",
   "id": "26437e94-038e-4f60-91b0-d75fc5ad52de",
   "metadata": {
    "tags": []
   },
   "source": [
    "## CNN - Daytime"
   ]
  },
  {
   "cell_type": "code",
   "execution_count": 263,
   "id": "63f9ce2b-004c-4941-8c6b-f2d9d89e8493",
   "metadata": {
    "tags": []
   },
   "outputs": [],
   "source": [
    "X = merged_dataset[:, 0:924000]\n",
    "X = X / 255.0\n",
    "y = merged_dataset[:, attr_dict[\"Daytime\"]]\n",
    "\n",
    "X_train, X_test, y_train, y_test = train_test_split(X, y)\n",
    "X_train = X_train.reshape(X_train.shape[0],700,440,3)\n",
    "X_test = X_test.reshape(X_test.shape[0],700,440,3)\n",
    "\n",
    "annealer = LearningRateScheduler(lambda x: 1e-3 * 0.95 ** x, verbose=0)\n",
    "styles=[':','-.','--','-',':','-.','--','-',':','-.','--','-']"
   ]
  },
  {
   "cell_type": "code",
   "execution_count": 265,
   "id": "ca2dbfcc-aa25-4493-a4cb-2f34fee16fa8",
   "metadata": {
    "tags": []
   },
   "outputs": [
    {
     "name": "stderr",
     "output_type": "stream",
     "text": [
      "C:\\Users\\Bnkes\\anaconda3\\Lib\\site-packages\\keras\\src\\layers\\convolutional\\base_conv.py:107: UserWarning: Do not pass an `input_shape`/`input_dim` argument to a layer. When using Sequential models, prefer using an `Input(shape)` object as the first layer in the model instead.\n",
      "  super().__init__(activity_regularizer=activity_regularizer, **kwargs)\n"
     ]
    }
   ],
   "source": [
    "model = Sequential()\n",
    "model.add(Conv2D(24,kernel_size=5,padding='same',activation='relu',\n",
    "        input_shape=(700,440,3)))\n",
    "model.add(MaxPool2D())\n",
    "model.add(Conv2D(48,kernel_size=5,padding='same',activation='relu'))\n",
    "model.add(MaxPool2D())\n",
    "model.add(Conv2D(64,kernel_size=5,padding='same',activation='relu'))\n",
    "model.add(MaxPool2D(padding='same'))\n",
    "model.add(Flatten())\n",
    "model.add(Dense(256, activation='relu'))\n",
    "model.add(Dense(1, activation='sigmoid'))\n",
    "model.compile(optimizer=\"adam\", loss=\"binary_crossentropy\", metrics=[\"accuracy\"])"
   ]
  },
  {
   "cell_type": "code",
   "execution_count": 267,
   "id": "440698b3-a8b4-4118-9a27-fd639f5eeead",
   "metadata": {
    "tags": []
   },
   "outputs": [
    {
     "name": "stdout",
     "output_type": "stream",
     "text": [
      "Epoch 1/20\n",
      "12/12 - 20s - 2s/step - accuracy: 0.6639 - loss: 1.9117 - val_accuracy: 0.7623 - val_loss: 0.5056 - learning_rate: 0.0010\n",
      "Epoch 2/20\n",
      "12/12 - 18s - 2s/step - accuracy: 0.8017 - loss: 0.4793 - val_accuracy: 0.7623 - val_loss: 0.5177 - learning_rate: 9.5000e-04\n",
      "Epoch 3/20\n",
      "12/12 - 18s - 2s/step - accuracy: 0.8017 - loss: 0.4723 - val_accuracy: 0.7623 - val_loss: 0.5692 - learning_rate: 9.0250e-04\n",
      "Epoch 4/20\n",
      "12/12 - 18s - 2s/step - accuracy: 0.8017 - loss: 0.4744 - val_accuracy: 0.7623 - val_loss: 0.4700 - learning_rate: 8.5737e-04\n",
      "Epoch 5/20\n",
      "12/12 - 18s - 2s/step - accuracy: 0.8017 - loss: 0.4420 - val_accuracy: 0.7623 - val_loss: 0.4470 - learning_rate: 8.1451e-04\n",
      "Epoch 6/20\n",
      "12/12 - 18s - 2s/step - accuracy: 0.8127 - loss: 0.4480 - val_accuracy: 0.7869 - val_loss: 0.4452 - learning_rate: 7.7378e-04\n",
      "Epoch 7/20\n",
      "12/12 - 18s - 2s/step - accuracy: 0.8099 - loss: 0.4375 - val_accuracy: 0.7705 - val_loss: 0.4674 - learning_rate: 7.3509e-04\n",
      "Epoch 8/20\n",
      "12/12 - 18s - 2s/step - accuracy: 0.8237 - loss: 0.4198 - val_accuracy: 0.8033 - val_loss: 0.4778 - learning_rate: 6.9834e-04\n",
      "Epoch 9/20\n",
      "12/12 - 18s - 2s/step - accuracy: 0.8347 - loss: 0.4000 - val_accuracy: 0.8033 - val_loss: 0.4704 - learning_rate: 6.6342e-04\n",
      "Epoch 10/20\n",
      "12/12 - 18s - 2s/step - accuracy: 0.8320 - loss: 0.4354 - val_accuracy: 0.7623 - val_loss: 0.4836 - learning_rate: 6.3025e-04\n",
      "Epoch 11/20\n",
      "12/12 - 18s - 2s/step - accuracy: 0.8347 - loss: 0.4028 - val_accuracy: 0.7869 - val_loss: 0.4627 - learning_rate: 5.9874e-04\n",
      "Epoch 12/20\n",
      "12/12 - 18s - 2s/step - accuracy: 0.8375 - loss: 0.3642 - val_accuracy: 0.8115 - val_loss: 0.5211 - learning_rate: 5.6880e-04\n",
      "Epoch 13/20\n",
      "12/12 - 18s - 2s/step - accuracy: 0.8650 - loss: 0.3640 - val_accuracy: 0.8525 - val_loss: 0.3769 - learning_rate: 5.4036e-04\n",
      "Epoch 14/20\n",
      "12/12 - 18s - 2s/step - accuracy: 0.8705 - loss: 0.3391 - val_accuracy: 0.7951 - val_loss: 0.5847 - learning_rate: 5.1334e-04\n",
      "Epoch 15/20\n",
      "12/12 - 18s - 2s/step - accuracy: 0.8595 - loss: 0.3137 - val_accuracy: 0.8033 - val_loss: 0.4595 - learning_rate: 4.8767e-04\n",
      "Epoch 16/20\n",
      "12/12 - 18s - 2s/step - accuracy: 0.8898 - loss: 0.3035 - val_accuracy: 0.8115 - val_loss: 0.4582 - learning_rate: 4.6329e-04\n",
      "Epoch 17/20\n",
      "12/12 - 18s - 2s/step - accuracy: 0.8843 - loss: 0.2825 - val_accuracy: 0.8197 - val_loss: 0.4265 - learning_rate: 4.4013e-04\n",
      "Epoch 18/20\n",
      "12/12 - 18s - 2s/step - accuracy: 0.8926 - loss: 0.2595 - val_accuracy: 0.7951 - val_loss: 0.6193 - learning_rate: 4.1812e-04\n",
      "Epoch 19/20\n",
      "12/12 - 18s - 2s/step - accuracy: 0.9063 - loss: 0.2580 - val_accuracy: 0.8033 - val_loss: 0.4622 - learning_rate: 3.9721e-04\n",
      "Epoch 20/20\n",
      "12/12 - 18s - 2s/step - accuracy: 0.9063 - loss: 0.2576 - val_accuracy: 0.7951 - val_loss: 0.6151 - learning_rate: 3.7735e-04\n"
     ]
    }
   ],
   "source": [
    "epochs = 20\n",
    "history = model.fit(X_train, y_train, batch_size=32, epochs = epochs, \n",
    "validation_data = (X_test, y_test), callbacks=[annealer], verbose=2)"
   ]
  },
  {
   "cell_type": "code",
   "execution_count": 269,
   "id": "df55b189-a719-4394-a01d-b08f67485763",
   "metadata": {
    "tags": []
   },
   "outputs": [
    {
     "name": "stdout",
     "output_type": "stream",
     "text": [
      "WARNING:tensorflow:6 out of the last 11 calls to <function TensorFlowTrainer.make_predict_function.<locals>.one_step_on_data_distributed at 0x0000024AFB73D940> triggered tf.function retracing. Tracing is expensive and the excessive number of tracings could be due to (1) creating @tf.function repeatedly in a loop, (2) passing tensors with different shapes, (3) passing Python objects instead of tensors. For (1), please define your @tf.function outside of the loop. For (2), @tf.function has reduce_retracing=True option that can avoid unnecessary retracing. For (3), please refer to https://www.tensorflow.org/guide/function#controlling_retracing and https://www.tensorflow.org/api_docs/python/tf/function for  more details.\n",
      "\u001b[1m1/1\u001b[0m \u001b[32m━━━━━━━━━━━━━━━━━━━━\u001b[0m\u001b[37m\u001b[0m \u001b[1m0s\u001b[0m 283ms/step\n"
     ]
    }
   ],
   "source": [
    "Daytime_predictions = model.predict(test_images)\n",
    "\n",
    "Daytime_predictions = (Daytime_predictions >= .5).astype(int)"
   ]
  },
  {
   "cell_type": "code",
   "execution_count": 271,
   "id": "d7161476-1a3f-46e2-b3a7-0b09ac0bda47",
   "metadata": {
    "tags": []
   },
   "outputs": [
    {
     "data": {
      "image/png": "[encoded data removed]",
      "text/plain": [
       "<Figure size 1500x500 with 1 Axes>"
      ]
     },
     "metadata": {},
     "output_type": "display_data"
    }
   ],
   "source": [
    "plt.figure(figsize=(15,5))\n",
    "plt.plot(history.history['val_accuracy'])\n",
    "plt.title('model accuracy')\n",
    "plt.ylabel('accuracy')\n",
    "plt.xlabel('epoch')\n",
    "axes = plt.gca()\n",
    "axes.set_ylim([0.60, 1])\n",
    "plt.show()"
   ]
  },
  {
   "cell_type": "markdown",
   "id": "41daad61-ccb4-42c2-8e13-f6bbd45a9afb",
   "metadata": {
    "tags": []
   },
   "source": [
    "## CNN - Children"
   ]
  },
  {
   "cell_type": "code",
   "execution_count": 273,
   "id": "8d11912d-8c41-4fc8-9b62-643255b9d775",
   "metadata": {
    "tags": []
   },
   "outputs": [],
   "source": [
    "X = merged_dataset[:, 0:924000]\n",
    "X = X / 255.0\n",
    "y = merged_dataset[:, attr_dict[\"Children\"]]\n",
    "\n",
    "X_train, X_test, y_train, y_test = train_test_split(X, y)\n",
    "X_train = X_train.reshape(X_train.shape[0],700,440,3)\n",
    "X_test = X_test.reshape(X_test.shape[0],700,440,3)\n",
    "\n",
    "annealer = LearningRateScheduler(lambda x: 1e-3 * 0.95 ** x, verbose=0)\n",
    "styles=[':','-.','--','-',':','-.','--','-',':','-.','--','-']"
   ]
  },
  {
   "cell_type": "code",
   "execution_count": 275,
   "id": "7df5daf4-5a37-4e1a-bfe7-3c8c2bd21621",
   "metadata": {
    "tags": []
   },
   "outputs": [
    {
     "name": "stderr",
     "output_type": "stream",
     "text": [
      "C:\\Users\\Bnkes\\anaconda3\\Lib\\site-packages\\keras\\src\\layers\\convolutional\\base_conv.py:107: UserWarning: Do not pass an `input_shape`/`input_dim` argument to a layer. When using Sequential models, prefer using an `Input(shape)` object as the first layer in the model instead.\n",
      "  super().__init__(activity_regularizer=activity_regularizer, **kwargs)\n"
     ]
    }
   ],
   "source": [
    "model = Sequential()\n",
    "model.add(Conv2D(24,kernel_size=5,padding='same',activation='relu',\n",
    "        input_shape=(700,440,3)))\n",
    "model.add(MaxPool2D())\n",
    "model.add(Conv2D(48,kernel_size=5,padding='same',activation='relu'))\n",
    "model.add(MaxPool2D())\n",
    "model.add(Conv2D(64,kernel_size=5,padding='same',activation='relu'))\n",
    "model.add(MaxPool2D(padding='same'))\n",
    "model.add(Flatten())\n",
    "model.add(Dense(256, activation='relu'))\n",
    "model.add(Dense(1, activation='sigmoid'))\n",
    "model.compile(optimizer=\"adam\", loss=\"binary_crossentropy\", metrics=[\"accuracy\"])"
   ]
  },
  {
   "cell_type": "code",
   "execution_count": 277,
   "id": "38734fe9-9ec9-4acb-b030-81845cd54d56",
   "metadata": {
    "tags": []
   },
   "outputs": [
    {
     "name": "stdout",
     "output_type": "stream",
     "text": [
      "Epoch 1/20\n",
      "12/12 - 22s - 2s/step - accuracy: 0.8430 - loss: 3.0280 - val_accuracy: 0.4672 - val_loss: 0.7531 - learning_rate: 0.0010\n",
      "Epoch 2/20\n",
      "12/12 - 18s - 2s/step - accuracy: 0.8843 - loss: 0.3572 - val_accuracy: 0.9016 - val_loss: 0.3187 - learning_rate: 9.5000e-04\n",
      "Epoch 3/20\n",
      "12/12 - 18s - 2s/step - accuracy: 0.9256 - loss: 0.2699 - val_accuracy: 0.9016 - val_loss: 0.2938 - learning_rate: 9.0250e-04\n",
      "Epoch 4/20\n",
      "12/12 - 18s - 2s/step - accuracy: 0.9256 - loss: 0.2519 - val_accuracy: 0.9016 - val_loss: 0.2882 - learning_rate: 8.5737e-04\n",
      "Epoch 5/20\n",
      "12/12 - 18s - 2s/step - accuracy: 0.9256 - loss: 0.2450 - val_accuracy: 0.9016 - val_loss: 0.2993 - learning_rate: 8.1451e-04\n",
      "Epoch 6/20\n",
      "12/12 - 18s - 2s/step - accuracy: 0.9256 - loss: 0.2857 - val_accuracy: 0.9016 - val_loss: 0.2777 - learning_rate: 7.7378e-04\n",
      "Epoch 7/20\n",
      "12/12 - 18s - 2s/step - accuracy: 0.9256 - loss: 0.2397 - val_accuracy: 0.9016 - val_loss: 0.2870 - learning_rate: 7.3509e-04\n",
      "Epoch 8/20\n",
      "12/12 - 18s - 2s/step - accuracy: 0.9256 - loss: 0.2345 - val_accuracy: 0.9016 - val_loss: 0.2847 - learning_rate: 6.9834e-04\n",
      "Epoch 9/20\n",
      "12/12 - 18s - 2s/step - accuracy: 0.9256 - loss: 0.2351 - val_accuracy: 0.9016 - val_loss: 0.2932 - learning_rate: 6.6342e-04\n",
      "Epoch 10/20\n",
      "12/12 - 18s - 2s/step - accuracy: 0.9256 - loss: 0.2321 - val_accuracy: 0.9016 - val_loss: 0.2810 - learning_rate: 6.3025e-04\n",
      "Epoch 11/20\n",
      "12/12 - 18s - 2s/step - accuracy: 0.9256 - loss: 0.2218 - val_accuracy: 0.9016 - val_loss: 0.2823 - learning_rate: 5.9874e-04\n",
      "Epoch 12/20\n",
      "12/12 - 18s - 2s/step - accuracy: 0.9256 - loss: 0.2198 - val_accuracy: 0.8934 - val_loss: 0.2714 - learning_rate: 5.6880e-04\n",
      "Epoch 13/20\n",
      "12/12 - 18s - 2s/step - accuracy: 0.9339 - loss: 0.2434 - val_accuracy: 0.9016 - val_loss: 0.3496 - learning_rate: 5.4036e-04\n",
      "Epoch 14/20\n",
      "12/12 - 18s - 2s/step - accuracy: 0.9174 - loss: 0.2445 - val_accuracy: 0.9016 - val_loss: 0.3275 - learning_rate: 5.1334e-04\n",
      "Epoch 15/20\n",
      "12/12 - 18s - 2s/step - accuracy: 0.9229 - loss: 0.2144 - val_accuracy: 0.9016 - val_loss: 0.2918 - learning_rate: 4.8767e-04\n",
      "Epoch 16/20\n",
      "12/12 - 18s - 2s/step - accuracy: 0.9311 - loss: 0.2100 - val_accuracy: 0.9016 - val_loss: 0.3367 - learning_rate: 4.6329e-04\n",
      "Epoch 17/20\n",
      "12/12 - 18s - 2s/step - accuracy: 0.9366 - loss: 0.2062 - val_accuracy: 0.9016 - val_loss: 0.3028 - learning_rate: 4.4013e-04\n",
      "Epoch 18/20\n",
      "12/12 - 18s - 2s/step - accuracy: 0.9311 - loss: 0.2074 - val_accuracy: 0.9016 - val_loss: 0.3281 - learning_rate: 4.1812e-04\n",
      "Epoch 19/20\n",
      "12/12 - 18s - 2s/step - accuracy: 0.9366 - loss: 0.2056 - val_accuracy: 0.8934 - val_loss: 0.2844 - learning_rate: 3.9721e-04\n",
      "Epoch 20/20\n",
      "12/12 - 18s - 2s/step - accuracy: 0.9311 - loss: 0.2234 - val_accuracy: 0.9016 - val_loss: 0.2688 - learning_rate: 3.7735e-04\n"
     ]
    }
   ],
   "source": [
    "epochs = 20\n",
    "history = model.fit(X_train, y_train, batch_size=32, epochs = epochs, \n",
    "validation_data = (X_test, y_test), callbacks=[annealer], verbose=2)"
   ]
  },
  {
   "cell_type": "code",
   "execution_count": 279,
   "id": "0564b4b9-28c3-424e-a9c0-e8aacee34043",
   "metadata": {
    "tags": []
   },
   "outputs": [
    {
     "name": "stdout",
     "output_type": "stream",
     "text": [
      "\u001b[1m1/1\u001b[0m \u001b[32m━━━━━━━━━━━━━━━━━━━━\u001b[0m\u001b[37m\u001b[0m \u001b[1m0s\u001b[0m 276ms/step\n"
     ]
    }
   ],
   "source": [
    "Child_predictions = model.predict(test_images)\n",
    "\n",
    "Child_predictions = (Child_predictions >= .5).astype(int)"
   ]
  },
  {
   "cell_type": "code",
   "execution_count": 283,
   "id": "d75b6c00-05ff-47f5-a0b0-eccede2ae98e",
   "metadata": {
    "tags": []
   },
   "outputs": [
    {
     "data": {
      "image/png": "[encoded data removed]",
      "text/plain": [
       "<Figure size 1500x500 with 1 Axes>"
      ]
     },
     "metadata": {},
     "output_type": "display_data"
    }
   ],
   "source": [
    "plt.figure(figsize=(15,5))\n",
    "plt.plot(history.history['val_accuracy'])\n",
    "plt.title('model accuracy')\n",
    "plt.ylabel('accuracy')\n",
    "plt.xlabel('epoch')\n",
    "axes = plt.gca()\n",
    "axes.set_ylim([0.40, 1])\n",
    "plt.show()"
   ]
  },
  {
   "cell_type": "code",
   "execution_count": null,
   "id": "69b3fce2-1cc7-4732-bae9-e82d62aefccc",
   "metadata": {},
   "outputs": [],
   "source": []
  }
 ],
 "metadata": {
  "kernelspec": {
   "display_name": "Python 3 (ipykernel)",
   "language": "python",
   "name": "python3"
  },
  "language_info": {
   "codemirror_mode": {
    "name": "ipython",
    "version": 3
   },
   "file_extension": ".py",
   "mimetype": "text/x-python",
   "name": "python",
   "nbconvert_exporter": "python",
   "pygments_lexer": "ipython3",
   "version": "3.11.5"
  }
 },
 "nbformat": 4,
 "nbformat_minor": 5
}
