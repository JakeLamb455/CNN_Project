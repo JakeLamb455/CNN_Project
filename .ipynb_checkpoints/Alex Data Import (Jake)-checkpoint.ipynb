{
 "cells": [
  {
   "cell_type": "code",
   "execution_count": 52,
   "id": "6b28496b",
   "metadata": {},
   "outputs": [],
   "source": [
    "from PIL import Image\n",
    "import os\n",
    "import numpy as np\n",
    "import pandas as pd\n",
    "import csv"
   ]
  },
  {
   "cell_type": "code",
   "execution_count": 53,
   "id": "20764d01",
   "metadata": {},
   "outputs": [],
   "source": [
    "alex_images_path = \"Alex_Kelly_Pics/Alex\"\n",
    "kelly_images_path = \"Alex_Kelly_Pics/Kelly\"\n",
    "test_images_path = \"Alex_Kelly_Pics/TestSet\"\n",
    "\n",
    "def load_images_from_folder(folder):\n",
    "    images = []\n",
    "    for filename in os.listdir(folder):\n",
    "        img = Image.open(os.path.join(folder, filename))\n",
    "        if img is not None:\n",
    "            images.append(np.array(img))\n",
    "    return images\n",
    "\n",
    "alex_images = load_images_from_folder(alex_images_path)\n",
    "kelly_images = load_images_from_folder(kelly_images_path)\n",
    "test_images = load_images_from_folder(test_images_path)"
   ]
  },
  {
   "cell_type": "code",
   "execution_count": 55,
   "id": "7cc3b16d",
   "metadata": {},
   "outputs": [
    {
     "name": "stdout",
     "output_type": "stream",
     "text": [
      "Templates have been written to Image_Descriptions.csv\n"
     ]
    }
   ],
   "source": [
    "image_names = os.listdir(alex_images_path) + os.listdir(kelly_images_path)\n",
    "\n",
    "classifiers = [\"image_name\", \"Human\", \"Castle\", \"indoors\", \"landscape\", \"Animal\", \"Vehicle\", \"Night\", \"Weather\"]\n",
    "\n",
    "with open(\"Image_Descriptions.csv\", \"w\", newline='') as file:\n",
    "    writer = csv.writer(file)\n",
    "    writer.writerow(classifiers)\n",
    "    \n",
    "    for image_name in image_names:\n",
    "        row = [image_name] + [\"\"] * (len(header) - 1)\n",
    "        writer.writerow(row)\n",
    "\n",
    "print(\"Templates have been written to Image_Descriptions.csv\")\n"
   ]
  },
  {
   "cell_type": "code",
   "execution_count": null,
   "id": "636f9b0d",
   "metadata": {},
   "outputs": [],
   "source": []
  }
 ],
 "metadata": {
  "kernelspec": {
   "display_name": "Python 3 (ipykernel)",
   "language": "python",
   "name": "python3"
  },
  "language_info": {
   "codemirror_mode": {
    "name": "ipython",
    "version": 3
   },
   "file_extension": ".py",
   "mimetype": "text/x-python",
   "name": "python",
   "nbconvert_exporter": "python",
   "pygments_lexer": "ipython3",
   "version": "3.11.4"
  }
 },
 "nbformat": 4,
 "nbformat_minor": 5
}
